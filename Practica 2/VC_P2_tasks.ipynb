{
 "cells": [
  {
   "cell_type": "code",
   "execution_count": 1,
   "metadata": {},
   "outputs": [],
   "source": [
    "import cv2  \n",
    "import numpy as np\n",
    "import matplotlib.pyplot as plt"
   ]
  },
  {
   "cell_type": "markdown",
   "metadata": {},
   "source": [
    "TAREA: Proponer un demostrador que capture las imágenes de la cámara, y les permita exhibir lo aprendido en estas dos prácticas ante quienes no cursen la asignatura :). Es por ello que además de poder mostrar la imagen original de la webcam, incluya al menos dos usos diferentes de aplicar las funciones de OpenCV trabajadas hasta ahora."
   ]
  },
  {
   "cell_type": "markdown",
   "metadata": {},
   "source": [
    "Uso número 1: Aplicamos el algoritmo Canny para la detección de bordes en una imagen."
   ]
  },
  {
   "cell_type": "code",
   "execution_count": 2,
   "metadata": {},
   "outputs": [],
   "source": [
    "# Capturamos el video desde la webcam\n",
    "\n",
    "cam = cv2.VideoCapture(0)\n",
    "\n",
    "while True:\n",
    "\n",
    "    #Capturamos fotograma por fotograma\n",
    "    ret, frame = cam.read()\n",
    "\n",
    "    if ret:\n",
    "\n",
    "        # Valor para el umbralizado posterior\n",
    "        threshold = 150\n",
    "\n",
    "        frame_to_gray = cv2.cvtColor(frame, cv2.COLOR_BGR2GRAY)\n",
    "\n",
    "        # Aplicar desenfoque para reducir el ruido y evitar detecciones falsas de bordes\n",
    "        frame_blurred_canny = cv2.GaussianBlur(frame_to_gray, (5, 5), 1.4)\n",
    "        frame_blurred_sobel = cv2.GaussianBlur(frame_to_gray, (3, 3), 0)\n",
    "\n",
    "        # Detectar bordes utilizando el algoritmo de Canny, ajustando el umbral superior e inferior para mayor o menor sensibilidad\n",
    "        # Threshold1: bordes fuertes; Threshold2: bordes débiles.\n",
    "        frame_canny = cv2.Canny(frame_blurred_canny, threshold1=30, threshold2=90)\n",
    "\n",
    "        # Detección de bordes en ambas direcciones (X e Y), y luego combinando, utilizando el algoritmo de Sobel\n",
    "        frame_sobel_x = cv2.Sobel(frame_blurred_sobel, cv2.CV_64F, 1, 0)    # X\n",
    "        frame_sobel_y = cv2.Sobel(frame_blurred_sobel, cv2.CV_64F, 0, 1)    # Y\n",
    "        frame_sobel = cv2.add(frame_sobel_x, frame_sobel_y)                 # Combinamos X e Y\n",
    "\n",
    "        # Calcular la magnitud del gradiente\n",
    "        magnitud = np.sqrt(frame_sobel_x**2 + frame_sobel_y**2)\n",
    "        # Convertir la magnitud a uint8\n",
    "        magnitud = np.uint8(magnitud / np.max(magnitud) * 255)\n",
    "\n",
    "        # Opcional: aplicar umbral para resaltar bordes más definidos\n",
    "        _, frame_sobel = cv2.threshold(magnitud, 70, 255, cv2.THRESH_BINARY)\n",
    "\n",
    "        # Umbralización binaria del video\n",
    "        _, frame_threshold = cv2.threshold(frame_to_gray, threshold, 255, cv2.THRESH_BINARY)\n",
    "\n",
    "\n",
    "        # Mostrar el fotograma original y el de bordes\n",
    "        cv2.imshow('Video original', frame)\n",
    "        cv2.imshow('Deteccion de bordes Canny', frame_canny)\n",
    "        cv2.imshow('Deteccion de bordes Sobel', frame_sobel)\n",
    "        cv2.imshow('Umbralizado', frame_threshold)\n",
    "\n",
    "    # Detenemos pulsado ESC\n",
    "    if cv2.waitKey(20) == 27:\n",
    "        break\n",
    "\n",
    "\n",
    "# Libera el objeto de captura\n",
    "cam.release()\n",
    "# Destruye ventanas\n",
    "cv2.destroyAllWindows()\n"
   ]
  },
  {
   "cell_type": "markdown",
   "metadata": {},
   "source": [
    "La última tarea consiste en la detección de caras y su respectivo pixelado en tiempo real, a través de la página web."
   ]
  },
  {
   "cell_type": "code",
   "execution_count": 22,
   "metadata": {},
   "outputs": [],
   "source": [
    "face_cascade = cv2.CascadeClassifier('haarcascade_frontalface_default.xml')\n",
    "cam = cv2.VideoCapture(0)\n",
    "\n",
    "def pixelate(image, blocks=10):\n",
    "    # Obtiene las dimensiones de la imagen\n",
    "    height, width = image.shape[:2]\n",
    "\n",
    "    # Calcula el tamaño de cada bloque\n",
    "    x_steps = width // blocks\n",
    "    y_steps = height // blocks\n",
    "\n",
    "    # Itera sobre la imagen en bloques\n",
    "    for y in range(0, height, y_steps):\n",
    "        for x in range(0, width, x_steps):\n",
    "            # Define la región del bloque\n",
    "            roi = image[y:y+y_steps, x:x+x_steps]\n",
    "\n",
    "            # Calcula el color medio del bloque\n",
    "            (B, G, R) = [int(x) for x in cv2.mean(roi)[:3]]\n",
    "\n",
    "            # Asigna el color medio al bloque\n",
    "            cv2.rectangle(image, (x, y), (x + x_steps, y + y_steps), (B, G, R), -1)\n",
    "\n",
    "    return image\n",
    "\n",
    "while True:\n",
    "    \n",
    "    # Capturamos frame a frame\n",
    "    ret, frame = cam.read()\n",
    "\n",
    "    if ret:\n",
    "\n",
    "        frame_to_gray = cv2.cvtColor(frame, cv2.COLOR_BGR2GRAY)\n",
    "\n",
    "        # Detección de la cara detectando rectámngilos que delimitan el objeto especificado (cara ya que viene del objeto face_cascade )\n",
    "        face_detection = face_cascade.detectMultiScale(frame_to_gray, scaleFactor=1.1, minNeighbors=5)\n",
    "\n",
    "        for (x, y, w, h) in face_detection:\n",
    "            face_roi = frame[y:y+h, x:x+w]\n",
    "            pixelated_face = pixelate(face_roi, blocks=15)\n",
    "            frame[y:y+h, x:x+w] = pixelated_face\n",
    "\n",
    "\n",
    "    cv2.imshow('Pixelado en Tiempo Real', frame)\n",
    "\n",
    "    # Detenemos pulsado ESC\n",
    "    if cv2.waitKey(20) == 27:\n",
    "        break\n",
    "\n",
    "cam.release()\n",
    "cv2.destroyAllWindows()\n",
    "\n",
    "    \n",
    "\n"
   ]
  }
 ],
 "metadata": {
  "kernelspec": {
   "display_name": "VC_P2",
   "language": "python",
   "name": "python3"
  },
  "language_info": {
   "codemirror_mode": {
    "name": "ipython",
    "version": 3
   },
   "file_extension": ".py",
   "mimetype": "text/x-python",
   "name": "python",
   "nbconvert_exporter": "python",
   "pygments_lexer": "ipython3",
   "version": "3.11.5"
  }
 },
 "nbformat": 4,
 "nbformat_minor": 2
}
