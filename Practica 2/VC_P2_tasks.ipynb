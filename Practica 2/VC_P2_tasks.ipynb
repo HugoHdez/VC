{
 "cells": [
  {
   "cell_type": "code",
   "execution_count": 2,
   "metadata": {},
   "outputs": [],
   "source": [
    "import cv2  \n",
    "import numpy as np\n",
    "import matplotlib.pyplot as plt"
   ]
  },
  {
   "cell_type": "markdown",
   "metadata": {},
   "source": [
    "TAREA: Proponer un demostrador que capture las imágenes de la cámara, y les permita exhibir lo aprendido en estas dos prácticas ante quienes no cursen la asignatura :). Es por ello que además de poder mostrar la imagen original de la webcam, incluya al menos dos usos diferentes de aplicar las funciones de OpenCV trabajadas hasta ahora."
   ]
  },
  {
   "cell_type": "markdown",
   "metadata": {},
   "source": [
    "Uso número 1: Aplicamos el algoritmo Canny para la detección de bordes en una imagen."
   ]
  },
  {
   "cell_type": "code",
   "execution_count": 12,
   "metadata": {},
   "outputs": [],
   "source": [
    "# Capturamos el video desde la webcam\n",
    "\n",
    "cam = cv2.VideoCapture(0)\n",
    "\n",
    "while True:\n",
    "\n",
    "    #Capturamos fotograma por fotograma\n",
    "    ret, frame = cam.read()\n",
    "\n",
    "    if ret:\n",
    "\n",
    "        # Valor para el umbralizado posterior\n",
    "        threshold = 150\n",
    "\n",
    "        frame_to_gray = cv2.cvtColor(frame, cv2.COLOR_BGR2GRAY)\n",
    "\n",
    "        # Aplicar desenfoque para reducir el ruido y evitar detecciones falsas de bordes\n",
    "        frame_blurred_canny = cv2.GaussianBlur(frame_to_gray, (5, 5), 1.4)\n",
    "        frame_blurred_sobel = cv2.GaussianBlur(frame_to_gray, (3, 3), 0)\n",
    "\n",
    "        # Detectar bordes utilizando el algoritmo de Canny, ajustando el umbral superior e inferior para mayor o menor sensibilidad\n",
    "        # Threshold1: bordes fuertes; Threshold2: bordes débiles.\n",
    "        frame_canny = cv2.Canny(frame_blurred_canny, threshold1=30, threshold2=90)\n",
    "\n",
    "        # Detección de bordes en ambas direcciones (X e Y), y luego combinando, utilizando el algoritmo de Sobel\n",
    "        frame_sobel_x = cv2.Sobel(frame_blurred_sobel, cv2.CV_64F, 1, 0)    # X\n",
    "        frame_sobel_y = cv2.Sobel(frame_blurred_sobel, cv2.CV_64F, 0, 1)    # Y\n",
    "        frame_sobel = cv2.add(frame_sobel_x, frame_sobel_y)                 # Combinamos X e Y\n",
    "\n",
    "        # Calcular la magnitud del gradiente\n",
    "        magnitud = np.sqrt(frame_sobel_x**2 + frame_sobel_y**2)\n",
    "        # Convertir la magnitud a uint8\n",
    "        magnitud = np.uint8(magnitud / np.max(magnitud) * 255)\n",
    "\n",
    "        # Opcional: aplicar umbral para resaltar bordes más definidos\n",
    "        _, frame_sobel = cv2.threshold(magnitud, 70, 255, cv2.THRESH_BINARY)\n",
    "\n",
    "        # Umbralización binaria del video\n",
    "        _, frame_threshold = cv2.threshold(frame_to_gray, threshold, 255, cv2.THRESH_BINARY)\n",
    "\n",
    "\n",
    "        # Mostrar el fotograma original y el de bordes\n",
    "        cv2.imshow('Video original', frame)\n",
    "        cv2.imshow('Deteccion de bordes Canny', frame_canny)\n",
    "        cv2.imshow('Deteccion de bordes Sobel', frame_sobel)\n",
    "        cv2.imshow('Umbralizado', frame_threshold)\n",
    "\n",
    "    # Detenemos pulsado ESC\n",
    "    if cv2.waitKey(20) == 27:\n",
    "        break\n",
    "\n",
    "\n",
    "# Libera el objeto de captura\n",
    "cam.release()\n",
    "# Destruye ventanas\n",
    "cv2.destroyAllWindows()\n"
   ]
  }
 ],
 "metadata": {
  "kernelspec": {
   "display_name": "VC_P2",
   "language": "python",
   "name": "python3"
  },
  "language_info": {
   "codemirror_mode": {
    "name": "ipython",
    "version": 3
   },
   "file_extension": ".py",
   "mimetype": "text/x-python",
   "name": "python",
   "nbconvert_exporter": "python",
   "pygments_lexer": "ipython3",
   "version": "3.11.5"
  }
 },
 "nbformat": 4,
 "nbformat_minor": 2
}
