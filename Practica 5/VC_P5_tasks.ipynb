{
 "cells": [
  {
   "attachments": {},
   "cell_type": "markdown",
   "id": "643c68d5",
   "metadata": {},
   "source": [
    "# Process from webcam"
   ]
  },
  {
   "cell_type": "code",
   "execution_count": null,
   "id": "a5656d9f",
   "metadata": {},
   "outputs": [
    {
     "name": "stdout",
     "output_type": "stream",
     "text": [
      "WARNING:tensorflow:From c:\\Users\\hugoh\\anaconda3\\envs\\VC_P5\\Lib\\site-packages\\tf_keras\\src\\losses.py:2976: The name tf.losses.sparse_softmax_cross_entropy is deprecated. Please use tf.compat.v1.losses.sparse_softmax_cross_entropy instead.\n",
      "\n"
     ]
    },
    {
     "name": "stderr",
     "output_type": "stream",
     "text": [
      "Action: emotion: 100%|██████████| 2/2 [00:02<00:00,  1.03s/it]\n"
     ]
    },
    {
     "name": "stdout",
     "output_type": "stream",
     "text": [
      "[{'gender': {'Woman': 25.952187180519104, 'Man': 74.04781579971313}, 'dominant_gender': 'Man', 'region': {'x': 0, 'y': 0, 'w': 639, 'h': 479, 'left_eye': None, 'right_eye': None}, 'face_confidence': 0, 'emotion': {'angry': 0.02195222332375124, 'disgust': 5.74142788867249e-08, 'fear': 0.0020358160327305086, 'happy': 65.80989956855774, 'sad': 0.8803783915936947, 'surprise': 0.37849624641239643, 'neutral': 32.90724158287048}, 'dominant_emotion': 'happy'}]\n"
     ]
    },
    {
     "name": "stderr",
     "output_type": "stream",
     "text": [
      "Action: emotion: 100%|██████████| 2/2 [00:00<00:00,  7.21it/s]\n"
     ]
    },
    {
     "name": "stdout",
     "output_type": "stream",
     "text": [
      "[{'gender': {'Woman': 2.823495678603649, 'Man': 97.17650413513184}, 'dominant_gender': 'Man', 'region': {'x': 0, 'y': 0, 'w': 639, 'h': 479, 'left_eye': None, 'right_eye': None}, 'face_confidence': 0, 'emotion': {'angry': 0.0010544945325818844, 'disgust': 3.3379850668474945e-12, 'fear': 7.546906033439882e-06, 'happy': 25.9466290473938, 'sad': 70.51373720169067, 'surprise': 1.885182954837125e-12, 'neutral': 3.5385772585868835}, 'dominant_emotion': 'sad'}]\n"
     ]
    },
    {
     "name": "stderr",
     "output_type": "stream",
     "text": [
      "Action: emotion: 100%|██████████| 2/2 [00:00<00:00,  8.02it/s]\n"
     ]
    },
    {
     "name": "stdout",
     "output_type": "stream",
     "text": [
      "[{'gender': {'Woman': 2.8313327580690384, 'Man': 97.16866612434387}, 'dominant_gender': 'Man', 'region': {'x': 0, 'y': 0, 'w': 639, 'h': 479, 'left_eye': None, 'right_eye': None}, 'face_confidence': 0, 'emotion': {'angry': 0.00120594750114833, 'disgust': 5.822427907647629e-12, 'fear': 1.1249780840216772e-05, 'happy': 15.318968892097473, 'sad': 79.14150953292847, 'surprise': 3.317873794174246e-12, 'neutral': 5.538306012749672}, 'dominant_emotion': 'sad'}]\n"
     ]
    },
    {
     "name": "stderr",
     "output_type": "stream",
     "text": [
      "Action: emotion: 100%|██████████| 2/2 [00:00<00:00,  7.69it/s]\n"
     ]
    },
    {
     "name": "stdout",
     "output_type": "stream",
     "text": [
      "[{'gender': {'Woman': 2.565295249223709, 'Man': 97.43470549583435}, 'dominant_gender': 'Man', 'region': {'x': 0, 'y': 0, 'w': 639, 'h': 479, 'left_eye': None, 'right_eye': None}, 'face_confidence': 0, 'emotion': {'angry': 0.0021206080418778583, 'disgust': 2.374432573302998e-12, 'fear': 9.24774283816987e-06, 'happy': 30.761414766311646, 'sad': 61.824822425842285, 'surprise': 1.7250146149287889e-12, 'neutral': 7.411634176969528}, 'dominant_emotion': 'sad'}]\n"
     ]
    },
    {
     "name": "stderr",
     "output_type": "stream",
     "text": [
      "Action: emotion: 100%|██████████| 2/2 [00:00<00:00,  8.31it/s]\n"
     ]
    },
    {
     "name": "stdout",
     "output_type": "stream",
     "text": [
      "[{'gender': {'Woman': 2.6242874562740326, 'Man': 97.37571477890015}, 'dominant_gender': 'Man', 'region': {'x': 0, 'y': 0, 'w': 639, 'h': 479, 'left_eye': None, 'right_eye': None}, 'face_confidence': 0, 'emotion': {'angry': 0.0008404932486882899, 'disgust': 3.9031051204648295e-12, 'fear': 2.7005023994775e-06, 'happy': 76.93189978599548, 'sad': 19.859303534030914, 'surprise': 2.938928533044796e-12, 'neutral': 3.2079603523015976}, 'dominant_emotion': 'happy'}]\n"
     ]
    },
    {
     "name": "stderr",
     "output_type": "stream",
     "text": [
      "Action: emotion: 100%|██████████| 2/2 [00:00<00:00,  8.54it/s]\n"
     ]
    },
    {
     "name": "stdout",
     "output_type": "stream",
     "text": [
      "[{'gender': {'Woman': 3.090067580342293, 'Man': 96.90993428230286}, 'dominant_gender': 'Man', 'region': {'x': 0, 'y': 0, 'w': 639, 'h': 479, 'left_eye': None, 'right_eye': None}, 'face_confidence': 0, 'emotion': {'angry': 0.001843465687100675, 'disgust': 4.2629757485329204e-10, 'fear': 3.904623998290047e-05, 'happy': 41.51926737794073, 'sad': 54.38085146178586, 'surprise': 3.263502089199684e-11, 'neutral': 4.097996908665072}, 'dominant_emotion': 'sad'}]\n"
     ]
    },
    {
     "name": "stderr",
     "output_type": "stream",
     "text": [
      "Action: emotion: 100%|██████████| 2/2 [00:00<00:00,  8.29it/s]\n"
     ]
    },
    {
     "name": "stdout",
     "output_type": "stream",
     "text": [
      "[{'gender': {'Woman': 2.1864015609025955, 'Man': 97.81360030174255}, 'dominant_gender': 'Man', 'region': {'x': 0, 'y': 0, 'w': 639, 'h': 479, 'left_eye': None, 'right_eye': None}, 'face_confidence': 0, 'emotion': {'angry': 0.011238368460908532, 'disgust': 7.892542549419249e-12, 'fear': 0.00348252069670707, 'happy': 0.0012743833394779358, 'sad': 85.1591408252716, 'surprise': 2.4556096698690084e-12, 'neutral': 14.824862778186798}, 'dominant_emotion': 'sad'}]\n"
     ]
    },
    {
     "name": "stderr",
     "output_type": "stream",
     "text": [
      "Action: emotion: 100%|██████████| 2/2 [00:00<00:00,  8.91it/s]\n"
     ]
    },
    {
     "name": "stdout",
     "output_type": "stream",
     "text": [
      "[{'gender': {'Woman': 3.142034634947777, 'Man': 96.8579649925232}, 'dominant_gender': 'Man', 'region': {'x': 0, 'y': 0, 'w': 639, 'h': 479, 'left_eye': None, 'right_eye': None}, 'face_confidence': 0, 'emotion': {'angry': 2.6190571185384464, 'disgust': 3.837713018665868e-14, 'fear': 0.017772838659548828, 'happy': 0.6634793174105476, 'sad': 78.20621002949537, 'surprise': 9.679729383650931e-11, 'neutral': 18.49348059257749}, 'dominant_emotion': 'sad'}]\n"
     ]
    },
    {
     "name": "stderr",
     "output_type": "stream",
     "text": [
      "Action: emotion: 100%|██████████| 2/2 [00:00<00:00,  9.35it/s]\n"
     ]
    },
    {
     "name": "stdout",
     "output_type": "stream",
     "text": [
      "[{'gender': {'Woman': 3.7197019904851913, 'Man': 96.28030061721802}, 'dominant_gender': 'Man', 'region': {'x': 0, 'y': 0, 'w': 639, 'h': 479, 'left_eye': None, 'right_eye': None}, 'face_confidence': 0, 'emotion': {'angry': 0.2588298171758652, 'disgust': 4.426716155095378e-12, 'fear': 0.6688237655907869, 'happy': 0.03474063705652952, 'sad': 96.49519324302673, 'surprise': 1.9027489306377987e-08, 'neutral': 2.542412467300892}, 'dominant_emotion': 'sad'}]\n"
     ]
    },
    {
     "name": "stderr",
     "output_type": "stream",
     "text": [
      "Action: emotion: 100%|██████████| 2/2 [00:00<00:00,  8.83it/s]\n"
     ]
    },
    {
     "name": "stdout",
     "output_type": "stream",
     "text": [
      "[{'gender': {'Woman': 4.094341769814491, 'Man': 95.9056556224823}, 'dominant_gender': 'Man', 'region': {'x': 0, 'y': 0, 'w': 639, 'h': 479, 'left_eye': None, 'right_eye': None}, 'face_confidence': 0, 'emotion': {'angry': 7.095707952976227, 'disgust': 4.456412723650299e-11, 'fear': 1.0507249273359776, 'happy': 1.3673181645572186, 'sad': 90.30959606170654, 'surprise': 1.6285537154936414e-09, 'neutral': 0.17665527993813157}, 'dominant_emotion': 'sad'}]\n"
     ]
    },
    {
     "name": "stderr",
     "output_type": "stream",
     "text": [
      "Action: emotion: 100%|██████████| 2/2 [00:00<00:00,  8.30it/s]\n"
     ]
    },
    {
     "name": "stdout",
     "output_type": "stream",
     "text": [
      "[{'gender': {'Woman': 3.9315935224294662, 'Man': 96.06841206550598}, 'dominant_gender': 'Man', 'region': {'x': 0, 'y': 0, 'w': 639, 'h': 479, 'left_eye': None, 'right_eye': None}, 'face_confidence': 0, 'emotion': {'angry': 0.2753749256953597, 'disgust': 3.661380660463509e-10, 'fear': 6.000164523720741, 'happy': 1.3047253713011742, 'sad': 91.93251132965088, 'surprise': 2.1404052141793528e-08, 'neutral': 0.4872312303632498}, 'dominant_emotion': 'sad'}]\n"
     ]
    },
    {
     "name": "stderr",
     "output_type": "stream",
     "text": [
      "Action: emotion: 100%|██████████| 2/2 [00:00<00:00,  8.25it/s]\n"
     ]
    },
    {
     "name": "stdout",
     "output_type": "stream",
     "text": [
      "[{'gender': {'Woman': 3.0234113335609436, 'Man': 96.97659015655518}, 'dominant_gender': 'Man', 'region': {'x': 0, 'y': 0, 'w': 639, 'h': 479, 'left_eye': None, 'right_eye': None}, 'face_confidence': 0, 'emotion': {'angry': 0.002312396370061454, 'disgust': 1.7160623934421104e-18, 'fear': 0.5831696794873859, 'happy': 4.0837410503852464e-11, 'sad': 99.41344864208118, 'surprise': 1.0561993332789127e-18, 'neutral': 0.0010632676645722138}, 'dominant_emotion': 'sad'}]\n"
     ]
    },
    {
     "name": "stderr",
     "output_type": "stream",
     "text": [
      "Action: emotion: 100%|██████████| 2/2 [00:00<00:00,  7.46it/s]\n"
     ]
    },
    {
     "name": "stdout",
     "output_type": "stream",
     "text": [
      "[{'gender': {'Woman': 2.8099726885557175, 'Man': 97.1900224685669}, 'dominant_gender': 'Man', 'region': {'x': 0, 'y': 0, 'w': 639, 'h': 479, 'left_eye': None, 'right_eye': None}, 'face_confidence': 0, 'emotion': {'angry': 0.18975066486746073, 'disgust': 2.4954097274236877e-16, 'fear': 36.780765652656555, 'happy': 2.1211916667596142e-07, 'sad': 55.992019176483154, 'surprise': 3.6093090322042443e-10, 'neutral': 7.037462294101715}, 'dominant_emotion': 'sad'}]\n"
     ]
    },
    {
     "name": "stderr",
     "output_type": "stream",
     "text": [
      "Action: emotion: 100%|██████████| 2/2 [00:00<00:00,  8.15it/s]\n"
     ]
    },
    {
     "name": "stdout",
     "output_type": "stream",
     "text": [
      "[{'gender': {'Woman': 3.4775864332914352, 'Man': 96.52242064476013}, 'dominant_gender': 'Man', 'region': {'x': 0, 'y': 0, 'w': 639, 'h': 479, 'left_eye': None, 'right_eye': None}, 'face_confidence': 0, 'emotion': {'angry': 13.874505460262299, 'disgust': 5.670867421481152e-10, 'fear': 44.93646323680878, 'happy': 1.9733274355530739, 'sad': 39.1807496547699, 'surprise': 1.5250689600065925e-09, 'neutral': 0.03495533892419189}, 'dominant_emotion': 'fear'}]\n"
     ]
    },
    {
     "name": "stderr",
     "output_type": "stream",
     "text": [
      "Action: emotion: 100%|██████████| 2/2 [00:00<00:00,  8.45it/s]\n"
     ]
    },
    {
     "name": "stdout",
     "output_type": "stream",
     "text": [
      "[{'gender': {'Woman': 3.216851130127907, 'Man': 96.78314924240112}, 'dominant_gender': 'Man', 'region': {'x': 0, 'y': 0, 'w': 639, 'h': 479, 'left_eye': None, 'right_eye': None}, 'face_confidence': 0, 'emotion': {'angry': 2.722964225588097, 'disgust': 1.2804195486182836e-13, 'fear': 89.46649369397721, 'happy': 5.086835404445851, 'sad': 2.714278710739536, 'surprise': 1.595440263962352e-08, 'neutral': 0.009431401684283938}, 'dominant_emotion': 'fear'}]\n"
     ]
    },
    {
     "name": "stderr",
     "output_type": "stream",
     "text": [
      "Action: emotion: 100%|██████████| 2/2 [00:00<00:00,  9.13it/s]\n"
     ]
    },
    {
     "name": "stdout",
     "output_type": "stream",
     "text": [
      "[{'gender': {'Woman': 4.064452275633812, 'Man': 95.93554735183716}, 'dominant_gender': 'Man', 'region': {'x': 0, 'y': 0, 'w': 639, 'h': 479, 'left_eye': None, 'right_eye': None}, 'face_confidence': 0, 'emotion': {'angry': 26.07356309890747, 'disgust': 6.792932535915064e-10, 'fear': 0.028469960670918226, 'happy': 0.00583552427997347, 'sad': 72.96819686889648, 'surprise': 8.509988910386165e-12, 'neutral': 0.9239340201020241}, 'dominant_emotion': 'sad'}]\n"
     ]
    },
    {
     "name": "stderr",
     "output_type": "stream",
     "text": [
      "Action: emotion: 100%|██████████| 2/2 [00:00<00:00,  9.01it/s]\n"
     ]
    },
    {
     "name": "stdout",
     "output_type": "stream",
     "text": [
      "[{'gender': {'Woman': 5.870246887207031, 'Man': 94.12974715232849}, 'dominant_gender': 'Man', 'region': {'x': 0, 'y': 0, 'w': 639, 'h': 479, 'left_eye': None, 'right_eye': None}, 'face_confidence': 0, 'emotion': {'angry': 0.009818000984007551, 'disgust': 1.2805066744324313e-11, 'fear': 15.551636549927983, 'happy': 0.0006479669923148001, 'sad': 75.69253299787837, 'surprise': 1.6397352009896042e-06, 'neutral': 8.745369091353957}, 'dominant_emotion': 'sad'}]\n"
     ]
    },
    {
     "name": "stderr",
     "output_type": "stream",
     "text": [
      "Action: emotion: 100%|██████████| 2/2 [00:00<00:00,  9.00it/s]\n"
     ]
    },
    {
     "name": "stdout",
     "output_type": "stream",
     "text": [
      "[{'gender': {'Woman': 6.818678230047226, 'Man': 93.18131804466248}, 'dominant_gender': 'Man', 'region': {'x': 0, 'y': 0, 'w': 639, 'h': 479, 'left_eye': None, 'right_eye': None}, 'face_confidence': 0, 'emotion': {'angry': 0.013721674441942638, 'disgust': 3.707684216435402e-11, 'fear': 0.0008190753693653761, 'happy': 92.4484440745778, 'sad': 7.523833063383929, 'surprise': 6.430231274733493e-09, 'neutral': 0.013173147338756491}, 'dominant_emotion': 'happy'}]\n"
     ]
    },
    {
     "name": "stderr",
     "output_type": "stream",
     "text": [
      "Action: emotion: 100%|██████████| 2/2 [00:00<00:00,  9.01it/s]\n"
     ]
    },
    {
     "name": "stdout",
     "output_type": "stream",
     "text": [
      "[{'gender': {'Woman': 7.922836393117905, 'Man': 92.07716584205627}, 'dominant_gender': 'Man', 'region': {'x': 0, 'y': 0, 'w': 639, 'h': 479, 'left_eye': None, 'right_eye': None}, 'face_confidence': 0, 'emotion': {'angry': 2.0239846780896187, 'disgust': 4.71380183150738e-10, 'fear': 0.09855873649939895, 'happy': 41.34593904018402, 'sad': 31.511613726615906, 'surprise': 2.7436611316211668e-08, 'neutral': 25.01990497112274}, 'dominant_emotion': 'happy'}]\n"
     ]
    },
    {
     "name": "stderr",
     "output_type": "stream",
     "text": [
      "Action: emotion: 100%|██████████| 2/2 [00:00<00:00,  9.24it/s]\n"
     ]
    },
    {
     "name": "stdout",
     "output_type": "stream",
     "text": [
      "[{'gender': {'Woman': 8.42878669500351, 'Man': 91.57121181488037}, 'dominant_gender': 'Man', 'region': {'x': 0, 'y': 0, 'w': 639, 'h': 479, 'left_eye': None, 'right_eye': None}, 'face_confidence': 0, 'emotion': {'angry': 0.6336831022053957, 'disgust': 2.74827730017968e-10, 'fear': 0.15651368303224444, 'happy': 39.170101284980774, 'sad': 47.968706488609314, 'surprise': 7.591049316912901e-09, 'neutral': 12.071000784635544}, 'dominant_emotion': 'sad'}]\n"
     ]
    },
    {
     "name": "stderr",
     "output_type": "stream",
     "text": [
      "Action: emotion: 100%|██████████| 2/2 [00:00<00:00,  9.17it/s]\n"
     ]
    },
    {
     "name": "stdout",
     "output_type": "stream",
     "text": [
      "[{'gender': {'Woman': 8.392741531133652, 'Man': 91.60726070404053}, 'dominant_gender': 'Man', 'region': {'x': 0, 'y': 0, 'w': 639, 'h': 479, 'left_eye': None, 'right_eye': None}, 'face_confidence': 0, 'emotion': {'angry': 0.2203300959441123, 'disgust': 2.607102406493583e-10, 'fear': 0.04815677235092356, 'happy': 79.50018522144468, 'sad': 16.687719028456154, 'surprise': 5.244742106252862e-09, 'neutral': 3.543610709524793}, 'dominant_emotion': 'happy'}]\n"
     ]
    },
    {
     "name": "stderr",
     "output_type": "stream",
     "text": [
      "Action: emotion: 100%|██████████| 2/2 [00:00<00:00,  9.29it/s]\n"
     ]
    },
    {
     "name": "stdout",
     "output_type": "stream",
     "text": [
      "[{'gender': {'Woman': 8.055976033210754, 'Man': 91.94402694702148}, 'dominant_gender': 'Man', 'region': {'x': 0, 'y': 0, 'w': 639, 'h': 479, 'left_eye': None, 'right_eye': None}, 'face_confidence': 0, 'emotion': {'angry': 0.0030077711926423945, 'disgust': 1.5498636174362396e-12, 'fear': 7.341917012126942e-05, 'happy': 99.69118237495422, 'sad': 0.2415716415271163, 'surprise': 3.780940268987773e-12, 'neutral': 0.06416853866539896}, 'dominant_emotion': 'happy'}]\n"
     ]
    },
    {
     "name": "stderr",
     "output_type": "stream",
     "text": [
      "Action: emotion: 100%|██████████| 2/2 [00:00<00:00,  9.19it/s]\n"
     ]
    },
    {
     "name": "stdout",
     "output_type": "stream",
     "text": [
      "[{'gender': {'Woman': 7.85173624753952, 'Man': 92.14825630187988}, 'dominant_gender': 'Man', 'region': {'x': 0, 'y': 0, 'w': 639, 'h': 479, 'left_eye': None, 'right_eye': None}, 'face_confidence': 0, 'emotion': {'angry': 0.025782271404750645, 'disgust': 6.540123074317639e-13, 'fear': 1.6150427484262764e-05, 'happy': 98.98169040679932, 'sad': 0.5455514881759882, 'surprise': 7.29231060844597e-12, 'neutral': 0.446963869035244}, 'dominant_emotion': 'happy'}]\n"
     ]
    },
    {
     "name": "stderr",
     "output_type": "stream",
     "text": [
      "Action: emotion: 100%|██████████| 2/2 [00:00<00:00,  8.51it/s]\n"
     ]
    },
    {
     "name": "stdout",
     "output_type": "stream",
     "text": [
      "[{'gender': {'Woman': 7.618886232376099, 'Man': 92.3811137676239}, 'dominant_gender': 'Man', 'region': {'x': 0, 'y': 0, 'w': 639, 'h': 479, 'left_eye': None, 'right_eye': None}, 'face_confidence': 0, 'emotion': {'angry': 0.07231073104776442, 'disgust': 1.221893222589027e-12, 'fear': 9.879391882350319e-05, 'happy': 97.54941463470459, 'sad': 0.8976132608950138, 'surprise': 1.85520815289969e-11, 'neutral': 1.4805656857788563}, 'dominant_emotion': 'happy'}]\n"
     ]
    },
    {
     "name": "stderr",
     "output_type": "stream",
     "text": [
      "Action: emotion: 100%|██████████| 2/2 [00:00<00:00,  9.01it/s]\n"
     ]
    },
    {
     "name": "stdout",
     "output_type": "stream",
     "text": [
      "[{'gender': {'Woman': 8.45351293683052, 'Man': 91.54648780822754}, 'dominant_gender': 'Man', 'region': {'x': 0, 'y': 0, 'w': 639, 'h': 479, 'left_eye': None, 'right_eye': None}, 'face_confidence': 0, 'emotion': {'angry': 0.0018379191901202576, 'disgust': 2.652963676620419e-13, 'fear': 7.718533828066786e-06, 'happy': 99.6317684430938, 'sad': 0.22462856897733027, 'surprise': 1.1332913568666984e-12, 'neutral': 0.14175879449822273}, 'dominant_emotion': 'happy'}]\n"
     ]
    },
    {
     "name": "stderr",
     "output_type": "stream",
     "text": [
      "Action: emotion: 100%|██████████| 2/2 [00:00<00:00,  9.09it/s]\n"
     ]
    },
    {
     "name": "stdout",
     "output_type": "stream",
     "text": [
      "[{'gender': {'Woman': 8.16464051604271, 'Man': 91.83535575866699}, 'dominant_gender': 'Man', 'region': {'x': 0, 'y': 0, 'w': 639, 'h': 479, 'left_eye': None, 'right_eye': None}, 'face_confidence': 0, 'emotion': {'angry': 3.6640960843215e-05, 'disgust': 1.5085144335666e-13, 'fear': 1.3030454226736765e-05, 'happy': 99.88183379173279, 'sad': 0.1054704305715859, 'surprise': 9.68475872550412e-14, 'neutral': 0.012648565461859107}, 'dominant_emotion': 'happy'}]\n"
     ]
    },
    {
     "name": "stderr",
     "output_type": "stream",
     "text": [
      "Action: emotion: 100%|██████████| 2/2 [00:00<00:00,  9.12it/s]\n"
     ]
    },
    {
     "name": "stdout",
     "output_type": "stream",
     "text": [
      "[{'gender': {'Woman': 8.92680287361145, 'Man': 91.07319116592407}, 'dominant_gender': 'Man', 'region': {'x': 0, 'y': 0, 'w': 639, 'h': 479, 'left_eye': None, 'right_eye': None}, 'face_confidence': 0, 'emotion': {'angry': 0.00013239822465038742, 'disgust': 4.837138769907398e-13, 'fear': 5.2946933237763005e-05, 'happy': 99.76745247840881, 'sad': 0.22492408752441406, 'surprise': 1.5706465237091895e-13, 'neutral': 0.007437478052452207}, 'dominant_emotion': 'happy'}]\n"
     ]
    },
    {
     "name": "stderr",
     "output_type": "stream",
     "text": [
      "Action: emotion: 100%|██████████| 2/2 [00:00<00:00,  9.29it/s]\n"
     ]
    },
    {
     "name": "stdout",
     "output_type": "stream",
     "text": [
      "[{'gender': {'Woman': 9.149523824453354, 'Man': 90.85047841072083}, 'dominant_gender': 'Man', 'region': {'x': 0, 'y': 0, 'w': 639, 'h': 479, 'left_eye': None, 'right_eye': None}, 'face_confidence': 0, 'emotion': {'angry': 4.378401546949066e-05, 'disgust': 3.023951424136186e-13, 'fear': 2.4657204326953927e-05, 'happy': 99.79163407037461, 'sad': 0.1941805704753441, 'surprise': 6.95295982982068e-14, 'neutral': 0.014119399679956566}, 'dominant_emotion': 'happy'}]\n"
     ]
    },
    {
     "name": "stderr",
     "output_type": "stream",
     "text": [
      "Action: emotion: 100%|██████████| 2/2 [00:00<00:00,  9.54it/s]\n"
     ]
    },
    {
     "name": "stdout",
     "output_type": "stream",
     "text": [
      "[{'gender': {'Woman': 8.936604857444763, 'Man': 91.06339812278748}, 'dominant_gender': 'Man', 'region': {'x': 0, 'y': 0, 'w': 639, 'h': 479, 'left_eye': None, 'right_eye': None}, 'face_confidence': 0, 'emotion': {'angry': 0.00013288295122038107, 'disgust': 1.4385720643756155e-13, 'fear': 2.165583481428257e-05, 'happy': 99.35395121574402, 'sad': 0.5218567326664925, 'surprise': 6.339386747851092e-14, 'neutral': 0.12403997825458646}, 'dominant_emotion': 'happy'}]\n"
     ]
    },
    {
     "name": "stderr",
     "output_type": "stream",
     "text": [
      "Action: emotion: 100%|██████████| 2/2 [00:00<00:00,  9.39it/s]\n"
     ]
    },
    {
     "name": "stdout",
     "output_type": "stream",
     "text": [
      "[{'gender': {'Woman': 8.730994910001755, 'Man': 91.26900434494019}, 'dominant_gender': 'Man', 'region': {'x': 0, 'y': 0, 'w': 639, 'h': 479, 'left_eye': None, 'right_eye': None}, 'face_confidence': 0, 'emotion': {'angry': 0.0012606559721461963, 'disgust': 4.2276325804913376e-12, 'fear': 4.0962666503219225e-05, 'happy': 98.81806373596191, 'sad': 1.1713423766195774, 'surprise': 1.9422167695520588e-14, 'neutral': 0.00929241577978246}, 'dominant_emotion': 'happy'}]\n"
     ]
    },
    {
     "name": "stderr",
     "output_type": "stream",
     "text": [
      "Action: emotion: 100%|██████████| 2/2 [00:00<00:00,  9.35it/s]\n"
     ]
    },
    {
     "name": "stdout",
     "output_type": "stream",
     "text": [
      "[{'gender': {'Woman': 8.342815935611725, 'Man': 91.65717959403992}, 'dominant_gender': 'Man', 'region': {'x': 0, 'y': 0, 'w': 639, 'h': 479, 'left_eye': None, 'right_eye': None}, 'face_confidence': 0, 'emotion': {'angry': 0.0007206094323919388, 'disgust': 3.4922687724097236e-13, 'fear': 7.688725389698448e-06, 'happy': 99.76322650909424, 'sad': 0.2203887328505516, 'surprise': 5.374354699505979e-14, 'neutral': 0.01565622369525954}, 'dominant_emotion': 'happy'}]\n"
     ]
    },
    {
     "name": "stderr",
     "output_type": "stream",
     "text": [
      "Action: emotion: 100%|██████████| 2/2 [00:00<00:00,  9.11it/s]\n"
     ]
    },
    {
     "name": "stdout",
     "output_type": "stream",
     "text": [
      "[{'gender': {'Woman': 8.376390486955643, 'Man': 91.62361025810242}, 'dominant_gender': 'Man', 'region': {'x': 0, 'y': 0, 'w': 639, 'h': 479, 'left_eye': None, 'right_eye': None}, 'face_confidence': 0, 'emotion': {'angry': 0.00044136513679404743, 'disgust': 6.941436061540175e-14, 'fear': 8.8586965318882e-06, 'happy': 99.61940050125122, 'sad': 0.3074685810133815, 'surprise': 8.188125623088656e-14, 'neutral': 0.07267974433489144}, 'dominant_emotion': 'happy'}]\n"
     ]
    },
    {
     "name": "stderr",
     "output_type": "stream",
     "text": [
      "Action: emotion: 100%|██████████| 2/2 [00:00<00:00,  9.25it/s]\n"
     ]
    },
    {
     "name": "stdout",
     "output_type": "stream",
     "text": [
      "[{'gender': {'Woman': 8.81405621767044, 'Man': 91.18594527244568}, 'dominant_gender': 'Man', 'region': {'x': 0, 'y': 0, 'w': 639, 'h': 479, 'left_eye': None, 'right_eye': None}, 'face_confidence': 0, 'emotion': {'angry': 0.0008331783234126984, 'disgust': 4.4873245945521274e-13, 'fear': 1.29346297832707e-05, 'happy': 99.13153047153536, 'sad': 0.8137355112275786, 'surprise': 1.0544610027340482e-13, 'neutral': 0.05388779421226944}, 'dominant_emotion': 'happy'}]\n"
     ]
    },
    {
     "name": "stderr",
     "output_type": "stream",
     "text": [
      "Action: emotion: 100%|██████████| 2/2 [00:00<00:00,  9.33it/s]\n"
     ]
    },
    {
     "name": "stdout",
     "output_type": "stream",
     "text": [
      "[{'gender': {'Woman': 8.072373270988464, 'Man': 91.9276237487793}, 'dominant_gender': 'Man', 'region': {'x': 0, 'y': 0, 'w': 639, 'h': 479, 'left_eye': None, 'right_eye': None}, 'face_confidence': 0, 'emotion': {'angry': 2.2039255127310753, 'disgust': 4.344102067134351e-13, 'fear': 0.0014726558219990693, 'happy': 92.86494851112366, 'sad': 0.6145693827420473, 'surprise': 3.5308392494493024e-10, 'neutral': 4.315083101391792}, 'dominant_emotion': 'happy'}]\n"
     ]
    },
    {
     "name": "stderr",
     "output_type": "stream",
     "text": [
      "Action: emotion: 100%|██████████| 2/2 [00:00<00:00,  8.84it/s]\n"
     ]
    },
    {
     "name": "stdout",
     "output_type": "stream",
     "text": [
      "[{'gender': {'Woman': 5.0202444195747375, 'Man': 94.9797511100769}, 'dominant_gender': 'Man', 'region': {'x': 0, 'y': 0, 'w': 639, 'h': 479, 'left_eye': None, 'right_eye': None}, 'face_confidence': 0, 'emotion': {'angry': 92.5112357749028, 'disgust': 5.3086328558855786e-11, 'fear': 0.0022497920280190927, 'happy': 0.0005019662838037446, 'sad': 7.382051781660531, 'surprise': 2.071831703377697e-08, 'neutral': 0.10396406362522406}, 'dominant_emotion': 'angry'}]\n"
     ]
    },
    {
     "name": "stderr",
     "output_type": "stream",
     "text": [
      "Action: emotion: 100%|██████████| 2/2 [00:00<00:00,  9.36it/s]\n"
     ]
    },
    {
     "name": "stdout",
     "output_type": "stream",
     "text": [
      "[{'gender': {'Woman': 2.2978730499744415, 'Man': 97.70212769508362}, 'dominant_gender': 'Man', 'region': {'x': 0, 'y': 0, 'w': 639, 'h': 479, 'left_eye': None, 'right_eye': None}, 'face_confidence': 0, 'emotion': {'angry': 99.97040629386902, 'disgust': 1.4939748747989635e-15, 'fear': 1.2156954198871972e-05, 'happy': 4.014039234334632e-05, 'sad': 0.02766936377156526, 'surprise': 4.9336901751517726e-11, 'neutral': 0.001874715781013947}, 'dominant_emotion': 'angry'}]\n"
     ]
    },
    {
     "name": "stderr",
     "output_type": "stream",
     "text": [
      "Action: emotion: 100%|██████████| 2/2 [00:00<00:00,  9.06it/s]\n"
     ]
    },
    {
     "name": "stdout",
     "output_type": "stream",
     "text": [
      "[{'gender': {'Woman': 2.1298162639141083, 'Man': 97.87018299102783}, 'dominant_gender': 'Man', 'region': {'x': 0, 'y': 0, 'w': 639, 'h': 479, 'left_eye': None, 'right_eye': None}, 'face_confidence': 0, 'emotion': {'angry': 99.72898960113525, 'disgust': 8.078755961545074e-24, 'fear': 7.505188311107691e-10, 'happy': 4.166925415827194e-08, 'sad': 0.005913087079534307, 'surprise': 1.731833902486588e-14, 'neutral': 0.26510022580623627}, 'dominant_emotion': 'angry'}]\n"
     ]
    },
    {
     "name": "stderr",
     "output_type": "stream",
     "text": [
      "Action: emotion: 100%|██████████| 2/2 [00:00<00:00,  9.28it/s]\n"
     ]
    },
    {
     "name": "stdout",
     "output_type": "stream",
     "text": [
      "[{'gender': {'Woman': 1.8940221518278122, 'Man': 98.10598492622375}, 'dominant_gender': 'Man', 'region': {'x': 0, 'y': 0, 'w': 639, 'h': 479, 'left_eye': None, 'right_eye': None}, 'face_confidence': 0, 'emotion': {'angry': 0.3215392818674445, 'disgust': 3.901924822864807e-25, 'fear': 4.0575372922679875e-10, 'happy': 1.0066093791838426e-08, 'sad': 0.0015155660548771266, 'surprise': 1.2208861004147416e-12, 'neutral': 99.67694282531738}, 'dominant_emotion': 'neutral'}]\n"
     ]
    },
    {
     "name": "stderr",
     "output_type": "stream",
     "text": [
      "Action: emotion: 100%|██████████| 2/2 [00:00<00:00,  9.33it/s]\n"
     ]
    },
    {
     "name": "stdout",
     "output_type": "stream",
     "text": [
      "[{'gender': {'Woman': 1.8135691061615944, 'Man': 98.1864333152771}, 'dominant_gender': 'Man', 'region': {'x': 0, 'y': 0, 'w': 639, 'h': 479, 'left_eye': None, 'right_eye': None}, 'face_confidence': 0, 'emotion': {'angry': 18.581312894821167, 'disgust': 8.426408347912939e-21, 'fear': 2.7432496274570894e-07, 'happy': 1.2076062372301521e-07, 'sad': 0.17473947955295444, 'surprise': 8.333769126720771e-13, 'neutral': 81.24394416809082}, 'dominant_emotion': 'neutral'}]\n"
     ]
    },
    {
     "name": "stderr",
     "output_type": "stream",
     "text": [
      "Action: emotion: 100%|██████████| 2/2 [00:00<00:00,  9.26it/s]\n"
     ]
    },
    {
     "name": "stdout",
     "output_type": "stream",
     "text": [
      "[{'gender': {'Woman': 1.937786489725113, 'Man': 98.06220531463623}, 'dominant_gender': 'Man', 'region': {'x': 0, 'y': 0, 'w': 639, 'h': 479, 'left_eye': None, 'right_eye': None}, 'face_confidence': 0, 'emotion': {'angry': 93.07025588396262, 'disgust': 4.166992367350319e-17, 'fear': 7.674173678760136e-06, 'happy': 7.178442874322049e-06, 'sad': 0.38445650060701375, 'surprise': 2.0273798350981694e-11, 'neutral': 6.545278465184983}, 'dominant_emotion': 'angry'}]\n"
     ]
    },
    {
     "name": "stderr",
     "output_type": "stream",
     "text": [
      "Action: emotion: 100%|██████████| 2/2 [00:00<00:00,  9.47it/s]\n"
     ]
    },
    {
     "name": "stdout",
     "output_type": "stream",
     "text": [
      "[{'gender': {'Woman': 1.9391071051359177, 'Man': 98.0608880519867}, 'dominant_gender': 'Man', 'region': {'x': 0, 'y': 0, 'w': 639, 'h': 479, 'left_eye': None, 'right_eye': None}, 'face_confidence': 0, 'emotion': {'angry': 99.89029169082642, 'disgust': 7.47956006039278e-20, 'fear': 2.003489874002895e-08, 'happy': 1.57334711925472e-07, 'sad': 0.008136341057252139, 'surprise': 1.120777732774303e-12, 'neutral': 0.10157441720366478}, 'dominant_emotion': 'angry'}]\n"
     ]
    },
    {
     "name": "stderr",
     "output_type": "stream",
     "text": [
      "Action: emotion: 100%|██████████| 2/2 [00:00<00:00,  9.32it/s]\n"
     ]
    },
    {
     "name": "stdout",
     "output_type": "stream",
     "text": [
      "[{'gender': {'Woman': 3.117114305496216, 'Man': 96.88289165496826}, 'dominant_gender': 'Man', 'region': {'x': 0, 'y': 0, 'w': 639, 'h': 479, 'left_eye': None, 'right_eye': None}, 'face_confidence': 0, 'emotion': {'angry': 99.99684095345032, 'disgust': 1.249934274159974e-19, 'fear': 2.9718747675018514e-08, 'happy': 3.5665168406937896e-07, 'sad': 0.0010201359452469284, 'surprise': 2.1580428746557845e-14, 'neutral': 0.0021412973007173784}, 'dominant_emotion': 'angry'}]\n"
     ]
    },
    {
     "name": "stderr",
     "output_type": "stream",
     "text": [
      "Action: emotion: 100%|██████████| 2/2 [00:00<00:00,  9.11it/s]\n"
     ]
    },
    {
     "name": "stdout",
     "output_type": "stream",
     "text": [
      "[{'gender': {'Woman': 3.949872776865959, 'Man': 96.05012536048889}, 'dominant_gender': 'Man', 'region': {'x': 0, 'y': 0, 'w': 639, 'h': 479, 'left_eye': None, 'right_eye': None}, 'face_confidence': 0, 'emotion': {'angry': 99.8101532685574, 'disgust': 4.337638000445787e-14, 'fear': 1.366253578382758e-05, 'happy': 5.877899066214935e-06, 'sad': 0.1278153584707846, 'surprise': 4.3625380221635165e-10, 'neutral': 0.06201012717811737}, 'dominant_emotion': 'angry'}]\n"
     ]
    },
    {
     "name": "stderr",
     "output_type": "stream",
     "text": [
      "Action: emotion: 100%|██████████| 2/2 [00:00<00:00,  9.32it/s]\n"
     ]
    },
    {
     "name": "stdout",
     "output_type": "stream",
     "text": [
      "[{'gender': {'Woman': 3.786446526646614, 'Man': 96.21355533599854}, 'dominant_gender': 'Man', 'region': {'x': 0, 'y': 0, 'w': 639, 'h': 479, 'left_eye': None, 'right_eye': None}, 'face_confidence': 0, 'emotion': {'angry': 99.54673046430713, 'disgust': 1.0779547712572364e-14, 'fear': 1.6219326483587393e-05, 'happy': 1.4669514464412804e-06, 'sad': 0.4468661800016379, 'surprise': 1.2193127465433514e-11, 'neutral': 0.006386490019476714}, 'dominant_emotion': 'angry'}]\n"
     ]
    },
    {
     "name": "stderr",
     "output_type": "stream",
     "text": [
      "Action: emotion: 100%|██████████| 2/2 [00:00<00:00,  7.73it/s]\n"
     ]
    },
    {
     "name": "stdout",
     "output_type": "stream",
     "text": [
      "[{'gender': {'Woman': 4.182003811001778, 'Man': 95.81800103187561}, 'dominant_gender': 'Man', 'region': {'x': 0, 'y': 0, 'w': 639, 'h': 479, 'left_eye': None, 'right_eye': None}, 'face_confidence': 0, 'emotion': {'angry': 98.58167171478271, 'disgust': 1.278226292240653e-13, 'fear': 9.107345135817013e-05, 'happy': 2.857248482257546e-06, 'sad': 1.4021859504282475, 'surprise': 7.478055175959286e-11, 'neutral': 0.016056644381023943}, 'dominant_emotion': 'angry'}]\n"
     ]
    },
    {
     "name": "stderr",
     "output_type": "stream",
     "text": [
      "Action: emotion: 100%|██████████| 2/2 [00:00<00:00,  8.85it/s]\n"
     ]
    },
    {
     "name": "stdout",
     "output_type": "stream",
     "text": [
      "[{'gender': {'Woman': 4.44038063287735, 'Man': 95.55962681770325}, 'dominant_gender': 'Man', 'region': {'x': 0, 'y': 0, 'w': 639, 'h': 479, 'left_eye': None, 'right_eye': None}, 'face_confidence': 0, 'emotion': {'angry': 99.99269843057981, 'disgust': 1.1032727218319707e-14, 'fear': 1.6685333221507788e-06, 'happy': 1.3917020366310086e-06, 'sad': 0.007269005142353782, 'surprise': 3.6387402558753626e-12, 'neutral': 3.196205304417627e-05}, 'dominant_emotion': 'angry'}]\n"
     ]
    },
    {
     "name": "stderr",
     "output_type": "stream",
     "text": [
      "Action: emotion: 100%|██████████| 2/2 [00:00<00:00,  9.21it/s]\n"
     ]
    },
    {
     "name": "stdout",
     "output_type": "stream",
     "text": [
      "[{'gender': {'Woman': 4.644171893596649, 'Man': 95.35583257675171}, 'dominant_gender': 'Man', 'region': {'x': 0, 'y': 0, 'w': 639, 'h': 479, 'left_eye': None, 'right_eye': None}, 'face_confidence': 0, 'emotion': {'angry': 99.99680519104004, 'disgust': 1.6516517784660257e-14, 'fear': 6.98141988664247e-07, 'happy': 7.129402401773177e-07, 'sad': 0.0031934603612171486, 'surprise': 3.5413697900543977e-13, 'neutral': 4.526439667529303e-06}, 'dominant_emotion': 'angry'}]\n"
     ]
    },
    {
     "name": "stderr",
     "output_type": "stream",
     "text": [
      "Action: emotion: 100%|██████████| 2/2 [00:00<00:00,  9.55it/s]\n"
     ]
    },
    {
     "name": "stdout",
     "output_type": "stream",
     "text": [
      "[{'gender': {'Woman': 4.641560837626457, 'Man': 95.35843133926392}, 'dominant_gender': 'Man', 'region': {'x': 0, 'y': 0, 'w': 639, 'h': 479, 'left_eye': None, 'right_eye': None}, 'face_confidence': 0, 'emotion': {'angry': 99.99762773513794, 'disgust': 1.6100660341760857e-14, 'fear': 5.942090375299358e-07, 'happy': 4.435268152747085e-07, 'sad': 0.002363433850405272, 'surprise': 5.824852878272323e-13, 'neutral': 6.168872346279386e-06}, 'dominant_emotion': 'angry'}]\n"
     ]
    },
    {
     "name": "stderr",
     "output_type": "stream",
     "text": [
      "Action: emotion: 100%|██████████| 2/2 [00:00<00:00,  9.20it/s]\n"
     ]
    },
    {
     "name": "stdout",
     "output_type": "stream",
     "text": [
      "[{'gender': {'Woman': 4.627577587962151, 'Man': 95.3724205493927}, 'dominant_gender': 'Man', 'region': {'x': 0, 'y': 0, 'w': 639, 'h': 479, 'left_eye': None, 'right_eye': None}, 'face_confidence': 0, 'emotion': {'angry': 99.7903406495059, 'disgust': 2.305320793797152e-13, 'fear': 0.07147487329728146, 'happy': 8.134526213420313e-05, 'sad': 0.13757367507062407, 'surprise': 3.901502597269711e-13, 'neutral': 0.0005315411588845394}, 'dominant_emotion': 'angry'}]\n"
     ]
    },
    {
     "name": "stderr",
     "output_type": "stream",
     "text": [
      "Action: emotion: 100%|██████████| 2/2 [00:00<00:00,  9.39it/s]\n"
     ]
    },
    {
     "name": "stdout",
     "output_type": "stream",
     "text": [
      "[{'gender': {'Woman': 6.042985990643501, 'Man': 93.95701289176941}, 'dominant_gender': 'Man', 'region': {'x': 0, 'y': 0, 'w': 639, 'h': 479, 'left_eye': None, 'right_eye': None}, 'face_confidence': 0, 'emotion': {'angry': 2.1632996745884223, 'disgust': 1.2258049785064125e-14, 'fear': 2.620952144995244e-05, 'happy': 1.9018338260944635e-06, 'sad': 97.08690625947155, 'surprise': 1.7604788088108703e-14, 'neutral': 0.7497687805306185}, 'dominant_emotion': 'sad'}]\n"
     ]
    }
   ],
   "source": [
    "import cv2\n",
    "from deepface import DeepFace\n",
    "import FaceDlibs\n",
    "import numpy as np\n",
    "import math\n",
    "\n",
    "# Captura de video desde la cámara\n",
    "vid = cv2.VideoCapture(0)\n",
    "\n",
    "# Interfaz de detectores de cara\n",
    "FDet = FaceDlibs.FaceDlib()\n",
    "\n",
    "# Parámetros de texto\n",
    "font = cv2.FONT_HERSHEY_SIMPLEX\n",
    "fontScale = 1\n",
    "color = (255, 0, 0) \n",
    "thickness = 2 \n",
    "pos = (50, 50)\n",
    "\n",
    "# Cargamos la imagen con el canal alfa\n",
    "filter_image = cv2.imread('emojis/gota.png', -1)\n",
    "star_img = cv2.imread('emojis/happy.png', -1)\n",
    "barba_img = cv2.imread('emojis/barba.png', -1)\n",
    "\n",
    "\n",
    "while(True):      \n",
    "    ret, frame = vid.read()\n",
    "    B, G, R = cv2.split(frame)\n",
    "\n",
    "    if ret:\n",
    "        # Analizamos la imagen para obtener los atributos de la cara con Deepface\n",
    "        obj = DeepFace.analyze(img_path = frame, enforce_detection=False, actions=['gender', 'emotion'])\n",
    "        print(obj)\n",
    "        if len(obj) == 0:\n",
    "            break\n",
    "        \n",
    "        # Carácteristicas y valores de la cara capturada\n",
    "        face = obj[0]\n",
    "        #for (x, y) in shape:\n",
    "        #    cv2.circle(frame, (x, y), 2, (255, 255, 255), -1)\n",
    "        \n",
    "        if face['dominant_emotion'] == \"sad\":\n",
    "            # Detectamos los ojos\n",
    "            values = FDet.SingleFaceEyesDetection(frame, FDet.FaceDetectors[0], FDet.EyeDetectors[0])\n",
    "\n",
    "            if values is not None:\n",
    "                # Valores de la posición de la cara, ojos y forma\n",
    "                face, eyes, shape = values\n",
    "                # Coordenadas y dimensión de la ROI de la cara\n",
    "                [x, y, w, h] = face\n",
    "                if x > -1:\n",
    "                    # Coordenadas y dimensión de los ojos (lex: left eye X, ley: left eye Y, rex: right eye X, rey: right eye Y)\n",
    "                    [lex, ley, rex, rey] = eyes\n",
    "                    if lex > -1:\n",
    "                        # Calcular el ángulo de rotación entre los ojos izquierdo y derecho\n",
    "                        dx = rex - lex\n",
    "                        dy = rey - ley\n",
    "                        angle = math.atan2(dy, dx)  # Ángulo en radianes\n",
    "                        angle_degrees = math.degrees(angle)  # Convertir a grados\n",
    "\n",
    "                        # Redimensionamos el filtro\n",
    "                        filter_resized = cv2.resize(filter_image, (40, 40))\n",
    "\n",
    "                        # Crear una matriz de rotación para ajustarse a la rotación\n",
    "                        center = (filter_resized.shape[1] // 2, filter_resized.shape[0] // 2)\n",
    "                        rotation_matrix = cv2.getRotationMatrix2D(center, angle_degrees, 1)\n",
    "                        rotated_filter = cv2.warpAffine(filter_resized, rotation_matrix, \n",
    "                                                        (filter_resized.shape[1], filter_resized.shape[0]))\n",
    "\n",
    "                        \n",
    "                        # Colocar el filtro rotado sobre el ojo izquierdo (punto 39 de los puntos carácteristicos de la cara de DLIB)\n",
    "                        x, y = shape[39]\n",
    "                        x = x - 40\n",
    "                        y = y + 10\n",
    "                        for i in range(rotated_filter.shape[0]):\n",
    "                            for j in range(rotated_filter.shape[1]):\n",
    "                                if rotated_filter[i, j][3] > 0:  # Si la transparencia es mayor que 0\n",
    "                                    frame[y + i, x + j] = rotated_filter[i, j][0:3]\n",
    "\n",
    "                        # Posicionar el filtro sobre el ojo derecho (punto 42)\n",
    "                        x, y = shape[42]\n",
    "                        x = x + 10\n",
    "                        y = y + 10\n",
    "                        for i in range(rotated_filter.shape[0]):\n",
    "                            for j in range(rotated_filter.shape[1]):\n",
    "                                if rotated_filter[i, j][3] > 0:  # Si la transparencia es mayor que 0\n",
    "                                    frame[y + i, x + j] = rotated_filter[i, j][0:3]\n",
    "\n",
    "        elif face['dominant_emotion'] == \"happy\":\n",
    "            # Obtener las coordenadas de los ojos\n",
    "            if face['region']['left_eye'] != None or face['region']['right_eye'] != None:\n",
    "\n",
    "                left_eye = face['region']['left_eye']\n",
    "                right_eye = face['region']['right_eye']\n",
    "\n",
    "\n",
    "                # Redimensionar la imagen del filtro a las dimensiones de los ojos detectados\n",
    "                star_resize = cv2.resize(star_img, (50, 50))\n",
    "\n",
    "                # Colocar el filtro sobre el ojo izquierdo (sin considerar transparencia)\n",
    "                for i in range(star_resize.shape[0]):\n",
    "                    for j in range(star_resize.shape[1]):\n",
    "                        if star_resize[i, j][3] > 0:  # Si la transparencia es mayor que 0\n",
    "                            frame[left_eye[1] + i -25, left_eye[0] + j -25] = star_resize[i, j][0:3]\n",
    "\n",
    "                # Colocar el filtro sobre el ojo derecho (sin considerar transparencia)\n",
    "                for i in range(star_resize.shape[0]):\n",
    "                    for j in range(star_resize.shape[1]):\n",
    "                        if star_resize[i, j][3] > 0:  # Si la transparencia es mayor que 0\n",
    "                            frame[right_eye[1] + i -25, right_eye[0] + j-25] = star_resize[i, j][0:3]\n",
    "\n",
    "        elif face['dominant_emotion'] == \"neutral\":\n",
    "            \n",
    "                # Detectamos los ojos\n",
    "            values = FDet.SingleFaceEyesDetection(frame, FDet.FaceDetectors[0], FDet.EyeDetectors[0])\n",
    "\n",
    "            if values is not None:\n",
    "                face, eyes, shape = values\n",
    "\n",
    "                [x, y, w, h] = face\n",
    "\n",
    "                \"\"\"for (x, y) in shape:\n",
    "                    cv2.circle(frame, (x, y), 2, (255, 255, 255), -1)\"\"\"\n",
    "        \n",
    "                if x > -1:\n",
    "                    [lex, ley, rex, rey] = eyes\n",
    "                    if lex > -1:\n",
    "                        \n",
    "\n",
    "                        # Redimensionamos el filtro\n",
    "                        filter_resized = cv2.resize(barba_img, (480, 480))\n",
    "\n",
    "                        \n",
    "\n",
    "                        \n",
    "                        # Colocar el filtro rotado sobre el ojo izquierdo\n",
    "                        x_i, y_i = shape[19]\n",
    "                        \n",
    "                        \"\"\"for i in range(filter_resized.shape[0]):\n",
    "                            for j in range(filter_resized.shape[1]):\n",
    "                                if filter_resized[i, j][3] > 0:  # Si la transparencia es mayor que 0\n",
    "                                    frame[y_i + i, x_i + j] = filter_resized[i, j][0:3]\n",
    "\n",
    "                        # Posicionar el filtro sobre el ojo derecho\n",
    "                        \"\"\"\n",
    "                        x_d, y_d = shape[24]\n",
    "                        \"\"\"\n",
    "                        for i in range(filter_resized.shape[0]):\n",
    "                            for j in range(filter_resized.shape[1]):\n",
    "                                if filter_resized[i, j][3] > 0:  # Si la transparencia es mayor que 0\n",
    "                                    frame[y_d + i, x_d + j] = filter_resized[i, j][0:3]\"\"\"\n",
    "\n",
    "                        x_n, y_n = shape[27]\n",
    "                        #cv2.circle(frame, (x_n, y_n), 2, (255, 255, 255), -1)\n",
    "\n",
    "                        x_m=x_n\n",
    "                        y_m=y_i\n",
    "                        for i in range(filter_resized.shape[0]):\n",
    "                            for j in range(filter_resized.shape[1]):\n",
    "                                if filter_resized[i, j][3] > 0:  # Transparency check\n",
    "                                    frame[y_m + i - 170, x_m + j - 220] = filter_resized[i, j][0:3]\n",
    "\n",
    "\n",
    "\n",
    "        \n",
    "        elif face['dominant_emotion'] == \"fear\" or face['dominant_emotion'] == \"surprise\":\n",
    "            values = FDet.SingleFaceEyesDetection(frame, FDet.FaceDetectors[0], FDet.EyeDetectors[0])\n",
    "\n",
    "            if values is not None:\n",
    "                face, eyes, shape = values\n",
    "\n",
    "                [x, y, w, h] = face\n",
    "                if x > -1:\n",
    "                    [lex, ley, rex, rey] = eyes\n",
    "                    if lex > -1:\n",
    "                        filter_resized = cv2.resize(filter_image, (40, 40))\n",
    "                        \n",
    "\n",
    "\n",
    "   \n",
    "            \n",
    "                \n",
    "\n",
    "        # Mostrar el texto con la información de la cara\n",
    "        image = cv2.putText(frame, str(obj[0]['dominant_gender'] + ' ' + obj[0]['dominant_emotion']), pos, font,\n",
    "                            fontScale, color, thickness, cv2.LINE_AA) \n",
    "        # Mostrar fotograma\n",
    "        cv2.imshow('Vid', frame)\n",
    "\n",
    "    # Detenemos pulsado ESC\n",
    "    if cv2.waitKey(20) == 27:\n",
    "        break\n",
    "\n",
    "# Libera el objeto de captura\n",
    "vid.release()\n",
    "# Destruye ventanas\n",
    "cv2.destroyAllWindows()"
   ]
  }
 ],
 "metadata": {
  "kernelspec": {
   "display_name": "VC_P5",
   "language": "python",
   "name": "python3"
  },
  "language_info": {
   "codemirror_mode": {
    "name": "ipython",
    "version": 3
   },
   "file_extension": ".py",
   "mimetype": "text/x-python",
   "name": "python",
   "nbconvert_exporter": "python",
   "pygments_lexer": "ipython3",
   "version": "3.11.5"
  }
 },
 "nbformat": 4,
 "nbformat_minor": 5
}
