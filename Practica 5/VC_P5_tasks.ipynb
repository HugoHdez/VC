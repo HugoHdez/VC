{
 "cells": [
  {
   "attachments": {},
   "cell_type": "markdown",
   "id": "643c68d5",
   "metadata": {},
   "source": [
    "# Process from webcam"
   ]
  },
  {
   "cell_type": "code",
   "execution_count": null,
   "id": "a5656d9f",
   "metadata": {},
   "outputs": [
    {
     "name": "stderr",
     "output_type": "stream",
     "text": [
      "Action: emotion: 100%|██████████| 2/2 [00:00<00:00, 13.59it/s]\n"
     ]
    },
    {
     "name": "stdout",
     "output_type": "stream",
     "text": [
      "[{'gender': {'Woman': 7.211755216121674, 'Man': 92.78824925422668}, 'dominant_gender': 'Man', 'region': {'x': 0, 'y': 0, 'w': 639, 'h': 479, 'left_eye': None, 'right_eye': None}, 'face_confidence': 0, 'emotion': {'angry': 0.044616995477571815, 'disgust': 0.027485114879950277, 'fear': 0.029948518533916387, 'happy': 86.47115745968566, 'sad': 9.299337673147779, 'surprise': 0.0008377870971391668, 'neutral': 4.126613833106389}, 'dominant_emotion': 'happy'}]\n"
     ]
    },
    {
     "name": "stderr",
     "output_type": "stream",
     "text": [
      "Action: emotion: 100%|██████████| 2/2 [00:00<00:00, 11.90it/s]\n"
     ]
    },
    {
     "name": "stdout",
     "output_type": "stream",
     "text": [
      "[{'gender': {'Woman': 17.990601062774658, 'Man': 82.00939297676086}, 'dominant_gender': 'Man', 'region': {'x': 320, 'y': 223, 'w': 72, 'h': 72, 'left_eye': None, 'right_eye': None}, 'face_confidence': 0.94, 'emotion': {'angry': 0.22115944884717464, 'disgust': 0.0005082099960418418, 'fear': 6.343797594308853, 'happy': 90.90811610221863, 'sad': 0.0895241042599082, 'surprise': 0.018966634524986148, 'neutral': 2.417930029332638}, 'dominant_emotion': 'happy'}]\n"
     ]
    },
    {
     "name": "stderr",
     "output_type": "stream",
     "text": [
      "Action: emotion: 100%|██████████| 2/2 [00:00<00:00, 13.37it/s]\n"
     ]
    },
    {
     "name": "stdout",
     "output_type": "stream",
     "text": [
      "[{'gender': {'Woman': 7.084205746650696, 'Man': 92.91579723358154}, 'dominant_gender': 'Man', 'region': {'x': 0, 'y': 0, 'w': 639, 'h': 479, 'left_eye': None, 'right_eye': None}, 'face_confidence': 0, 'emotion': {'angry': 0.015499682529867288, 'disgust': 0.014241157380986825, 'fear': 0.014787292149594617, 'happy': 88.64920274624792, 'sad': 7.679357209282254, 'surprise': 0.0006493062436621876, 'neutral': 3.62625116094933}, 'dominant_emotion': 'happy'}]\n"
     ]
    },
    {
     "name": "stderr",
     "output_type": "stream",
     "text": [
      "Action: emotion: 100%|██████████| 2/2 [00:00<00:00, 13.19it/s]\n"
     ]
    },
    {
     "name": "stdout",
     "output_type": "stream",
     "text": [
      "[{'gender': {'Woman': 7.42994025349617, 'Man': 92.57006049156189}, 'dominant_gender': 'Man', 'region': {'x': 0, 'y': 0, 'w': 639, 'h': 479, 'left_eye': None, 'right_eye': None}, 'face_confidence': 0, 'emotion': {'angry': 0.06602786991352558, 'disgust': 0.06693430294636207, 'fear': 0.048701785264456884, 'happy': 75.80525730879648, 'sad': 15.048215690148812, 'surprise': 0.0017785750210902666, 'neutral': 8.963089225476338}, 'dominant_emotion': 'happy'}]\n"
     ]
    },
    {
     "name": "stderr",
     "output_type": "stream",
     "text": [
      "Action: emotion: 100%|██████████| 2/2 [00:00<00:00, 13.40it/s]\n"
     ]
    },
    {
     "name": "stdout",
     "output_type": "stream",
     "text": [
      "[{'gender': {'Woman': 15.854853391647339, 'Man': 84.14514660835266}, 'dominant_gender': 'Man', 'region': {'x': 319, 'y': 223, 'w': 72, 'h': 72, 'left_eye': None, 'right_eye': None}, 'face_confidence': 0.93, 'emotion': {'angry': 0.2115654991939664, 'disgust': 0.0005075785338704009, 'fear': 2.090543508529663, 'happy': 92.5990104675293, 'sad': 0.11935716029256582, 'surprise': 0.015155064465943724, 'neutral': 4.963859915733337}, 'dominant_emotion': 'happy'}]\n"
     ]
    },
    {
     "name": "stderr",
     "output_type": "stream",
     "text": [
      "Action: emotion: 100%|██████████| 2/2 [00:00<00:00, 13.85it/s]\n"
     ]
    },
    {
     "name": "stdout",
     "output_type": "stream",
     "text": [
      "[{'gender': {'Woman': 6.6082663834095, 'Man': 93.39173436164856}, 'dominant_gender': 'Man', 'region': {'x': 0, 'y': 0, 'w': 639, 'h': 479, 'left_eye': None, 'right_eye': None}, 'face_confidence': 0, 'emotion': {'angry': 0.006971861252000779, 'disgust': 7.841589788597827e-05, 'fear': 0.0003837380975686028, 'happy': 96.61765058251031, 'sad': 0.31459258428574616, 'surprise': 2.0291632128796487e-05, 'neutral': 3.0603056696421707}, 'dominant_emotion': 'happy'}]\n"
     ]
    },
    {
     "name": "stderr",
     "output_type": "stream",
     "text": [
      "Action: emotion: 100%|██████████| 2/2 [00:00<00:00, 13.81it/s]\n"
     ]
    },
    {
     "name": "stdout",
     "output_type": "stream",
     "text": [
      "[{'gender': {'Woman': 6.698267161846161, 'Man': 93.3017373085022}, 'dominant_gender': 'Man', 'region': {'x': 0, 'y': 0, 'w': 639, 'h': 479, 'left_eye': None, 'right_eye': None}, 'face_confidence': 0, 'emotion': {'angry': 0.00609233757131733, 'disgust': 0.004114019247936085, 'fear': 0.012320023961365223, 'happy': 88.08169364929199, 'sad': 2.10634209215641, 'surprise': 0.00028806323371100007, 'neutral': 9.789155423641205}, 'dominant_emotion': 'happy'}]\n"
     ]
    },
    {
     "name": "stderr",
     "output_type": "stream",
     "text": [
      "Action: emotion: 100%|██████████| 2/2 [00:00<00:00, 13.65it/s]\n"
     ]
    },
    {
     "name": "stdout",
     "output_type": "stream",
     "text": [
      "[{'gender': {'Woman': 8.86210948228836, 'Man': 91.13789200782776}, 'dominant_gender': 'Man', 'region': {'x': 0, 'y': 0, 'w': 639, 'h': 479, 'left_eye': None, 'right_eye': None}, 'face_confidence': 0, 'emotion': {'angry': 0.0015800664186826907, 'disgust': 0.021652794384863228, 'fear': 15.125340223312378, 'happy': 32.812005281448364, 'sad': 18.155695497989655, 'surprise': 0.007550032023573294, 'neutral': 33.87617766857147}, 'dominant_emotion': 'neutral'}]\n"
     ]
    },
    {
     "name": "stderr",
     "output_type": "stream",
     "text": [
      "Action: emotion: 100%|██████████| 2/2 [00:00<00:00, 13.87it/s]\n"
     ]
    },
    {
     "name": "stdout",
     "output_type": "stream",
     "text": [
      "[{'gender': {'Woman': 9.168163686990738, 'Man': 90.83183407783508}, 'dominant_gender': 'Man', 'region': {'x': 0, 'y': 0, 'w': 639, 'h': 479, 'left_eye': None, 'right_eye': None}, 'face_confidence': 0, 'emotion': {'angry': 0.017759812842827332, 'disgust': 0.003488886120335593, 'fear': 0.2058617783247564, 'happy': 50.07389188693665, 'sad': 9.373360499544203, 'surprise': 0.005104095424943804, 'neutral': 40.32053534037296}, 'dominant_emotion': 'happy'}]\n"
     ]
    },
    {
     "name": "stderr",
     "output_type": "stream",
     "text": [
      "Action: emotion: 100%|██████████| 2/2 [00:00<00:00, 13.80it/s]\n"
     ]
    },
    {
     "name": "stdout",
     "output_type": "stream",
     "text": [
      "[{'gender': {'Woman': 8.756140619516373, 'Man': 91.24385714530945}, 'dominant_gender': 'Man', 'region': {'x': 0, 'y': 0, 'w': 639, 'h': 479, 'left_eye': None, 'right_eye': None}, 'face_confidence': 0, 'emotion': {'angry': 0.01737069500305176, 'disgust': 0.0002399818328990017, 'fear': 0.2805074145574817, 'happy': 78.90618913806613, 'sad': 3.223476005999804, 'surprise': 0.0011737196263501477, 'neutral': 17.57104650563279}, 'dominant_emotion': 'happy'}]\n"
     ]
    },
    {
     "name": "stderr",
     "output_type": "stream",
     "text": [
      "Action: emotion: 100%|██████████| 2/2 [00:00<00:00, 13.93it/s]\n"
     ]
    },
    {
     "name": "stdout",
     "output_type": "stream",
     "text": [
      "[{'gender': {'Woman': 8.92183855175972, 'Man': 91.07815623283386}, 'dominant_gender': 'Man', 'region': {'x': 0, 'y': 0, 'w': 639, 'h': 479, 'left_eye': None, 'right_eye': None}, 'face_confidence': 0, 'emotion': {'angry': 0.0032054416806204244, 'disgust': 0.00011904483017133316, 'fear': 61.93583607673645, 'happy': 31.506088376045227, 'sad': 1.5557697042822838, 'surprise': 0.22962091024965048, 'neutral': 4.769352823495865}, 'dominant_emotion': 'fear'}]\n"
     ]
    },
    {
     "name": "stderr",
     "output_type": "stream",
     "text": [
      "Action: emotion: 100%|██████████| 2/2 [00:00<00:00, 13.75it/s]\n"
     ]
    },
    {
     "name": "stdout",
     "output_type": "stream",
     "text": [
      "[{'gender': {'Woman': 10.672064125537872, 'Man': 89.32793736457825}, 'dominant_gender': 'Man', 'region': {'x': 0, 'y': 0, 'w': 639, 'h': 479, 'left_eye': None, 'right_eye': None}, 'face_confidence': 0, 'emotion': {'angry': 0.03682266687974334, 'disgust': 1.0417905826898277e-05, 'fear': 81.30301833152771, 'happy': 0.6097490899264812, 'sad': 4.095221310853958, 'surprise': 0.7646784652024508, 'neutral': 13.190500438213348}, 'dominant_emotion': 'fear'}]\n"
     ]
    },
    {
     "name": "stderr",
     "output_type": "stream",
     "text": [
      "Action: emotion: 100%|██████████| 2/2 [00:00<00:00, 13.70it/s]\n"
     ]
    },
    {
     "name": "stdout",
     "output_type": "stream",
     "text": [
      "[{'gender': {'Woman': 9.691880643367767, 'Man': 90.30811786651611}, 'dominant_gender': 'Man', 'region': {'x': 0, 'y': 0, 'w': 639, 'h': 479, 'left_eye': None, 'right_eye': None}, 'face_confidence': 0, 'emotion': {'angry': 0.004431599154486321, 'disgust': 2.463922843531918e-07, 'fear': 94.36882138252258, 'happy': 0.07237671525217593, 'sad': 2.7785608544945717, 'surprise': 0.11833127355203032, 'neutral': 2.657475136220455}, 'dominant_emotion': 'fear'}]\n"
     ]
    },
    {
     "name": "stderr",
     "output_type": "stream",
     "text": [
      "Action: emotion: 100%|██████████| 2/2 [00:00<00:00, 13.97it/s]\n"
     ]
    },
    {
     "name": "stdout",
     "output_type": "stream",
     "text": [
      "[{'gender': {'Woman': 10.606373846530914, 'Man': 89.39362168312073}, 'dominant_gender': 'Man', 'region': {'x': 0, 'y': 0, 'w': 639, 'h': 479, 'left_eye': None, 'right_eye': None}, 'face_confidence': 0, 'emotion': {'angry': 0.0013805741218675394, 'disgust': 0.000292820664071769, 'fear': 7.097945362329483, 'happy': 79.70216274261475, 'sad': 1.9393958151340485, 'surprise': 0.003035038389498368, 'neutral': 11.255788058042526}, 'dominant_emotion': 'happy'}]\n"
     ]
    },
    {
     "name": "stderr",
     "output_type": "stream",
     "text": [
      "Action: emotion: 100%|██████████| 2/2 [00:00<00:00, 13.79it/s]\n"
     ]
    },
    {
     "name": "stdout",
     "output_type": "stream",
     "text": [
      "[{'gender': {'Woman': 10.826144367456436, 'Man': 89.17385935783386}, 'dominant_gender': 'Man', 'region': {'x': 0, 'y': 0, 'w': 639, 'h': 479, 'left_eye': None, 'right_eye': None}, 'face_confidence': 0, 'emotion': {'angry': 0.013108681014273316, 'disgust': 0.012244003301020712, 'fear': 90.34960269927979, 'happy': 3.019104152917862, 'sad': 1.9412040710449219, 'surprise': 0.00479959708172828, 'neutral': 4.6599432826042175}, 'dominant_emotion': 'fear'}]\n"
     ]
    },
    {
     "name": "stderr",
     "output_type": "stream",
     "text": [
      "Action: emotion: 100%|██████████| 2/2 [00:00<00:00, 13.90it/s]\n"
     ]
    },
    {
     "name": "stdout",
     "output_type": "stream",
     "text": [
      "[{'gender': {'Woman': 10.82133874297142, 'Man': 89.17866349220276}, 'dominant_gender': 'Man', 'region': {'x': 0, 'y': 0, 'w': 639, 'h': 479, 'left_eye': None, 'right_eye': None}, 'face_confidence': 0, 'emotion': {'angry': 0.13694950143849832, 'disgust': 0.00033067017889916163, 'fear': 91.69542888457431, 'happy': 1.6481550308281145, 'sad': 2.9119547710472617, 'surprise': 0.04321082736739339, 'neutral': 3.563962079410305}, 'dominant_emotion': 'fear'}]\n"
     ]
    },
    {
     "name": "stderr",
     "output_type": "stream",
     "text": [
      "Action: emotion: 100%|██████████| 2/2 [00:00<00:00, 13.46it/s]\n"
     ]
    },
    {
     "name": "stdout",
     "output_type": "stream",
     "text": [
      "[{'gender': {'Woman': 11.749301850795746, 'Man': 88.25069665908813}, 'dominant_gender': 'Man', 'region': {'x': 0, 'y': 0, 'w': 639, 'h': 479, 'left_eye': None, 'right_eye': None}, 'face_confidence': 0, 'emotion': {'angry': 0.05805438377983973, 'disgust': 2.942009298285523e-06, 'fear': 84.57794601654363, 'happy': 1.0807432591311048, 'sad': 0.6204713409955908, 'surprise': 0.12303788983155964, 'neutral': 13.5397450375253}, 'dominant_emotion': 'fear'}]\n"
     ]
    },
    {
     "name": "stderr",
     "output_type": "stream",
     "text": [
      "Action: emotion: 100%|██████████| 2/2 [00:00<00:00, 13.76it/s]\n"
     ]
    },
    {
     "name": "stdout",
     "output_type": "stream",
     "text": [
      "[{'gender': {'Woman': 11.997631937265396, 'Man': 88.00236582756042}, 'dominant_gender': 'Man', 'region': {'x': 0, 'y': 0, 'w': 639, 'h': 479, 'left_eye': None, 'right_eye': None}, 'face_confidence': 0, 'emotion': {'angry': 0.03772905038204044, 'disgust': 2.971088690628676e-05, 'fear': 95.38016319274902, 'happy': 1.3381104916334152, 'sad': 0.341631518676877, 'surprise': 0.3559067379683256, 'neutral': 2.546434663236141}, 'dominant_emotion': 'fear'}]\n"
     ]
    },
    {
     "name": "stderr",
     "output_type": "stream",
     "text": [
      "Action: emotion: 100%|██████████| 2/2 [00:00<00:00, 14.06it/s]\n"
     ]
    },
    {
     "name": "stdout",
     "output_type": "stream",
     "text": [
      "[{'gender': {'Woman': 11.667793989181519, 'Man': 88.33221197128296}, 'dominant_gender': 'Man', 'region': {'x': 0, 'y': 0, 'w': 639, 'h': 479, 'left_eye': None, 'right_eye': None}, 'face_confidence': 0, 'emotion': {'angry': 0.05257998709566891, 'disgust': 9.477547280312137e-06, 'fear': 97.72912859916687, 'happy': 1.3097320683300495, 'sad': 0.45910440385341644, 'surprise': 0.010089619900099933, 'neutral': 0.43935468420386314}, 'dominant_emotion': 'fear'}]\n"
     ]
    },
    {
     "name": "stderr",
     "output_type": "stream",
     "text": [
      "Action: emotion: 100%|██████████| 2/2 [00:00<00:00, 14.33it/s]\n"
     ]
    },
    {
     "name": "stdout",
     "output_type": "stream",
     "text": [
      "[{'gender': {'Woman': 11.158997565507889, 'Man': 88.84100317955017}, 'dominant_gender': 'Man', 'region': {'x': 0, 'y': 0, 'w': 639, 'h': 479, 'left_eye': None, 'right_eye': None}, 'face_confidence': 0, 'emotion': {'angry': 0.008791007509105355, 'disgust': 1.1141478448887875e-05, 'fear': 89.6573835407128, 'happy': 5.805404457772044, 'sad': 2.272592806672621, 'surprise': 0.02622621115620948, 'neutral': 2.22958823916842}, 'dominant_emotion': 'fear'}]\n"
     ]
    },
    {
     "name": "stderr",
     "output_type": "stream",
     "text": [
      "Action: emotion: 100%|██████████| 2/2 [00:00<00:00, 14.13it/s]\n"
     ]
    },
    {
     "name": "stdout",
     "output_type": "stream",
     "text": [
      "[{'gender': {'Woman': 11.485414206981659, 'Man': 88.5145902633667}, 'dominant_gender': 'Man', 'region': {'x': 0, 'y': 0, 'w': 639, 'h': 479, 'left_eye': None, 'right_eye': None}, 'face_confidence': 0, 'emotion': {'angry': 0.016835643879568592, 'disgust': 5.912578012588188e-05, 'fear': 77.61776180479072, 'happy': 18.843143444436006, 'sad': 2.4242010994793297, 'surprise': 0.025002760300741826, 'neutral': 1.0730021049680836}, 'dominant_emotion': 'fear'}]\n"
     ]
    },
    {
     "name": "stderr",
     "output_type": "stream",
     "text": [
      "Action: emotion: 100%|██████████| 2/2 [00:00<00:00, 13.30it/s]\n"
     ]
    },
    {
     "name": "stdout",
     "output_type": "stream",
     "text": [
      "[{'gender': {'Woman': 0.2754280576482415, 'Man': 99.72457885742188}, 'dominant_gender': 'Man', 'region': {'x': 254, 'y': 108, 'w': 161, 'h': 161, 'left_eye': (367, 168), 'right_eye': (301, 165)}, 'face_confidence': 0.97, 'emotion': {'angry': 1.3308570720255375, 'disgust': 0.00024181142634915886, 'fear': 32.9559862613678, 'happy': 0.05753769655711949, 'sad': 7.704082131385803, 'surprise': 0.0007739581633359194, 'neutral': 57.950520515441895}, 'dominant_emotion': 'neutral'}]\n"
     ]
    },
    {
     "name": "stderr",
     "output_type": "stream",
     "text": [
      "Action: emotion: 100%|██████████| 2/2 [00:00<00:00, 13.71it/s]\n"
     ]
    },
    {
     "name": "stdout",
     "output_type": "stream",
     "text": [
      "[{'gender': {'Woman': 0.04662219143938273, 'Man': 99.95337724685669}, 'dominant_gender': 'Man', 'region': {'x': 223, 'y': 86, 'w': 196, 'h': 196, 'left_eye': (357, 157), 'right_eye': (282, 157)}, 'face_confidence': 0.96, 'emotion': {'angry': 1.0366131855980378, 'disgust': 0.00017047137575357206, 'fear': 3.157709170306822, 'happy': 0.12378502017304542, 'sad': 1.6666643445687706, 'surprise': 0.00907552056519001, 'neutral': 94.0059833533744}, 'dominant_emotion': 'neutral'}]\n"
     ]
    },
    {
     "name": "stderr",
     "output_type": "stream",
     "text": [
      "Action: emotion: 100%|██████████| 2/2 [00:00<00:00, 14.28it/s]\n"
     ]
    },
    {
     "name": "stdout",
     "output_type": "stream",
     "text": [
      "[{'gender': {'Woman': 11.570950597524643, 'Man': 88.42905163764954}, 'dominant_gender': 'Man', 'region': {'x': 0, 'y': 0, 'w': 639, 'h': 479, 'left_eye': None, 'right_eye': None}, 'face_confidence': 0, 'emotion': {'angry': 0.001764310064801656, 'disgust': 0.00027919642124728245, 'fear': 38.44134669796785, 'happy': 0.23788325996050358, 'sad': 15.841655831534366, 'surprise': 0.01146494387533778, 'neutral': 45.46561187095784}, 'dominant_emotion': 'neutral'}]\n"
     ]
    },
    {
     "name": "stderr",
     "output_type": "stream",
     "text": [
      "Action: emotion: 100%|██████████| 2/2 [00:00<00:00, 13.71it/s]\n"
     ]
    },
    {
     "name": "stdout",
     "output_type": "stream",
     "text": [
      "[{'gender': {'Woman': 0.012409643386490643, 'Man': 99.98759031295776}, 'dominant_gender': 'Man', 'region': {'x': 216, 'y': 89, 'w': 203, 'h': 203, 'left_eye': (356, 163), 'right_eye': (271, 163)}, 'face_confidence': 0.98, 'emotion': {'angry': 0.5790949558132834, 'disgust': 0.00017588188079861527, 'fear': 4.11070038207774, 'happy': 0.08694297739183633, 'sad': 1.5792157520909014, 'surprise': 0.004019548329643147, 'neutral': 93.6398498582661}, 'dominant_emotion': 'neutral'}]\n"
     ]
    },
    {
     "name": "stderr",
     "output_type": "stream",
     "text": [
      "Action: emotion: 100%|██████████| 2/2 [00:00<00:00, 12.91it/s]\n"
     ]
    },
    {
     "name": "stdout",
     "output_type": "stream",
     "text": [
      "[{'gender': {'Woman': 0.03987464006058872, 'Man': 99.96013045310974}, 'dominant_gender': 'Man', 'region': {'x': 172, 'y': 81, 'w': 203, 'h': 203, 'left_eye': (314, 154), 'right_eye': (235, 153)}, 'face_confidence': 0.94, 'emotion': {'angry': 7.428017863271491, 'disgust': 0.019719484239729138, 'fear': 41.98280668463627, 'happy': 2.4423160472731533, 'sad': 9.720609668420593, 'surprise': 2.1383910684715426, 'neutral': 36.26813158176761}, 'dominant_emotion': 'fear'}]\n"
     ]
    },
    {
     "name": "stderr",
     "output_type": "stream",
     "text": [
      "Action: emotion: 100%|██████████| 2/2 [00:00<00:00, 14.35it/s]\n"
     ]
    },
    {
     "name": "stdout",
     "output_type": "stream",
     "text": [
      "[{'gender': {'Woman': 8.308865875005722, 'Man': 91.69113039970398}, 'dominant_gender': 'Man', 'region': {'x': 0, 'y': 0, 'w': 639, 'h': 479, 'left_eye': None, 'right_eye': None}, 'face_confidence': 0, 'emotion': {'angry': 0.01954675623167753, 'disgust': 0.002691355942043998, 'fear': 70.67561992116212, 'happy': 1.1156365674002846, 'sad': 14.772817763426037, 'surprise': 0.07167643324898877, 'neutral': 13.34201405549217}, 'dominant_emotion': 'fear'}]\n"
     ]
    },
    {
     "name": "stderr",
     "output_type": "stream",
     "text": [
      "Action: emotion: 100%|██████████| 2/2 [00:00<00:00, 13.98it/s]\n"
     ]
    },
    {
     "name": "stdout",
     "output_type": "stream",
     "text": [
      "[{'gender': {'Woman': 8.098077028989792, 'Man': 91.90192222595215}, 'dominant_gender': 'Man', 'region': {'x': 0, 'y': 0, 'w': 639, 'h': 479, 'left_eye': None, 'right_eye': None}, 'face_confidence': 0, 'emotion': {'angry': 0.01924879470607266, 'disgust': 0.0016696518287062645, 'fear': 46.98302745819092, 'happy': 0.6772995460778475, 'sad': 18.73350888490677, 'surprise': 0.027142729959450662, 'neutral': 33.55810046195984}, 'dominant_emotion': 'fear'}]\n"
     ]
    },
    {
     "name": "stderr",
     "output_type": "stream",
     "text": [
      "Action: emotion: 100%|██████████| 2/2 [00:00<00:00, 14.20it/s]\n"
     ]
    },
    {
     "name": "stdout",
     "output_type": "stream",
     "text": [
      "[{'gender': {'Woman': 8.276749402284622, 'Man': 91.72325134277344}, 'dominant_gender': 'Man', 'region': {'x': 0, 'y': 0, 'w': 639, 'h': 479, 'left_eye': None, 'right_eye': None}, 'face_confidence': 0, 'emotion': {'angry': 0.016574377774503248, 'disgust': 0.002222435019256865, 'fear': 63.21868081204181, 'happy': 0.28497226837857176, 'sad': 18.37403287732797, 'surprise': 0.023228258871574484, 'neutral': 18.080289249437406}, 'dominant_emotion': 'fear'}]\n"
     ]
    },
    {
     "name": "stderr",
     "output_type": "stream",
     "text": [
      "Action: emotion: 100%|██████████| 2/2 [00:00<00:00, 13.31it/s]\n"
     ]
    },
    {
     "name": "stdout",
     "output_type": "stream",
     "text": [
      "[{'gender': {'Woman': 0.06257956847548485, 'Man': 99.93742108345032}, 'dominant_gender': 'Man', 'region': {'x': 156, 'y': 80, 'w': 206, 'h': 206, 'left_eye': (289, 156), 'right_eye': (224, 160)}, 'face_confidence': 0.94, 'emotion': {'angry': 4.538973793387413, 'disgust': 0.00705731799826026, 'fear': 53.41866612434387, 'happy': 0.6744307465851307, 'sad': 16.07656627893448, 'surprise': 0.03195276949554682, 'neutral': 25.252357125282288}, 'dominant_emotion': 'fear'}]\n"
     ]
    },
    {
     "name": "stderr",
     "output_type": "stream",
     "text": [
      "Action: emotion: 100%|██████████| 2/2 [00:00<00:00, 14.14it/s]\n"
     ]
    },
    {
     "name": "stdout",
     "output_type": "stream",
     "text": [
      "[{'gender': {'Woman': 8.417785167694092, 'Man': 91.58220887184143}, 'dominant_gender': 'Man', 'region': {'x': 0, 'y': 0, 'w': 639, 'h': 479, 'left_eye': None, 'right_eye': None}, 'face_confidence': 0, 'emotion': {'angry': 0.00040419185736187944, 'disgust': 1.618973846277968e-05, 'fear': 65.41124994620681, 'happy': 0.7672457972471955, 'sad': 19.270101872670427, 'surprise': 0.07281037110860693, 'neutral': 14.478164675454536}, 'dominant_emotion': 'fear'}]\n"
     ]
    }
   ],
   "source": [
    "import cv2\n",
    "from deepface import DeepFace\n",
    "import FaceDlibs\n",
    "import numpy as np\n",
    "import math\n",
    "\n",
    "# Captura de video desde la cámara\n",
    "vid = cv2.VideoCapture(0)\n",
    "\n",
    "# Interfaz de detectores de cara\n",
    "FDet = FaceDlibs.FaceDlib()\n",
    "\n",
    "# Parámetros de texto\n",
    "font = cv2.FONT_HERSHEY_SIMPLEX\n",
    "fontScale = 1\n",
    "color = (255, 0, 0) \n",
    "thickness = 2 \n",
    "pos = (50, 50)\n",
    "\n",
    "# Cargamos la imagen con el canal alfa\n",
    "filter_image = cv2.imread('emojis/gota.png', -1)\n",
    "star_img = cv2.imread('emojis/happy.png', -1)\n",
    "barba_img = cv2.imread('emojis/barba.png', -1)\n",
    "\n",
    "\n",
    "while(True):      \n",
    "    ret, frame = vid.read()\n",
    "    B, G, R = cv2.split(frame)\n",
    "\n",
    "    if ret:\n",
    "        # Analizamos la imagen para obtener los atributos de la cara con Deepface\n",
    "        obj = DeepFace.analyze(img_path = frame, enforce_detection=False, actions=['gender', 'emotion'])\n",
    "        print(obj)\n",
    "        if len(obj) == 0:\n",
    "            break\n",
    "        \n",
    "        # Carácteristicas y valores de la cara capturada\n",
    "        face = obj[0]\n",
    "        \n",
    "        if face['dominant_emotion'] == \"sad\":\n",
    "            # Detectamos los ojos\n",
    "            values = FDet.SingleFaceEyesDetection(frame, FDet.FaceDetectors[0], FDet.EyeDetectors[0])\n",
    "\n",
    "            if values is not None:\n",
    "                # Valores de la posición de la cara, ojos y forma\n",
    "                face, eyes, shape = values\n",
    "                # Coordenadas y dimensión de la ROI de la cara\n",
    "                [x, y, w, h] = face\n",
    "                if x > -1:\n",
    "                    # Coordenadas y dimensión de los ojos (lex: left eye X, ley: left eye Y, rex: right eye X, rey: right eye Y)\n",
    "                    [lex, ley, rex, rey] = eyes\n",
    "                    if lex > -1:\n",
    "                        # Calcular el ángulo de rotación entre los ojos izquierdo y derecho\n",
    "                        dx = rex - lex\n",
    "                        dy = rey - ley\n",
    "                        angle = math.atan2(dy, dx)  # Ángulo en radianes\n",
    "                        angle_degrees = math.degrees(angle)  # Convertir a grados\n",
    "\n",
    "                        # Redimensionamos el filtro\n",
    "                        filter_resized = cv2.resize(filter_image, (40, 40))\n",
    "\n",
    "                        # Crear una matriz de rotación para ajustarse a la rotación\n",
    "                        center = (filter_resized.shape[1] // 2, filter_resized.shape[0] // 2)\n",
    "                        rotation_matrix = cv2.getRotationMatrix2D(center, angle_degrees, 1)\n",
    "                        rotated_filter = cv2.warpAffine(filter_resized, rotation_matrix, \n",
    "                                                        (filter_resized.shape[1], filter_resized.shape[0]))\n",
    "\n",
    "                        \n",
    "                        # Colocar el filtro rotado sobre el ojo izquierdo (punto 39 de los puntos carácteristicos de la cara de DLIB)\n",
    "                        x, y = shape[39]\n",
    "                        x = x - 40\n",
    "                        y = y + 10\n",
    "                        for i in range(rotated_filter.shape[0]):\n",
    "                            for j in range(rotated_filter.shape[1]):\n",
    "                                if rotated_filter[i, j][3] > 0:  # Si la transparencia es mayor que 0\n",
    "                                    frame[y + i, x + j] = rotated_filter[i, j][0:3]\n",
    "\n",
    "                        # Posicionar el filtro sobre el ojo derecho (punto 42)\n",
    "                        x, y = shape[42]\n",
    "                        x = x + 10\n",
    "                        y = y + 10\n",
    "                        for i in range(rotated_filter.shape[0]):\n",
    "                            for j in range(rotated_filter.shape[1]):\n",
    "                                if rotated_filter[i, j][3] > 0:  # Si la transparencia es mayor que 0\n",
    "                                    frame[y + i, x + j] = rotated_filter[i, j][0:3]\n",
    "\n",
    "        elif face['dominant_emotion'] == \"happy\":\n",
    "            # Obtener las coordenadas de los ojos\n",
    "            if face['region']['left_eye'] != None or face['region']['right_eye'] != None:\n",
    "\n",
    "                left_eye = face['region']['left_eye']\n",
    "                right_eye = face['region']['right_eye']\n",
    "\n",
    "\n",
    "                # Redimensionar la imagen del filtro a las dimensiones de los ojos detectados\n",
    "                star_resize = cv2.resize(star_img, (50, 50))\n",
    "\n",
    "                # Colocar el filtro sobre el ojo izquierdo (sin considerar transparencia)\n",
    "                for i in range(star_resize.shape[0]):\n",
    "                    for j in range(star_resize.shape[1]):\n",
    "                        if star_resize[i, j][3] > 0:  # Si la transparencia es mayor que 0\n",
    "                            frame[left_eye[1] + i -25, left_eye[0] + j -25] = star_resize[i, j][0:3]\n",
    "\n",
    "                # Colocar el filtro sobre el ojo derecho (sin considerar transparencia)\n",
    "                for i in range(star_resize.shape[0]):\n",
    "                    for j in range(star_resize.shape[1]):\n",
    "                        if star_resize[i, j][3] > 0:  # Si la transparencia es mayor que 0\n",
    "                            frame[right_eye[1] + i -25, right_eye[0] + j-25] = star_resize[i, j][0:3]\n",
    "\n",
    "        elif face['dominant_emotion'] == \"neutral\":\n",
    "            \n",
    "            # Detectamos la cara, ojos y los puntos carácterísticos de la cara (shape)\n",
    "            values = FDet.SingleFaceEyesDetection(frame, FDet.FaceDetectors[0], FDet.EyeDetectors[0])\n",
    "\n",
    "            if values is not None:\n",
    "                face, eyes, shape = values\n",
    "                # Coordenadas y dimensiones de la ROI de la cara\n",
    "                [x, y, w, h] = face\n",
    "                if x > -1:\n",
    "                    # Media de las coordenadas de los ojos\n",
    "                    [lex, ley, rex, rey] = eyes\n",
    "                    if lex > -1:\n",
    "                        # Redimensionamos el filtro\n",
    "                        filter_resized = cv2.resize(barba_img, (480, 480))\n",
    "\n",
    "                        # El pto. 19 es el extremo izq. de la ceja dcha. desde la perspectiva del observador\n",
    "                        x_i, y_i = shape[19]\n",
    "                        # El pto. 24 es el extremo dcho. de la ceja izq. desde la perspectiva del observador\n",
    "                        x_d, y_d = shape[24]\n",
    "                        # El pto. 27 es el punto superior del puente de la nariz, entre ambas cejas (referencia para centrar el filtro)\n",
    "                        x_n, y_n = shape[27]\n",
    "                        # Como la máscara no es perfectamente simétrica, ajustamos con los puntos de las cejas\n",
    "                        x_m=x_n\n",
    "                        y_m=y_i\n",
    "                        for i in range(filter_resized.shape[0]):\n",
    "                            for j in range(filter_resized.shape[1]):\n",
    "                                # Si la transparencia es mayor que 0\n",
    "                                if filter_resized[i, j][3] > 0:  \n",
    "                                    frame[y_m + i - 170, x_m + j - 220] = filter_resized[i, j][0:3]                    \n",
    "\n",
    "        # Mostrar el texto con la información de la cara\n",
    "        image = cv2.putText(frame, str(obj[0]['dominant_gender'] + ' ' + obj[0]['dominant_emotion']), pos, font,\n",
    "                            fontScale, color, thickness, cv2.LINE_AA) \n",
    "        # Mostrar fotograma\n",
    "        cv2.imshow('Vid', frame)\n",
    "\n",
    "    # Detenemos pulsado ESC\n",
    "    if cv2.waitKey(20) == 27:\n",
    "        break\n",
    "\n",
    "# Libera el objeto de captura\n",
    "vid.release()\n",
    "# Destruye ventanas\n",
    "cv2.destroyAllWindows()"
   ]
  }
 ],
 "metadata": {
  "kernelspec": {
   "display_name": "VC_P5",
   "language": "python",
   "name": "python3"
  },
  "language_info": {
   "codemirror_mode": {
    "name": "ipython",
    "version": 3
   },
   "file_extension": ".py",
   "mimetype": "text/x-python",
   "name": "python",
   "nbconvert_exporter": "python",
   "pygments_lexer": "ipython3",
   "version": "3.11.5"
  }
 },
 "nbformat": 4,
 "nbformat_minor": 5
}
