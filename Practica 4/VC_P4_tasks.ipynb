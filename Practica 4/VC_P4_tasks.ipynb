{
 "cells": [
  {
   "cell_type": "markdown",
   "metadata": {},
   "source": [
    "Cargamos los paquetes necesarios"
   ]
  },
  {
   "cell_type": "code",
   "execution_count": 2,
   "metadata": {},
   "outputs": [],
   "source": [
    "import cv2, math, pytesseract, csv, re\n",
    "import os\n",
    "import numpy as np\n",
    "from ultralytics import YOLO\n",
    "os.environ[\"KMP_DUPLICATE_LIB_OK\"]=\"TRUE\"\n"
   ]
  },
  {
   "cell_type": "markdown",
   "metadata": {},
   "source": [
    "Cargamos un modelo preentrenado yolo11n.pt, con el fin de entrenar un nuevo modelo capaz de hacer detección de matrículas, en conjunto con el dataset que hemos seleccionado, y así partir de una base con este modelo ya preentrenado."
   ]
  },
  {
   "cell_type": "code",
   "execution_count": 16,
   "metadata": {},
   "outputs": [
    {
     "name": "stdout",
     "output_type": "stream",
     "text": [
      "Transferred 499/499 items from pretrained weights\n",
      "Ultralytics 8.3.23  Python-3.9.20 torch-2.5.0 CUDA:0 (NVIDIA GeForce RTX 3070 Laptop GPU, 8192MiB)\n",
      "\u001b[34m\u001b[1mengine\\trainer: \u001b[0mtask=detect, mode=train, model=yolo11n.yaml, data=.\\matriculas.yaml, epochs=100, time=None, patience=100, batch=8, imgsz=416, save=True, save_period=-1, cache=False, device=None, workers=8, project=None, name=train2, exist_ok=False, pretrained=yolo11n.pt, optimizer=auto, verbose=True, seed=0, deterministic=True, single_cls=False, rect=False, cos_lr=False, close_mosaic=10, resume=False, amp=True, fraction=1.0, profile=False, freeze=None, multi_scale=False, overlap_mask=True, mask_ratio=4, dropout=0.0, val=True, split=val, save_json=False, save_hybrid=False, conf=None, iou=0.7, max_det=300, half=False, dnn=False, plots=True, source=None, vid_stride=1, stream_buffer=False, visualize=False, augment=False, agnostic_nms=False, classes=None, retina_masks=False, embed=None, show=False, save_frames=False, save_txt=False, save_conf=False, save_crop=False, show_labels=True, show_conf=True, show_boxes=True, line_width=None, format=torchscript, keras=False, optimize=False, int8=False, dynamic=False, simplify=True, opset=None, workspace=4, nms=False, lr0=0.01, lrf=0.01, momentum=0.937, weight_decay=0.0005, warmup_epochs=3.0, warmup_momentum=0.8, warmup_bias_lr=0.1, box=7.5, cls=0.5, dfl=1.5, pose=12.0, kobj=1.0, label_smoothing=0.0, nbs=64, hsv_h=0.015, hsv_s=0.7, hsv_v=0.4, degrees=0.0, translate=0.1, scale=0.5, shear=0.0, perspective=0.0, flipud=0.0, fliplr=0.5, bgr=0.0, mosaic=1.0, mixup=0.0, copy_paste=0.0, copy_paste_mode=flip, auto_augment=randaugment, erasing=0.4, crop_fraction=1.0, cfg=None, tracker=botsort.yaml, save_dir=runs\\detect\\train2\n",
      "Overriding model.yaml nc=80 with nc=1\n",
      "\n",
      "                   from  n    params  module                                       arguments                     \n",
      "  0                  -1  1       464  ultralytics.nn.modules.conv.Conv             [3, 16, 3, 2]                 \n",
      "  1                  -1  1      4672  ultralytics.nn.modules.conv.Conv             [16, 32, 3, 2]                \n",
      "  2                  -1  1      6640  ultralytics.nn.modules.block.C3k2            [32, 64, 1, False, 0.25]      \n",
      "  3                  -1  1     36992  ultralytics.nn.modules.conv.Conv             [64, 64, 3, 2]                \n",
      "  4                  -1  1     26080  ultralytics.nn.modules.block.C3k2            [64, 128, 1, False, 0.25]     \n",
      "  5                  -1  1    147712  ultralytics.nn.modules.conv.Conv             [128, 128, 3, 2]              \n",
      "  6                  -1  1     87040  ultralytics.nn.modules.block.C3k2            [128, 128, 1, True]           \n",
      "  7                  -1  1    295424  ultralytics.nn.modules.conv.Conv             [128, 256, 3, 2]              \n",
      "  8                  -1  1    346112  ultralytics.nn.modules.block.C3k2            [256, 256, 1, True]           \n",
      "  9                  -1  1    164608  ultralytics.nn.modules.block.SPPF            [256, 256, 5]                 \n",
      " 10                  -1  1    249728  ultralytics.nn.modules.block.C2PSA           [256, 256, 1]                 \n",
      " 11                  -1  1         0  torch.nn.modules.upsampling.Upsample         [None, 2, 'nearest']          \n",
      " 12             [-1, 6]  1         0  ultralytics.nn.modules.conv.Concat           [1]                           \n",
      " 13                  -1  1    111296  ultralytics.nn.modules.block.C3k2            [384, 128, 1, False]          \n",
      " 14                  -1  1         0  torch.nn.modules.upsampling.Upsample         [None, 2, 'nearest']          \n",
      " 15             [-1, 4]  1         0  ultralytics.nn.modules.conv.Concat           [1]                           \n",
      " 16                  -1  1     32096  ultralytics.nn.modules.block.C3k2            [256, 64, 1, False]           \n",
      " 17                  -1  1     36992  ultralytics.nn.modules.conv.Conv             [64, 64, 3, 2]                \n",
      " 18            [-1, 13]  1         0  ultralytics.nn.modules.conv.Concat           [1]                           \n",
      " 19                  -1  1     86720  ultralytics.nn.modules.block.C3k2            [192, 128, 1, False]          \n",
      " 20                  -1  1    147712  ultralytics.nn.modules.conv.Conv             [128, 128, 3, 2]              \n",
      " 21            [-1, 10]  1         0  ultralytics.nn.modules.conv.Concat           [1]                           \n",
      " 22                  -1  1    378880  ultralytics.nn.modules.block.C3k2            [384, 256, 1, True]           \n",
      " 23        [16, 19, 22]  1    430867  ultralytics.nn.modules.head.Detect           [1, [64, 128, 256]]           \n",
      "YOLO11n summary: 319 layers, 2,590,035 parameters, 2,590,019 gradients, 6.4 GFLOPs\n",
      "\n",
      "Transferred 448/499 items from pretrained weights\n",
      "Freezing layer 'model.23.dfl.conv.weight'\n",
      "\u001b[34m\u001b[1mAMP: \u001b[0mrunning Automatic Mixed Precision (AMP) checks...\n",
      "\u001b[34m\u001b[1mAMP: \u001b[0mchecks passed \n"
     ]
    },
    {
     "name": "stderr",
     "output_type": "stream",
     "text": [
      "\u001b[34m\u001b[1mtrain: \u001b[0mScanning F:\\Universidad\\Curso 2024-25\\Primer Semestre\\VC\\Practicas\\VC\\Practica 4\\TGC_RBNW\\train\\labels.cache... 311 images, 0 backgrounds, 0 corrupt: 100%|██████████| 311/311 [00:00<?, ?it/s]\n",
      "\u001b[34m\u001b[1mval: \u001b[0mScanning F:\\Universidad\\Curso 2024-25\\Primer Semestre\\VC\\Practicas\\VC\\Practica 4\\TGC_RBNW\\val\\labels.cache... 34 images, 0 backgrounds, 0 corrupt: 100%|██████████| 34/34 [00:00<?, ?it/s]\n"
     ]
    },
    {
     "name": "stdout",
     "output_type": "stream",
     "text": [
      "Plotting labels to runs\\detect\\train2\\labels.jpg... \n",
      "\u001b[34m\u001b[1moptimizer:\u001b[0m 'optimizer=auto' found, ignoring 'lr0=0.01' and 'momentum=0.937' and determining best 'optimizer', 'lr0' and 'momentum' automatically... \n",
      "\u001b[34m\u001b[1moptimizer:\u001b[0m AdamW(lr=0.002, momentum=0.9) with parameter groups 81 weight(decay=0.0), 88 weight(decay=0.0005), 87 bias(decay=0.0)\n",
      "Image sizes 416 train, 416 val\n",
      "Using 8 dataloader workers\n",
      "Logging results to \u001b[1mruns\\detect\\train2\u001b[0m\n",
      "Starting training for 100 epochs...\n",
      "\n",
      "      Epoch    GPU_mem   box_loss   cls_loss   dfl_loss  Instances       Size\n"
     ]
    },
    {
     "name": "stderr",
     "output_type": "stream",
     "text": [
      "      1/100     0.614G      1.578      2.936      1.317         15        416: 100%|██████████| 39/39 [00:04<00:00,  8.19it/s]\n",
      "                 Class     Images  Instances      Box(P          R      mAP50  mAP50-95): 100%|██████████| 3/3 [00:00<00:00,  8.68it/s]"
     ]
    },
    {
     "name": "stdout",
     "output_type": "stream",
     "text": [
      "                   all         34         37      0.121      0.027      0.045     0.0103\n"
     ]
    },
    {
     "name": "stderr",
     "output_type": "stream",
     "text": [
      "\n"
     ]
    },
    {
     "name": "stdout",
     "output_type": "stream",
     "text": [
      "\n",
      "      Epoch    GPU_mem   box_loss   cls_loss   dfl_loss  Instances       Size\n"
     ]
    },
    {
     "name": "stderr",
     "output_type": "stream",
     "text": [
      "      2/100     0.598G      1.649      1.818       1.28         14        416: 100%|██████████| 39/39 [00:02<00:00, 14.25it/s]\n",
      "                 Class     Images  Instances      Box(P          R      mAP50  mAP50-95): 100%|██████████| 3/3 [00:00<00:00, 19.78it/s]"
     ]
    },
    {
     "name": "stdout",
     "output_type": "stream",
     "text": [
      "                   all         34         37     0.0116      0.757      0.397      0.217\n"
     ]
    },
    {
     "name": "stderr",
     "output_type": "stream",
     "text": [
      "\n"
     ]
    },
    {
     "name": "stdout",
     "output_type": "stream",
     "text": [
      "\n",
      "      Epoch    GPU_mem   box_loss   cls_loss   dfl_loss  Instances       Size\n"
     ]
    },
    {
     "name": "stderr",
     "output_type": "stream",
     "text": [
      "      3/100     0.614G       1.62      1.808      1.274         20        416: 100%|██████████| 39/39 [00:02<00:00, 14.65it/s]\n",
      "                 Class     Images  Instances      Box(P          R      mAP50  mAP50-95): 100%|██████████| 3/3 [00:00<00:00, 20.28it/s]"
     ]
    },
    {
     "name": "stdout",
     "output_type": "stream",
     "text": [
      "                   all         34         37      0.641      0.676      0.742       0.38\n"
     ]
    },
    {
     "name": "stderr",
     "output_type": "stream",
     "text": [
      "\n"
     ]
    },
    {
     "name": "stdout",
     "output_type": "stream",
     "text": [
      "\n",
      "      Epoch    GPU_mem   box_loss   cls_loss   dfl_loss  Instances       Size\n"
     ]
    },
    {
     "name": "stderr",
     "output_type": "stream",
     "text": [
      "      4/100     0.598G       1.63      1.677      1.294          9        416: 100%|██████████| 39/39 [00:02<00:00, 14.90it/s]\n",
      "                 Class     Images  Instances      Box(P          R      mAP50  mAP50-95): 100%|██████████| 3/3 [00:00<00:00, 19.87it/s]"
     ]
    },
    {
     "name": "stdout",
     "output_type": "stream",
     "text": [
      "                   all         34         37      0.892      0.671      0.848      0.369\n"
     ]
    },
    {
     "name": "stderr",
     "output_type": "stream",
     "text": [
      "\n"
     ]
    },
    {
     "name": "stdout",
     "output_type": "stream",
     "text": [
      "\n",
      "      Epoch    GPU_mem   box_loss   cls_loss   dfl_loss  Instances       Size\n"
     ]
    },
    {
     "name": "stderr",
     "output_type": "stream",
     "text": [
      "      5/100     0.598G      1.564      1.518      1.277         13        416: 100%|██████████| 39/39 [00:02<00:00, 15.15it/s]\n",
      "                 Class     Images  Instances      Box(P          R      mAP50  mAP50-95): 100%|██████████| 3/3 [00:00<00:00, 18.85it/s]"
     ]
    },
    {
     "name": "stdout",
     "output_type": "stream",
     "text": [
      "                   all         34         37      0.881      0.649      0.789      0.421\n"
     ]
    },
    {
     "name": "stderr",
     "output_type": "stream",
     "text": [
      "\n"
     ]
    },
    {
     "name": "stdout",
     "output_type": "stream",
     "text": [
      "\n",
      "      Epoch    GPU_mem   box_loss   cls_loss   dfl_loss  Instances       Size\n"
     ]
    },
    {
     "name": "stderr",
     "output_type": "stream",
     "text": [
      "      6/100     0.614G      1.573      1.474      1.306         22        416: 100%|██████████| 39/39 [00:02<00:00, 15.22it/s]\n",
      "                 Class     Images  Instances      Box(P          R      mAP50  mAP50-95): 100%|██████████| 3/3 [00:00<00:00, 20.40it/s]"
     ]
    },
    {
     "name": "stdout",
     "output_type": "stream",
     "text": [
      "                   all         34         37      0.452      0.703      0.556      0.279\n"
     ]
    },
    {
     "name": "stderr",
     "output_type": "stream",
     "text": [
      "\n"
     ]
    },
    {
     "name": "stdout",
     "output_type": "stream",
     "text": [
      "\n",
      "      Epoch    GPU_mem   box_loss   cls_loss   dfl_loss  Instances       Size\n"
     ]
    },
    {
     "name": "stderr",
     "output_type": "stream",
     "text": [
      "      7/100       0.6G      1.558      1.397       1.31         20        416: 100%|██████████| 39/39 [00:02<00:00, 15.21it/s]\n",
      "                 Class     Images  Instances      Box(P          R      mAP50  mAP50-95): 100%|██████████| 3/3 [00:00<00:00, 20.27it/s]"
     ]
    },
    {
     "name": "stdout",
     "output_type": "stream",
     "text": [
      "                   all         34         37          1      0.855       0.97      0.545\n"
     ]
    },
    {
     "name": "stderr",
     "output_type": "stream",
     "text": [
      "\n"
     ]
    },
    {
     "name": "stdout",
     "output_type": "stream",
     "text": [
      "\n",
      "      Epoch    GPU_mem   box_loss   cls_loss   dfl_loss  Instances       Size\n"
     ]
    },
    {
     "name": "stderr",
     "output_type": "stream",
     "text": [
      "      8/100     0.614G      1.587      1.344      1.325         12        416: 100%|██████████| 39/39 [00:02<00:00, 15.67it/s]\n",
      "                 Class     Images  Instances      Box(P          R      mAP50  mAP50-95): 100%|██████████| 3/3 [00:00<00:00, 20.36it/s]"
     ]
    },
    {
     "name": "stdout",
     "output_type": "stream",
     "text": [
      "                   all         34         37          1      0.858      0.962      0.512\n"
     ]
    },
    {
     "name": "stderr",
     "output_type": "stream",
     "text": [
      "\n"
     ]
    },
    {
     "name": "stdout",
     "output_type": "stream",
     "text": [
      "\n",
      "      Epoch    GPU_mem   box_loss   cls_loss   dfl_loss  Instances       Size\n"
     ]
    },
    {
     "name": "stderr",
     "output_type": "stream",
     "text": [
      "      9/100       0.6G      1.528      1.253      1.291         14        416: 100%|██████████| 39/39 [00:02<00:00, 15.56it/s]\n",
      "                 Class     Images  Instances      Box(P          R      mAP50  mAP50-95): 100%|██████████| 3/3 [00:00<00:00, 19.60it/s]"
     ]
    },
    {
     "name": "stdout",
     "output_type": "stream",
     "text": [
      "                   all         34         37      0.964      0.726      0.913       0.52\n"
     ]
    },
    {
     "name": "stderr",
     "output_type": "stream",
     "text": [
      "\n"
     ]
    },
    {
     "name": "stdout",
     "output_type": "stream",
     "text": [
      "\n",
      "      Epoch    GPU_mem   box_loss   cls_loss   dfl_loss  Instances       Size\n"
     ]
    },
    {
     "name": "stderr",
     "output_type": "stream",
     "text": [
      "     10/100     0.614G       1.52      1.226      1.281         19        416: 100%|██████████| 39/39 [00:02<00:00, 15.43it/s]\n",
      "                 Class     Images  Instances      Box(P          R      mAP50  mAP50-95): 100%|██████████| 3/3 [00:00<00:00, 20.21it/s]"
     ]
    },
    {
     "name": "stdout",
     "output_type": "stream",
     "text": [
      "                   all         34         37       0.84      0.919      0.921      0.522\n"
     ]
    },
    {
     "name": "stderr",
     "output_type": "stream",
     "text": [
      "\n"
     ]
    },
    {
     "name": "stdout",
     "output_type": "stream",
     "text": [
      "\n",
      "      Epoch    GPU_mem   box_loss   cls_loss   dfl_loss  Instances       Size\n"
     ]
    },
    {
     "name": "stderr",
     "output_type": "stream",
     "text": [
      "     11/100     0.598G      1.465      1.195      1.259         16        416: 100%|██████████| 39/39 [00:02<00:00, 15.42it/s]\n",
      "                 Class     Images  Instances      Box(P          R      mAP50  mAP50-95): 100%|██████████| 3/3 [00:00<00:00, 20.61it/s]"
     ]
    },
    {
     "name": "stdout",
     "output_type": "stream",
     "text": [
      "                   all         34         37       0.94      0.853      0.927      0.499\n"
     ]
    },
    {
     "name": "stderr",
     "output_type": "stream",
     "text": [
      "\n"
     ]
    },
    {
     "name": "stdout",
     "output_type": "stream",
     "text": [
      "\n",
      "      Epoch    GPU_mem   box_loss   cls_loss   dfl_loss  Instances       Size\n"
     ]
    },
    {
     "name": "stderr",
     "output_type": "stream",
     "text": [
      "     12/100     0.598G      1.452      1.159       1.22          9        416: 100%|██████████| 39/39 [00:02<00:00, 15.63it/s]\n",
      "                 Class     Images  Instances      Box(P          R      mAP50  mAP50-95): 100%|██████████| 3/3 [00:00<00:00, 19.88it/s]"
     ]
    },
    {
     "name": "stdout",
     "output_type": "stream",
     "text": [
      "                   all         34         37      0.938      0.919      0.925      0.518\n"
     ]
    },
    {
     "name": "stderr",
     "output_type": "stream",
     "text": [
      "\n"
     ]
    },
    {
     "name": "stdout",
     "output_type": "stream",
     "text": [
      "\n",
      "      Epoch    GPU_mem   box_loss   cls_loss   dfl_loss  Instances       Size\n"
     ]
    },
    {
     "name": "stderr",
     "output_type": "stream",
     "text": [
      "     13/100     0.598G      1.471      1.122      1.259         11        416: 100%|██████████| 39/39 [00:02<00:00, 15.72it/s]\n",
      "                 Class     Images  Instances      Box(P          R      mAP50  mAP50-95): 100%|██████████| 3/3 [00:00<00:00, 21.04it/s]"
     ]
    },
    {
     "name": "stdout",
     "output_type": "stream",
     "text": [
      "                   all         34         37      0.993      0.919      0.966      0.556\n"
     ]
    },
    {
     "name": "stderr",
     "output_type": "stream",
     "text": [
      "\n"
     ]
    },
    {
     "name": "stdout",
     "output_type": "stream",
     "text": [
      "\n",
      "      Epoch    GPU_mem   box_loss   cls_loss   dfl_loss  Instances       Size\n"
     ]
    },
    {
     "name": "stderr",
     "output_type": "stream",
     "text": [
      "     14/100     0.614G      1.496      1.121      1.266         19        416: 100%|██████████| 39/39 [00:02<00:00, 15.47it/s]\n",
      "                 Class     Images  Instances      Box(P          R      mAP50  mAP50-95): 100%|██████████| 3/3 [00:00<00:00, 20.92it/s]"
     ]
    },
    {
     "name": "stdout",
     "output_type": "stream",
     "text": [
      "                   all         34         37      0.899      0.919       0.97      0.524\n"
     ]
    },
    {
     "name": "stderr",
     "output_type": "stream",
     "text": [
      "\n"
     ]
    },
    {
     "name": "stdout",
     "output_type": "stream",
     "text": [
      "\n",
      "      Epoch    GPU_mem   box_loss   cls_loss   dfl_loss  Instances       Size\n"
     ]
    },
    {
     "name": "stderr",
     "output_type": "stream",
     "text": [
      "     15/100     0.598G      1.457       1.12      1.272         18        416: 100%|██████████| 39/39 [00:02<00:00, 15.67it/s]\n",
      "                 Class     Images  Instances      Box(P          R      mAP50  mAP50-95): 100%|██████████| 3/3 [00:00<00:00, 20.39it/s]"
     ]
    },
    {
     "name": "stdout",
     "output_type": "stream",
     "text": [
      "                   all         34         37          1      0.934      0.978      0.584\n"
     ]
    },
    {
     "name": "stderr",
     "output_type": "stream",
     "text": [
      "\n"
     ]
    },
    {
     "name": "stdout",
     "output_type": "stream",
     "text": [
      "\n",
      "      Epoch    GPU_mem   box_loss   cls_loss   dfl_loss  Instances       Size\n"
     ]
    },
    {
     "name": "stderr",
     "output_type": "stream",
     "text": [
      "     16/100     0.614G      1.439      1.072      1.191         14        416: 100%|██████████| 39/39 [00:02<00:00, 15.03it/s]\n",
      "                 Class     Images  Instances      Box(P          R      mAP50  mAP50-95): 100%|██████████| 3/3 [00:00<00:00, 20.16it/s]"
     ]
    },
    {
     "name": "stdout",
     "output_type": "stream",
     "text": [
      "                   all         34         37       0.85      0.838       0.85      0.527\n"
     ]
    },
    {
     "name": "stderr",
     "output_type": "stream",
     "text": [
      "\n"
     ]
    },
    {
     "name": "stdout",
     "output_type": "stream",
     "text": [
      "\n",
      "      Epoch    GPU_mem   box_loss   cls_loss   dfl_loss  Instances       Size\n"
     ]
    },
    {
     "name": "stderr",
     "output_type": "stream",
     "text": [
      "     17/100     0.598G      1.452      1.073      1.226         16        416: 100%|██████████| 39/39 [00:02<00:00, 15.52it/s]\n",
      "                 Class     Images  Instances      Box(P          R      mAP50  mAP50-95): 100%|██████████| 3/3 [00:00<00:00, 19.79it/s]"
     ]
    },
    {
     "name": "stdout",
     "output_type": "stream",
     "text": [
      "                   all         34         37      0.962      0.919      0.979      0.573\n"
     ]
    },
    {
     "name": "stderr",
     "output_type": "stream",
     "text": [
      "\n"
     ]
    },
    {
     "name": "stdout",
     "output_type": "stream",
     "text": [
      "\n",
      "      Epoch    GPU_mem   box_loss   cls_loss   dfl_loss  Instances       Size\n"
     ]
    },
    {
     "name": "stderr",
     "output_type": "stream",
     "text": [
      "     18/100     0.614G      1.388      1.048      1.213          6        416: 100%|██████████| 39/39 [00:02<00:00, 15.68it/s]\n",
      "                 Class     Images  Instances      Box(P          R      mAP50  mAP50-95): 100%|██████████| 3/3 [00:00<00:00, 20.92it/s]"
     ]
    },
    {
     "name": "stdout",
     "output_type": "stream",
     "text": [
      "                   all         34         37      0.971      0.919      0.986      0.566\n"
     ]
    },
    {
     "name": "stderr",
     "output_type": "stream",
     "text": [
      "\n"
     ]
    },
    {
     "name": "stdout",
     "output_type": "stream",
     "text": [
      "\n",
      "      Epoch    GPU_mem   box_loss   cls_loss   dfl_loss  Instances       Size\n"
     ]
    },
    {
     "name": "stderr",
     "output_type": "stream",
     "text": [
      "     19/100     0.598G      1.359      1.011      1.211         16        416: 100%|██████████| 39/39 [00:02<00:00, 14.90it/s]\n",
      "                 Class     Images  Instances      Box(P          R      mAP50  mAP50-95): 100%|██████████| 3/3 [00:00<00:00, 21.18it/s]"
     ]
    },
    {
     "name": "stdout",
     "output_type": "stream",
     "text": [
      "                   all         34         37          1      0.936      0.988      0.569\n"
     ]
    },
    {
     "name": "stderr",
     "output_type": "stream",
     "text": [
      "\n"
     ]
    },
    {
     "name": "stdout",
     "output_type": "stream",
     "text": [
      "\n",
      "      Epoch    GPU_mem   box_loss   cls_loss   dfl_loss  Instances       Size\n"
     ]
    },
    {
     "name": "stderr",
     "output_type": "stream",
     "text": [
      "     20/100     0.598G      1.375     0.9802      1.189         22        416: 100%|██████████| 39/39 [00:02<00:00, 15.61it/s]\n",
      "                 Class     Images  Instances      Box(P          R      mAP50  mAP50-95): 100%|██████████| 3/3 [00:00<00:00, 19.64it/s]"
     ]
    },
    {
     "name": "stdout",
     "output_type": "stream",
     "text": [
      "                   all         34         37      0.967      0.973      0.988      0.575\n"
     ]
    },
    {
     "name": "stderr",
     "output_type": "stream",
     "text": [
      "\n"
     ]
    },
    {
     "name": "stdout",
     "output_type": "stream",
     "text": [
      "\n",
      "      Epoch    GPU_mem   box_loss   cls_loss   dfl_loss  Instances       Size\n"
     ]
    },
    {
     "name": "stderr",
     "output_type": "stream",
     "text": [
      "     21/100     0.598G      1.383     0.9687      1.202         13        416: 100%|██████████| 39/39 [00:02<00:00, 14.99it/s]\n",
      "                 Class     Images  Instances      Box(P          R      mAP50  mAP50-95): 100%|██████████| 3/3 [00:00<00:00, 18.88it/s]"
     ]
    },
    {
     "name": "stdout",
     "output_type": "stream",
     "text": [
      "                   all         34         37      0.915      0.946      0.969      0.592\n"
     ]
    },
    {
     "name": "stderr",
     "output_type": "stream",
     "text": [
      "\n"
     ]
    },
    {
     "name": "stdout",
     "output_type": "stream",
     "text": [
      "\n",
      "      Epoch    GPU_mem   box_loss   cls_loss   dfl_loss  Instances       Size\n"
     ]
    },
    {
     "name": "stderr",
     "output_type": "stream",
     "text": [
      "     22/100     0.614G      1.352     0.9502      1.192         10        416: 100%|██████████| 39/39 [00:02<00:00, 13.72it/s]\n",
      "                 Class     Images  Instances      Box(P          R      mAP50  mAP50-95): 100%|██████████| 3/3 [00:00<00:00, 20.04it/s]"
     ]
    },
    {
     "name": "stdout",
     "output_type": "stream",
     "text": [
      "                   all         34         37      0.934      0.919      0.953      0.566\n"
     ]
    },
    {
     "name": "stderr",
     "output_type": "stream",
     "text": [
      "\n"
     ]
    },
    {
     "name": "stdout",
     "output_type": "stream",
     "text": [
      "\n",
      "      Epoch    GPU_mem   box_loss   cls_loss   dfl_loss  Instances       Size\n"
     ]
    },
    {
     "name": "stderr",
     "output_type": "stream",
     "text": [
      "     23/100     0.598G      1.382     0.9545      1.182         11        416: 100%|██████████| 39/39 [00:02<00:00, 13.85it/s]\n",
      "                 Class     Images  Instances      Box(P          R      mAP50  mAP50-95): 100%|██████████| 3/3 [00:00<00:00, 18.50it/s]"
     ]
    },
    {
     "name": "stdout",
     "output_type": "stream",
     "text": [
      "                   all         34         37      0.965      0.946       0.98      0.605\n"
     ]
    },
    {
     "name": "stderr",
     "output_type": "stream",
     "text": [
      "\n"
     ]
    },
    {
     "name": "stdout",
     "output_type": "stream",
     "text": [
      "\n",
      "      Epoch    GPU_mem   box_loss   cls_loss   dfl_loss  Instances       Size\n"
     ]
    },
    {
     "name": "stderr",
     "output_type": "stream",
     "text": [
      "     24/100     0.614G      1.364     0.9645      1.191         15        416: 100%|██████████| 39/39 [00:02<00:00, 14.36it/s]\n",
      "                 Class     Images  Instances      Box(P          R      mAP50  mAP50-95): 100%|██████████| 3/3 [00:00<00:00, 18.88it/s]\n"
     ]
    },
    {
     "name": "stdout",
     "output_type": "stream",
     "text": [
      "                   all         34         37      0.948      0.892      0.967      0.573\n",
      "\n",
      "      Epoch    GPU_mem   box_loss   cls_loss   dfl_loss  Instances       Size\n"
     ]
    },
    {
     "name": "stderr",
     "output_type": "stream",
     "text": [
      "     25/100     0.598G      1.409     0.9304      1.213         10        416: 100%|██████████| 39/39 [00:02<00:00, 14.46it/s]\n",
      "                 Class     Images  Instances      Box(P          R      mAP50  mAP50-95): 100%|██████████| 3/3 [00:00<00:00, 18.06it/s]"
     ]
    },
    {
     "name": "stdout",
     "output_type": "stream",
     "text": [
      "                   all         34         37      0.973      0.964      0.978      0.567\n"
     ]
    },
    {
     "name": "stderr",
     "output_type": "stream",
     "text": [
      "\n"
     ]
    },
    {
     "name": "stdout",
     "output_type": "stream",
     "text": [
      "\n",
      "      Epoch    GPU_mem   box_loss   cls_loss   dfl_loss  Instances       Size\n"
     ]
    },
    {
     "name": "stderr",
     "output_type": "stream",
     "text": [
      "     26/100     0.614G      1.348     0.9207      1.184         12        416: 100%|██████████| 39/39 [00:02<00:00, 14.46it/s]\n",
      "                 Class     Images  Instances      Box(P          R      mAP50  mAP50-95): 100%|██████████| 3/3 [00:00<00:00, 18.86it/s]"
     ]
    },
    {
     "name": "stdout",
     "output_type": "stream",
     "text": [
      "                   all         34         37      0.951      0.973      0.992      0.593\n"
     ]
    },
    {
     "name": "stderr",
     "output_type": "stream",
     "text": [
      "\n"
     ]
    },
    {
     "name": "stdout",
     "output_type": "stream",
     "text": [
      "\n",
      "      Epoch    GPU_mem   box_loss   cls_loss   dfl_loss  Instances       Size\n"
     ]
    },
    {
     "name": "stderr",
     "output_type": "stream",
     "text": [
      "     27/100     0.598G      1.295     0.8744       1.16         15        416: 100%|██████████| 39/39 [00:02<00:00, 14.70it/s]\n",
      "                 Class     Images  Instances      Box(P          R      mAP50  mAP50-95): 100%|██████████| 3/3 [00:00<00:00, 19.00it/s]"
     ]
    },
    {
     "name": "stdout",
     "output_type": "stream",
     "text": [
      "                   all         34         37      0.963      0.919      0.967      0.552\n"
     ]
    },
    {
     "name": "stderr",
     "output_type": "stream",
     "text": [
      "\n"
     ]
    },
    {
     "name": "stdout",
     "output_type": "stream",
     "text": [
      "\n",
      "      Epoch    GPU_mem   box_loss   cls_loss   dfl_loss  Instances       Size\n"
     ]
    },
    {
     "name": "stderr",
     "output_type": "stream",
     "text": [
      "     28/100     0.598G      1.315     0.9015      1.165          9        416: 100%|██████████| 39/39 [00:02<00:00, 14.89it/s]\n",
      "                 Class     Images  Instances      Box(P          R      mAP50  mAP50-95): 100%|██████████| 3/3 [00:00<00:00, 19.68it/s]"
     ]
    },
    {
     "name": "stdout",
     "output_type": "stream",
     "text": [
      "                   all         34         37      0.895          1      0.983       0.59\n"
     ]
    },
    {
     "name": "stderr",
     "output_type": "stream",
     "text": [
      "\n"
     ]
    },
    {
     "name": "stdout",
     "output_type": "stream",
     "text": [
      "\n",
      "      Epoch    GPU_mem   box_loss   cls_loss   dfl_loss  Instances       Size\n"
     ]
    },
    {
     "name": "stderr",
     "output_type": "stream",
     "text": [
      "     29/100     0.598G      1.346     0.8672      1.152         11        416: 100%|██████████| 39/39 [00:02<00:00, 14.11it/s]\n",
      "                 Class     Images  Instances      Box(P          R      mAP50  mAP50-95): 100%|██████████| 3/3 [00:00<00:00, 20.72it/s]"
     ]
    },
    {
     "name": "stdout",
     "output_type": "stream",
     "text": [
      "                   all         34         37      0.947      0.969      0.986      0.544\n"
     ]
    },
    {
     "name": "stderr",
     "output_type": "stream",
     "text": [
      "\n"
     ]
    },
    {
     "name": "stdout",
     "output_type": "stream",
     "text": [
      "\n",
      "      Epoch    GPU_mem   box_loss   cls_loss   dfl_loss  Instances       Size\n"
     ]
    },
    {
     "name": "stderr",
     "output_type": "stream",
     "text": [
      "     30/100     0.614G      1.301     0.8933      1.164          8        416: 100%|██████████| 39/39 [00:02<00:00, 14.50it/s]\n",
      "                 Class     Images  Instances      Box(P          R      mAP50  mAP50-95): 100%|██████████| 3/3 [00:00<00:00, 19.54it/s]"
     ]
    },
    {
     "name": "stdout",
     "output_type": "stream",
     "text": [
      "                   all         34         37      0.918      0.907      0.971      0.583\n"
     ]
    },
    {
     "name": "stderr",
     "output_type": "stream",
     "text": [
      "\n"
     ]
    },
    {
     "name": "stdout",
     "output_type": "stream",
     "text": [
      "\n",
      "      Epoch    GPU_mem   box_loss   cls_loss   dfl_loss  Instances       Size\n"
     ]
    },
    {
     "name": "stderr",
     "output_type": "stream",
     "text": [
      "     31/100     0.598G      1.309     0.8697      1.174          9        416: 100%|██████████| 39/39 [00:02<00:00, 14.56it/s]\n",
      "                 Class     Images  Instances      Box(P          R      mAP50  mAP50-95): 100%|██████████| 3/3 [00:00<00:00, 16.59it/s]"
     ]
    },
    {
     "name": "stdout",
     "output_type": "stream",
     "text": [
      "                   all         34         37          1      0.919      0.986      0.608\n"
     ]
    },
    {
     "name": "stderr",
     "output_type": "stream",
     "text": [
      "\n"
     ]
    },
    {
     "name": "stdout",
     "output_type": "stream",
     "text": [
      "\n",
      "      Epoch    GPU_mem   box_loss   cls_loss   dfl_loss  Instances       Size\n"
     ]
    },
    {
     "name": "stderr",
     "output_type": "stream",
     "text": [
      "     32/100     0.614G      1.266     0.8452      1.167         16        416: 100%|██████████| 39/39 [00:02<00:00, 14.12it/s]\n",
      "                 Class     Images  Instances      Box(P          R      mAP50  mAP50-95): 100%|██████████| 3/3 [00:00<00:00, 18.87it/s]"
     ]
    },
    {
     "name": "stdout",
     "output_type": "stream",
     "text": [
      "                   all         34         37      0.988      0.919       0.99      0.544\n"
     ]
    },
    {
     "name": "stderr",
     "output_type": "stream",
     "text": [
      "\n"
     ]
    },
    {
     "name": "stdout",
     "output_type": "stream",
     "text": [
      "\n",
      "      Epoch    GPU_mem   box_loss   cls_loss   dfl_loss  Instances       Size\n"
     ]
    },
    {
     "name": "stderr",
     "output_type": "stream",
     "text": [
      "     33/100     0.598G      1.296     0.8259      1.176         16        416: 100%|██████████| 39/39 [00:02<00:00, 14.43it/s]\n",
      "                 Class     Images  Instances      Box(P          R      mAP50  mAP50-95): 100%|██████████| 3/3 [00:00<00:00, 18.48it/s]"
     ]
    },
    {
     "name": "stdout",
     "output_type": "stream",
     "text": [
      "                   all         34         37      0.984      0.865      0.968      0.559\n"
     ]
    },
    {
     "name": "stderr",
     "output_type": "stream",
     "text": [
      "\n"
     ]
    },
    {
     "name": "stdout",
     "output_type": "stream",
     "text": [
      "\n",
      "      Epoch    GPU_mem   box_loss   cls_loss   dfl_loss  Instances       Size\n"
     ]
    },
    {
     "name": "stderr",
     "output_type": "stream",
     "text": [
      "     34/100     0.614G      1.202     0.7843      1.123         14        416: 100%|██████████| 39/39 [00:02<00:00, 14.03it/s]\n",
      "                 Class     Images  Instances      Box(P          R      mAP50  mAP50-95): 100%|██████████| 3/3 [00:00<00:00, 18.88it/s]"
     ]
    },
    {
     "name": "stdout",
     "output_type": "stream",
     "text": [
      "                   all         34         37      0.943          1      0.992      0.612\n"
     ]
    },
    {
     "name": "stderr",
     "output_type": "stream",
     "text": [
      "\n"
     ]
    },
    {
     "name": "stdout",
     "output_type": "stream",
     "text": [
      "\n",
      "      Epoch    GPU_mem   box_loss   cls_loss   dfl_loss  Instances       Size\n"
     ]
    },
    {
     "name": "stderr",
     "output_type": "stream",
     "text": [
      "     35/100     0.598G      1.207     0.7625       1.11         17        416: 100%|██████████| 39/39 [00:02<00:00, 14.26it/s]\n",
      "                 Class     Images  Instances      Box(P          R      mAP50  mAP50-95): 100%|██████████| 3/3 [00:00<00:00, 19.52it/s]"
     ]
    },
    {
     "name": "stdout",
     "output_type": "stream",
     "text": [
      "                   all         34         37      0.972       0.94      0.964      0.565\n"
     ]
    },
    {
     "name": "stderr",
     "output_type": "stream",
     "text": [
      "\n"
     ]
    },
    {
     "name": "stdout",
     "output_type": "stream",
     "text": [
      "\n",
      "      Epoch    GPU_mem   box_loss   cls_loss   dfl_loss  Instances       Size\n"
     ]
    },
    {
     "name": "stderr",
     "output_type": "stream",
     "text": [
      "     36/100     0.598G      1.252     0.7845       1.13         14        416: 100%|██████████| 39/39 [00:02<00:00, 14.23it/s]\n",
      "                 Class     Images  Instances      Box(P          R      mAP50  mAP50-95): 100%|██████████| 3/3 [00:00<00:00, 19.29it/s]"
     ]
    },
    {
     "name": "stdout",
     "output_type": "stream",
     "text": [
      "                   all         34         37      0.963      0.946      0.982      0.571\n"
     ]
    },
    {
     "name": "stderr",
     "output_type": "stream",
     "text": [
      "\n"
     ]
    },
    {
     "name": "stdout",
     "output_type": "stream",
     "text": [
      "\n",
      "      Epoch    GPU_mem   box_loss   cls_loss   dfl_loss  Instances       Size\n"
     ]
    },
    {
     "name": "stderr",
     "output_type": "stream",
     "text": [
      "     37/100     0.598G      1.273     0.8242      1.157         22        416: 100%|██████████| 39/39 [00:02<00:00, 14.12it/s]\n",
      "                 Class     Images  Instances      Box(P          R      mAP50  mAP50-95): 100%|██████████| 3/3 [00:00<00:00, 19.26it/s]"
     ]
    },
    {
     "name": "stdout",
     "output_type": "stream",
     "text": [
      "                   all         34         37          1      0.915      0.984      0.585\n"
     ]
    },
    {
     "name": "stderr",
     "output_type": "stream",
     "text": [
      "\n"
     ]
    },
    {
     "name": "stdout",
     "output_type": "stream",
     "text": [
      "\n",
      "      Epoch    GPU_mem   box_loss   cls_loss   dfl_loss  Instances       Size\n"
     ]
    },
    {
     "name": "stderr",
     "output_type": "stream",
     "text": [
      "     38/100     0.614G      1.263     0.8233      1.124         14        416: 100%|██████████| 39/39 [00:02<00:00, 14.02it/s]\n",
      "                 Class     Images  Instances      Box(P          R      mAP50  mAP50-95): 100%|██████████| 3/3 [00:00<00:00, 18.17it/s]"
     ]
    },
    {
     "name": "stdout",
     "output_type": "stream",
     "text": [
      "                   all         34         37      0.951          1      0.994      0.586\n"
     ]
    },
    {
     "name": "stderr",
     "output_type": "stream",
     "text": [
      "\n"
     ]
    },
    {
     "name": "stdout",
     "output_type": "stream",
     "text": [
      "\n",
      "      Epoch    GPU_mem   box_loss   cls_loss   dfl_loss  Instances       Size\n"
     ]
    },
    {
     "name": "stderr",
     "output_type": "stream",
     "text": [
      "     39/100     0.598G      1.242     0.7802      1.148         17        416: 100%|██████████| 39/39 [00:02<00:00, 14.40it/s]\n",
      "                 Class     Images  Instances      Box(P          R      mAP50  mAP50-95): 100%|██████████| 3/3 [00:00<00:00, 17.56it/s]"
     ]
    },
    {
     "name": "stdout",
     "output_type": "stream",
     "text": [
      "                   all         34         37      0.977      0.919      0.985      0.595\n"
     ]
    },
    {
     "name": "stderr",
     "output_type": "stream",
     "text": [
      "\n"
     ]
    },
    {
     "name": "stdout",
     "output_type": "stream",
     "text": [
      "\n",
      "      Epoch    GPU_mem   box_loss   cls_loss   dfl_loss  Instances       Size\n"
     ]
    },
    {
     "name": "stderr",
     "output_type": "stream",
     "text": [
      "     40/100     0.614G      1.227     0.7716      1.124         10        416: 100%|██████████| 39/39 [00:02<00:00, 13.68it/s]\n",
      "                 Class     Images  Instances      Box(P          R      mAP50  mAP50-95): 100%|██████████| 3/3 [00:00<00:00, 18.24it/s]"
     ]
    },
    {
     "name": "stdout",
     "output_type": "stream",
     "text": [
      "                   all         34         37      0.987      0.973      0.988      0.578\n"
     ]
    },
    {
     "name": "stderr",
     "output_type": "stream",
     "text": [
      "\n"
     ]
    },
    {
     "name": "stdout",
     "output_type": "stream",
     "text": [
      "\n",
      "      Epoch    GPU_mem   box_loss   cls_loss   dfl_loss  Instances       Size\n"
     ]
    },
    {
     "name": "stderr",
     "output_type": "stream",
     "text": [
      "     41/100     0.598G      1.243     0.7735      1.123         16        416: 100%|██████████| 39/39 [00:02<00:00, 14.16it/s]\n",
      "                 Class     Images  Instances      Box(P          R      mAP50  mAP50-95): 100%|██████████| 3/3 [00:00<00:00, 19.46it/s]"
     ]
    },
    {
     "name": "stdout",
     "output_type": "stream",
     "text": [
      "                   all         34         37      0.873       0.93      0.949      0.531\n"
     ]
    },
    {
     "name": "stderr",
     "output_type": "stream",
     "text": [
      "\n"
     ]
    },
    {
     "name": "stdout",
     "output_type": "stream",
     "text": [
      "\n",
      "      Epoch    GPU_mem   box_loss   cls_loss   dfl_loss  Instances       Size\n"
     ]
    },
    {
     "name": "stderr",
     "output_type": "stream",
     "text": [
      "     42/100     0.614G      1.223     0.7571      1.107         16        416: 100%|██████████| 39/39 [00:02<00:00, 13.81it/s]\n",
      "                 Class     Images  Instances      Box(P          R      mAP50  mAP50-95): 100%|██████████| 3/3 [00:00<00:00, 17.70it/s]"
     ]
    },
    {
     "name": "stdout",
     "output_type": "stream",
     "text": [
      "                   all         34         37      0.941      0.973      0.964      0.601\n"
     ]
    },
    {
     "name": "stderr",
     "output_type": "stream",
     "text": [
      "\n"
     ]
    },
    {
     "name": "stdout",
     "output_type": "stream",
     "text": [
      "\n",
      "      Epoch    GPU_mem   box_loss   cls_loss   dfl_loss  Instances       Size\n"
     ]
    },
    {
     "name": "stderr",
     "output_type": "stream",
     "text": [
      "     43/100     0.598G      1.255     0.7828      1.123         10        416: 100%|██████████| 39/39 [00:02<00:00, 13.64it/s]\n",
      "                 Class     Images  Instances      Box(P          R      mAP50  mAP50-95): 100%|██████████| 3/3 [00:00<00:00, 18.52it/s]"
     ]
    },
    {
     "name": "stdout",
     "output_type": "stream",
     "text": [
      "                   all         34         37      0.872      0.919      0.925       0.54\n"
     ]
    },
    {
     "name": "stderr",
     "output_type": "stream",
     "text": [
      "\n"
     ]
    },
    {
     "name": "stdout",
     "output_type": "stream",
     "text": [
      "\n",
      "      Epoch    GPU_mem   box_loss   cls_loss   dfl_loss  Instances       Size\n"
     ]
    },
    {
     "name": "stderr",
     "output_type": "stream",
     "text": [
      "     44/100     0.598G      1.243     0.7687      1.128         15        416: 100%|██████████| 39/39 [00:02<00:00, 14.15it/s]\n",
      "                 Class     Images  Instances      Box(P          R      mAP50  mAP50-95): 100%|██████████| 3/3 [00:00<00:00, 18.61it/s]"
     ]
    },
    {
     "name": "stdout",
     "output_type": "stream",
     "text": [
      "                   all         34         37      0.998      0.973      0.994      0.631\n"
     ]
    },
    {
     "name": "stderr",
     "output_type": "stream",
     "text": [
      "\n"
     ]
    },
    {
     "name": "stdout",
     "output_type": "stream",
     "text": [
      "\n",
      "      Epoch    GPU_mem   box_loss   cls_loss   dfl_loss  Instances       Size\n"
     ]
    },
    {
     "name": "stderr",
     "output_type": "stream",
     "text": [
      "     45/100     0.598G       1.23     0.7502      1.144         18        416: 100%|██████████| 39/39 [00:02<00:00, 13.64it/s]\n",
      "                 Class     Images  Instances      Box(P          R      mAP50  mAP50-95): 100%|██████████| 3/3 [00:00<00:00, 18.78it/s]"
     ]
    },
    {
     "name": "stdout",
     "output_type": "stream",
     "text": [
      "                   all         34         37      0.987      0.946      0.992      0.587\n"
     ]
    },
    {
     "name": "stderr",
     "output_type": "stream",
     "text": [
      "\n"
     ]
    },
    {
     "name": "stdout",
     "output_type": "stream",
     "text": [
      "\n",
      "      Epoch    GPU_mem   box_loss   cls_loss   dfl_loss  Instances       Size\n"
     ]
    },
    {
     "name": "stderr",
     "output_type": "stream",
     "text": [
      "     46/100     0.614G       1.21     0.7411       1.13         30        416: 100%|██████████| 39/39 [00:02<00:00, 13.99it/s]\n",
      "                 Class     Images  Instances      Box(P          R      mAP50  mAP50-95): 100%|██████████| 3/3 [00:00<00:00, 18.76it/s]"
     ]
    },
    {
     "name": "stdout",
     "output_type": "stream",
     "text": [
      "                   all         34         37          1      0.936      0.992       0.62\n"
     ]
    },
    {
     "name": "stderr",
     "output_type": "stream",
     "text": [
      "\n"
     ]
    },
    {
     "name": "stdout",
     "output_type": "stream",
     "text": [
      "\n",
      "      Epoch    GPU_mem   box_loss   cls_loss   dfl_loss  Instances       Size\n"
     ]
    },
    {
     "name": "stderr",
     "output_type": "stream",
     "text": [
      "     47/100     0.598G      1.141     0.6921      1.098          9        416: 100%|██████████| 39/39 [00:02<00:00, 13.53it/s]\n",
      "                 Class     Images  Instances      Box(P          R      mAP50  mAP50-95): 100%|██████████| 3/3 [00:00<00:00, 18.96it/s]"
     ]
    },
    {
     "name": "stdout",
     "output_type": "stream",
     "text": [
      "                   all         34         37      0.949      0.996      0.992      0.645\n"
     ]
    },
    {
     "name": "stderr",
     "output_type": "stream",
     "text": [
      "\n"
     ]
    },
    {
     "name": "stdout",
     "output_type": "stream",
     "text": [
      "\n",
      "      Epoch    GPU_mem   box_loss   cls_loss   dfl_loss  Instances       Size\n"
     ]
    },
    {
     "name": "stderr",
     "output_type": "stream",
     "text": [
      "     48/100     0.614G      1.151     0.7209      1.103         13        416: 100%|██████████| 39/39 [00:02<00:00, 13.75it/s]\n",
      "                 Class     Images  Instances      Box(P          R      mAP50  mAP50-95): 100%|██████████| 3/3 [00:00<00:00, 17.45it/s]"
     ]
    },
    {
     "name": "stdout",
     "output_type": "stream",
     "text": [
      "                   all         34         37      0.973      0.967       0.99      0.603\n"
     ]
    },
    {
     "name": "stderr",
     "output_type": "stream",
     "text": [
      "\n"
     ]
    },
    {
     "name": "stdout",
     "output_type": "stream",
     "text": [
      "\n",
      "      Epoch    GPU_mem   box_loss   cls_loss   dfl_loss  Instances       Size\n"
     ]
    },
    {
     "name": "stderr",
     "output_type": "stream",
     "text": [
      "     49/100     0.598G      1.183     0.7003      1.116         17        416: 100%|██████████| 39/39 [00:03<00:00, 12.88it/s]\n",
      "                 Class     Images  Instances      Box(P          R      mAP50  mAP50-95): 100%|██████████| 3/3 [00:00<00:00, 17.13it/s]"
     ]
    },
    {
     "name": "stdout",
     "output_type": "stream",
     "text": [
      "                   all         34         37       0.97      0.973      0.973      0.617\n"
     ]
    },
    {
     "name": "stderr",
     "output_type": "stream",
     "text": [
      "\n"
     ]
    },
    {
     "name": "stdout",
     "output_type": "stream",
     "text": [
      "\n",
      "      Epoch    GPU_mem   box_loss   cls_loss   dfl_loss  Instances       Size\n"
     ]
    },
    {
     "name": "stderr",
     "output_type": "stream",
     "text": [
      "     50/100     0.614G      1.172     0.7005        1.1         10        416: 100%|██████████| 39/39 [00:03<00:00, 12.25it/s]\n",
      "                 Class     Images  Instances      Box(P          R      mAP50  mAP50-95): 100%|██████████| 3/3 [00:00<00:00, 18.29it/s]"
     ]
    },
    {
     "name": "stdout",
     "output_type": "stream",
     "text": [
      "                   all         34         37      0.974      0.973      0.987      0.636\n"
     ]
    },
    {
     "name": "stderr",
     "output_type": "stream",
     "text": [
      "\n"
     ]
    },
    {
     "name": "stdout",
     "output_type": "stream",
     "text": [
      "\n",
      "      Epoch    GPU_mem   box_loss   cls_loss   dfl_loss  Instances       Size\n"
     ]
    },
    {
     "name": "stderr",
     "output_type": "stream",
     "text": [
      "     51/100     0.598G      1.172     0.7098      1.128         15        416: 100%|██████████| 39/39 [00:02<00:00, 13.41it/s]\n",
      "                 Class     Images  Instances      Box(P          R      mAP50  mAP50-95): 100%|██████████| 3/3 [00:00<00:00, 18.39it/s]"
     ]
    },
    {
     "name": "stdout",
     "output_type": "stream",
     "text": [
      "                   all         34         37          1      0.962      0.986      0.593\n"
     ]
    },
    {
     "name": "stderr",
     "output_type": "stream",
     "text": [
      "\n"
     ]
    },
    {
     "name": "stdout",
     "output_type": "stream",
     "text": [
      "\n",
      "      Epoch    GPU_mem   box_loss   cls_loss   dfl_loss  Instances       Size\n"
     ]
    },
    {
     "name": "stderr",
     "output_type": "stream",
     "text": [
      "     52/100     0.598G      1.167     0.7041      1.111         17        416: 100%|██████████| 39/39 [00:02<00:00, 13.06it/s]\n",
      "                 Class     Images  Instances      Box(P          R      mAP50  mAP50-95): 100%|██████████| 3/3 [00:00<00:00, 18.18it/s]"
     ]
    },
    {
     "name": "stdout",
     "output_type": "stream",
     "text": [
      "                   all         34         37      0.969      0.973      0.973      0.607\n"
     ]
    },
    {
     "name": "stderr",
     "output_type": "stream",
     "text": [
      "\n"
     ]
    },
    {
     "name": "stdout",
     "output_type": "stream",
     "text": [
      "\n",
      "      Epoch    GPU_mem   box_loss   cls_loss   dfl_loss  Instances       Size\n"
     ]
    },
    {
     "name": "stderr",
     "output_type": "stream",
     "text": [
      "     53/100     0.598G      1.091      0.688      1.064         18        416: 100%|██████████| 39/39 [00:02<00:00, 13.49it/s]\n",
      "                 Class     Images  Instances      Box(P          R      mAP50  mAP50-95): 100%|██████████| 3/3 [00:00<00:00, 19.46it/s]"
     ]
    },
    {
     "name": "stdout",
     "output_type": "stream",
     "text": [
      "                   all         34         37      0.969      0.973      0.975      0.627\n"
     ]
    },
    {
     "name": "stderr",
     "output_type": "stream",
     "text": [
      "\n"
     ]
    },
    {
     "name": "stdout",
     "output_type": "stream",
     "text": [
      "\n",
      "      Epoch    GPU_mem   box_loss   cls_loss   dfl_loss  Instances       Size\n"
     ]
    },
    {
     "name": "stderr",
     "output_type": "stream",
     "text": [
      "     54/100     0.614G      1.128     0.7087      1.064         14        416: 100%|██████████| 39/39 [00:03<00:00, 12.82it/s]\n",
      "                 Class     Images  Instances      Box(P          R      mAP50  mAP50-95): 100%|██████████| 3/3 [00:00<00:00, 18.92it/s]"
     ]
    },
    {
     "name": "stdout",
     "output_type": "stream",
     "text": [
      "                   all         34         37      0.996      0.973      0.984      0.587\n"
     ]
    },
    {
     "name": "stderr",
     "output_type": "stream",
     "text": [
      "\n"
     ]
    },
    {
     "name": "stdout",
     "output_type": "stream",
     "text": [
      "\n",
      "      Epoch    GPU_mem   box_loss   cls_loss   dfl_loss  Instances       Size\n"
     ]
    },
    {
     "name": "stderr",
     "output_type": "stream",
     "text": [
      "     55/100     0.598G      1.122       0.71      1.085         16        416: 100%|██████████| 39/39 [00:03<00:00, 12.71it/s]\n",
      "                 Class     Images  Instances      Box(P          R      mAP50  mAP50-95): 100%|██████████| 3/3 [00:00<00:00, 15.73it/s]"
     ]
    },
    {
     "name": "stdout",
     "output_type": "stream",
     "text": [
      "                   all         34         37          1      0.971      0.987      0.622\n"
     ]
    },
    {
     "name": "stderr",
     "output_type": "stream",
     "text": [
      "\n"
     ]
    },
    {
     "name": "stdout",
     "output_type": "stream",
     "text": [
      "\n",
      "      Epoch    GPU_mem   box_loss   cls_loss   dfl_loss  Instances       Size\n"
     ]
    },
    {
     "name": "stderr",
     "output_type": "stream",
     "text": [
      "     56/100     0.614G      1.128     0.7023      1.082         15        416: 100%|██████████| 39/39 [00:02<00:00, 13.27it/s]\n",
      "                 Class     Images  Instances      Box(P          R      mAP50  mAP50-95): 100%|██████████| 3/3 [00:00<00:00, 19.16it/s]"
     ]
    },
    {
     "name": "stdout",
     "output_type": "stream",
     "text": [
      "                   all         34         37      0.972      0.944      0.983      0.605\n"
     ]
    },
    {
     "name": "stderr",
     "output_type": "stream",
     "text": [
      "\n"
     ]
    },
    {
     "name": "stdout",
     "output_type": "stream",
     "text": [
      "\n",
      "      Epoch    GPU_mem   box_loss   cls_loss   dfl_loss  Instances       Size\n"
     ]
    },
    {
     "name": "stderr",
     "output_type": "stream",
     "text": [
      "     57/100     0.598G       1.14      0.664      1.151         11        416: 100%|██████████| 39/39 [00:03<00:00, 11.73it/s]\n",
      "                 Class     Images  Instances      Box(P          R      mAP50  mAP50-95): 100%|██████████| 3/3 [00:00<00:00, 18.71it/s]"
     ]
    },
    {
     "name": "stdout",
     "output_type": "stream",
     "text": [
      "                   all         34         37      0.968      0.946      0.978      0.611\n"
     ]
    },
    {
     "name": "stderr",
     "output_type": "stream",
     "text": [
      "\n"
     ]
    },
    {
     "name": "stdout",
     "output_type": "stream",
     "text": [
      "\n",
      "      Epoch    GPU_mem   box_loss   cls_loss   dfl_loss  Instances       Size\n"
     ]
    },
    {
     "name": "stderr",
     "output_type": "stream",
     "text": [
      "     58/100     0.614G      1.152     0.6714      1.112         10        416: 100%|██████████| 39/39 [00:03<00:00, 12.07it/s]\n",
      "                 Class     Images  Instances      Box(P          R      mAP50  mAP50-95): 100%|██████████| 3/3 [00:00<00:00, 17.19it/s]"
     ]
    },
    {
     "name": "stdout",
     "output_type": "stream",
     "text": [
      "                   all         34         37      0.968      0.946      0.983      0.606\n"
     ]
    },
    {
     "name": "stderr",
     "output_type": "stream",
     "text": [
      "\n"
     ]
    },
    {
     "name": "stdout",
     "output_type": "stream",
     "text": [
      "\n",
      "      Epoch    GPU_mem   box_loss   cls_loss   dfl_loss  Instances       Size\n"
     ]
    },
    {
     "name": "stderr",
     "output_type": "stream",
     "text": [
      "     59/100     0.598G      1.134      0.694      1.111         20        416: 100%|██████████| 39/39 [00:03<00:00, 12.50it/s]\n",
      "                 Class     Images  Instances      Box(P          R      mAP50  mAP50-95): 100%|██████████| 3/3 [00:00<00:00, 16.66it/s]\n"
     ]
    },
    {
     "name": "stdout",
     "output_type": "stream",
     "text": [
      "                   all         34         37       0.99      0.946      0.982      0.611\n",
      "\n",
      "      Epoch    GPU_mem   box_loss   cls_loss   dfl_loss  Instances       Size\n"
     ]
    },
    {
     "name": "stderr",
     "output_type": "stream",
     "text": [
      "     60/100     0.598G       1.07     0.6571      1.065          9        416: 100%|██████████| 39/39 [00:03<00:00, 12.58it/s]\n",
      "                 Class     Images  Instances      Box(P          R      mAP50  mAP50-95): 100%|██████████| 3/3 [00:00<00:00, 18.03it/s]"
     ]
    },
    {
     "name": "stdout",
     "output_type": "stream",
     "text": [
      "                   all         34         37      0.976      0.919      0.961      0.585\n"
     ]
    },
    {
     "name": "stderr",
     "output_type": "stream",
     "text": [
      "\n"
     ]
    },
    {
     "name": "stdout",
     "output_type": "stream",
     "text": [
      "\n",
      "      Epoch    GPU_mem   box_loss   cls_loss   dfl_loss  Instances       Size\n"
     ]
    },
    {
     "name": "stderr",
     "output_type": "stream",
     "text": [
      "     61/100     0.598G      1.146     0.6725      1.096         13        416: 100%|██████████| 39/39 [00:03<00:00, 12.45it/s]\n",
      "                 Class     Images  Instances      Box(P          R      mAP50  mAP50-95): 100%|██████████| 3/3 [00:00<00:00, 16.41it/s]"
     ]
    },
    {
     "name": "stdout",
     "output_type": "stream",
     "text": [
      "                   all         34         37      0.998      0.973      0.989      0.613\n"
     ]
    },
    {
     "name": "stderr",
     "output_type": "stream",
     "text": [
      "\n"
     ]
    },
    {
     "name": "stdout",
     "output_type": "stream",
     "text": [
      "\n",
      "      Epoch    GPU_mem   box_loss   cls_loss   dfl_loss  Instances       Size\n"
     ]
    },
    {
     "name": "stderr",
     "output_type": "stream",
     "text": [
      "     62/100     0.614G      1.126      0.672      1.098         16        416: 100%|██████████| 39/39 [00:03<00:00, 12.68it/s]\n",
      "                 Class     Images  Instances      Box(P          R      mAP50  mAP50-95): 100%|██████████| 3/3 [00:00<00:00, 17.49it/s]"
     ]
    },
    {
     "name": "stdout",
     "output_type": "stream",
     "text": [
      "                   all         34         37      0.972      0.942       0.97       0.61\n"
     ]
    },
    {
     "name": "stderr",
     "output_type": "stream",
     "text": [
      "\n"
     ]
    },
    {
     "name": "stdout",
     "output_type": "stream",
     "text": [
      "\n",
      "      Epoch    GPU_mem   box_loss   cls_loss   dfl_loss  Instances       Size\n"
     ]
    },
    {
     "name": "stderr",
     "output_type": "stream",
     "text": [
      "     63/100     0.598G      1.077     0.6648       1.07         13        416: 100%|██████████| 39/39 [00:03<00:00, 12.70it/s]\n",
      "                 Class     Images  Instances      Box(P          R      mAP50  mAP50-95): 100%|██████████| 3/3 [00:00<00:00, 16.89it/s]"
     ]
    },
    {
     "name": "stdout",
     "output_type": "stream",
     "text": [
      "                   all         34         37      0.998      0.919      0.965      0.621\n"
     ]
    },
    {
     "name": "stderr",
     "output_type": "stream",
     "text": [
      "\n"
     ]
    },
    {
     "name": "stdout",
     "output_type": "stream",
     "text": [
      "\n",
      "      Epoch    GPU_mem   box_loss   cls_loss   dfl_loss  Instances       Size\n"
     ]
    },
    {
     "name": "stderr",
     "output_type": "stream",
     "text": [
      "     64/100     0.614G      1.089     0.6693      1.056         13        416: 100%|██████████| 39/39 [00:03<00:00, 12.32it/s]\n",
      "                 Class     Images  Instances      Box(P          R      mAP50  mAP50-95): 100%|██████████| 3/3 [00:00<00:00, 14.10it/s]"
     ]
    },
    {
     "name": "stdout",
     "output_type": "stream",
     "text": [
      "                   all         34         37          1       0.97      0.988      0.617\n"
     ]
    },
    {
     "name": "stderr",
     "output_type": "stream",
     "text": [
      "\n"
     ]
    },
    {
     "name": "stdout",
     "output_type": "stream",
     "text": [
      "\n",
      "      Epoch    GPU_mem   box_loss   cls_loss   dfl_loss  Instances       Size\n"
     ]
    },
    {
     "name": "stderr",
     "output_type": "stream",
     "text": [
      "     65/100     0.598G      1.095     0.6371      1.072         22        416: 100%|██████████| 39/39 [00:03<00:00, 12.38it/s]\n",
      "                 Class     Images  Instances      Box(P          R      mAP50  mAP50-95): 100%|██████████| 3/3 [00:00<00:00, 17.83it/s]"
     ]
    },
    {
     "name": "stdout",
     "output_type": "stream",
     "text": [
      "                   all         34         37      0.971      0.946       0.98      0.625\n"
     ]
    },
    {
     "name": "stderr",
     "output_type": "stream",
     "text": [
      "\n"
     ]
    },
    {
     "name": "stdout",
     "output_type": "stream",
     "text": [
      "\n",
      "      Epoch    GPU_mem   box_loss   cls_loss   dfl_loss  Instances       Size\n"
     ]
    },
    {
     "name": "stderr",
     "output_type": "stream",
     "text": [
      "     66/100     0.614G      1.062     0.6525      1.062         14        416: 100%|██████████| 39/39 [00:03<00:00, 13.00it/s]\n",
      "                 Class     Images  Instances      Box(P          R      mAP50  mAP50-95): 100%|██████████| 3/3 [00:00<00:00, 18.21it/s]"
     ]
    },
    {
     "name": "stdout",
     "output_type": "stream",
     "text": [
      "                   all         34         37      0.998      0.973      0.993      0.642\n"
     ]
    },
    {
     "name": "stderr",
     "output_type": "stream",
     "text": [
      "\n"
     ]
    },
    {
     "name": "stdout",
     "output_type": "stream",
     "text": [
      "\n",
      "      Epoch    GPU_mem   box_loss   cls_loss   dfl_loss  Instances       Size\n"
     ]
    },
    {
     "name": "stderr",
     "output_type": "stream",
     "text": [
      "     67/100     0.596G      1.102     0.6578      1.091         12        416: 100%|██████████| 39/39 [00:02<00:00, 13.22it/s]\n",
      "                 Class     Images  Instances      Box(P          R      mAP50  mAP50-95): 100%|██████████| 3/3 [00:00<00:00, 17.28it/s]"
     ]
    },
    {
     "name": "stdout",
     "output_type": "stream",
     "text": [
      "                   all         34         37      0.994      0.973      0.992       0.62\n"
     ]
    },
    {
     "name": "stderr",
     "output_type": "stream",
     "text": [
      "\n"
     ]
    },
    {
     "name": "stdout",
     "output_type": "stream",
     "text": [
      "\n",
      "      Epoch    GPU_mem   box_loss   cls_loss   dfl_loss  Instances       Size\n"
     ]
    },
    {
     "name": "stderr",
     "output_type": "stream",
     "text": [
      "     68/100     0.598G      1.061     0.6337      1.065         15        416: 100%|██████████| 39/39 [00:03<00:00, 12.90it/s]\n",
      "                 Class     Images  Instances      Box(P          R      mAP50  mAP50-95): 100%|██████████| 3/3 [00:00<00:00, 16.50it/s]"
     ]
    },
    {
     "name": "stdout",
     "output_type": "stream",
     "text": [
      "                   all         34         37      0.994      0.973      0.989       0.61\n"
     ]
    },
    {
     "name": "stderr",
     "output_type": "stream",
     "text": [
      "\n"
     ]
    },
    {
     "name": "stdout",
     "output_type": "stream",
     "text": [
      "\n",
      "      Epoch    GPU_mem   box_loss   cls_loss   dfl_loss  Instances       Size\n"
     ]
    },
    {
     "name": "stderr",
     "output_type": "stream",
     "text": [
      "     69/100     0.598G      1.096     0.6433      1.048         14        416: 100%|██████████| 39/39 [00:03<00:00, 12.64it/s]\n",
      "                 Class     Images  Instances      Box(P          R      mAP50  mAP50-95): 100%|██████████| 3/3 [00:00<00:00, 16.86it/s]"
     ]
    },
    {
     "name": "stdout",
     "output_type": "stream",
     "text": [
      "                   all         34         37      0.972      0.944      0.979      0.591\n"
     ]
    },
    {
     "name": "stderr",
     "output_type": "stream",
     "text": [
      "\n"
     ]
    },
    {
     "name": "stdout",
     "output_type": "stream",
     "text": [
      "\n",
      "      Epoch    GPU_mem   box_loss   cls_loss   dfl_loss  Instances       Size\n"
     ]
    },
    {
     "name": "stderr",
     "output_type": "stream",
     "text": [
      "     70/100     0.614G      1.053     0.6315       1.05         16        416: 100%|██████████| 39/39 [00:03<00:00, 12.65it/s]\n",
      "                 Class     Images  Instances      Box(P          R      mAP50  mAP50-95): 100%|██████████| 3/3 [00:00<00:00, 17.51it/s]"
     ]
    },
    {
     "name": "stdout",
     "output_type": "stream",
     "text": [
      "                   all         34         37      0.992      0.919      0.982      0.614\n"
     ]
    },
    {
     "name": "stderr",
     "output_type": "stream",
     "text": [
      "\n"
     ]
    },
    {
     "name": "stdout",
     "output_type": "stream",
     "text": [
      "\n",
      "      Epoch    GPU_mem   box_loss   cls_loss   dfl_loss  Instances       Size\n"
     ]
    },
    {
     "name": "stderr",
     "output_type": "stream",
     "text": [
      "     71/100     0.596G      1.022     0.6222      1.029         10        416: 100%|██████████| 39/39 [00:03<00:00, 12.32it/s]\n",
      "                 Class     Images  Instances      Box(P          R      mAP50  mAP50-95): 100%|██████████| 3/3 [00:00<00:00, 18.19it/s]"
     ]
    },
    {
     "name": "stdout",
     "output_type": "stream",
     "text": [
      "                   all         34         37      0.947      0.965      0.985      0.609\n"
     ]
    },
    {
     "name": "stderr",
     "output_type": "stream",
     "text": [
      "\n"
     ]
    },
    {
     "name": "stdout",
     "output_type": "stream",
     "text": [
      "\n",
      "      Epoch    GPU_mem   box_loss   cls_loss   dfl_loss  Instances       Size\n"
     ]
    },
    {
     "name": "stderr",
     "output_type": "stream",
     "text": [
      "     72/100     0.614G      1.065     0.6448      1.067         12        416: 100%|██████████| 39/39 [00:03<00:00, 12.21it/s]\n",
      "                 Class     Images  Instances      Box(P          R      mAP50  mAP50-95): 100%|██████████| 3/3 [00:00<00:00, 15.72it/s]"
     ]
    },
    {
     "name": "stdout",
     "output_type": "stream",
     "text": [
      "                   all         34         37      0.996      0.973      0.986      0.623\n"
     ]
    },
    {
     "name": "stderr",
     "output_type": "stream",
     "text": [
      "\n"
     ]
    },
    {
     "name": "stdout",
     "output_type": "stream",
     "text": [
      "\n",
      "      Epoch    GPU_mem   box_loss   cls_loss   dfl_loss  Instances       Size\n"
     ]
    },
    {
     "name": "stderr",
     "output_type": "stream",
     "text": [
      "     73/100     0.598G      1.043     0.6171       1.06          7        416: 100%|██████████| 39/39 [00:03<00:00, 12.71it/s]\n",
      "                 Class     Images  Instances      Box(P          R      mAP50  mAP50-95): 100%|██████████| 3/3 [00:00<00:00, 17.75it/s]"
     ]
    },
    {
     "name": "stdout",
     "output_type": "stream",
     "text": [
      "                   all         34         37      0.969      0.946       0.98      0.609\n"
     ]
    },
    {
     "name": "stderr",
     "output_type": "stream",
     "text": [
      "\n"
     ]
    },
    {
     "name": "stdout",
     "output_type": "stream",
     "text": [
      "\n",
      "      Epoch    GPU_mem   box_loss   cls_loss   dfl_loss  Instances       Size\n"
     ]
    },
    {
     "name": "stderr",
     "output_type": "stream",
     "text": [
      "     74/100     0.614G      1.001     0.5881      1.044         16        416: 100%|██████████| 39/39 [00:03<00:00, 12.63it/s]\n",
      "                 Class     Images  Instances      Box(P          R      mAP50  mAP50-95): 100%|██████████| 3/3 [00:00<00:00, 18.80it/s]\n"
     ]
    },
    {
     "name": "stdout",
     "output_type": "stream",
     "text": [
      "                   all         34         37      0.971      0.946      0.974      0.633\n",
      "\n",
      "      Epoch    GPU_mem   box_loss   cls_loss   dfl_loss  Instances       Size\n"
     ]
    },
    {
     "name": "stderr",
     "output_type": "stream",
     "text": [
      "     75/100     0.598G      1.051     0.6229      1.059         11        416: 100%|██████████| 39/39 [00:02<00:00, 13.22it/s]\n",
      "                 Class     Images  Instances      Box(P          R      mAP50  mAP50-95): 100%|██████████| 3/3 [00:00<00:00, 16.79it/s]"
     ]
    },
    {
     "name": "stdout",
     "output_type": "stream",
     "text": [
      "                   all         34         37      0.997      0.973       0.98      0.604\n"
     ]
    },
    {
     "name": "stderr",
     "output_type": "stream",
     "text": [
      "\n"
     ]
    },
    {
     "name": "stdout",
     "output_type": "stream",
     "text": [
      "\n",
      "      Epoch    GPU_mem   box_loss   cls_loss   dfl_loss  Instances       Size\n"
     ]
    },
    {
     "name": "stderr",
     "output_type": "stream",
     "text": [
      "     76/100     0.598G      1.033     0.6058      1.038         19        416: 100%|██████████| 39/39 [00:03<00:00, 12.81it/s]\n",
      "                 Class     Images  Instances      Box(P          R      mAP50  mAP50-95): 100%|██████████| 3/3 [00:00<00:00, 17.08it/s]"
     ]
    },
    {
     "name": "stdout",
     "output_type": "stream",
     "text": [
      "                   all         34         37      0.969      0.946       0.98      0.628\n"
     ]
    },
    {
     "name": "stderr",
     "output_type": "stream",
     "text": [
      "\n"
     ]
    },
    {
     "name": "stdout",
     "output_type": "stream",
     "text": [
      "\n",
      "      Epoch    GPU_mem   box_loss   cls_loss   dfl_loss  Instances       Size\n"
     ]
    },
    {
     "name": "stderr",
     "output_type": "stream",
     "text": [
      "     77/100     0.598G      1.006     0.6104       1.04         18        416: 100%|██████████| 39/39 [00:03<00:00, 12.71it/s]\n",
      "                 Class     Images  Instances      Box(P          R      mAP50  mAP50-95): 100%|██████████| 3/3 [00:00<00:00, 17.88it/s]"
     ]
    },
    {
     "name": "stdout",
     "output_type": "stream",
     "text": [
      "                   all         34         37      0.974      0.919      0.976      0.612\n"
     ]
    },
    {
     "name": "stderr",
     "output_type": "stream",
     "text": [
      "\n"
     ]
    },
    {
     "name": "stdout",
     "output_type": "stream",
     "text": [
      "\n",
      "      Epoch    GPU_mem   box_loss   cls_loss   dfl_loss  Instances       Size\n"
     ]
    },
    {
     "name": "stderr",
     "output_type": "stream",
     "text": [
      "     78/100     0.614G      1.014     0.5998      1.037         14        416: 100%|██████████| 39/39 [00:02<00:00, 13.12it/s]\n",
      "                 Class     Images  Instances      Box(P          R      mAP50  mAP50-95): 100%|██████████| 3/3 [00:00<00:00, 18.07it/s]"
     ]
    },
    {
     "name": "stdout",
     "output_type": "stream",
     "text": [
      "                   all         34         37      0.942      0.946      0.967      0.612\n"
     ]
    },
    {
     "name": "stderr",
     "output_type": "stream",
     "text": [
      "\n"
     ]
    },
    {
     "name": "stdout",
     "output_type": "stream",
     "text": [
      "\n",
      "      Epoch    GPU_mem   box_loss   cls_loss   dfl_loss  Instances       Size\n"
     ]
    },
    {
     "name": "stderr",
     "output_type": "stream",
     "text": [
      "     79/100     0.598G      1.022     0.5966      1.048         21        416: 100%|██████████| 39/39 [00:03<00:00, 12.93it/s]\n",
      "                 Class     Images  Instances      Box(P          R      mAP50  mAP50-95): 100%|██████████| 3/3 [00:00<00:00, 17.89it/s]"
     ]
    },
    {
     "name": "stdout",
     "output_type": "stream",
     "text": [
      "                   all         34         37          1      0.967       0.98      0.601\n"
     ]
    },
    {
     "name": "stderr",
     "output_type": "stream",
     "text": [
      "\n"
     ]
    },
    {
     "name": "stdout",
     "output_type": "stream",
     "text": [
      "\n",
      "      Epoch    GPU_mem   box_loss   cls_loss   dfl_loss  Instances       Size\n"
     ]
    },
    {
     "name": "stderr",
     "output_type": "stream",
     "text": [
      "     80/100     0.614G     0.9971       0.58      1.014         19        416: 100%|██████████| 39/39 [00:03<00:00, 12.69it/s]\n",
      "                 Class     Images  Instances      Box(P          R      mAP50  mAP50-95): 100%|██████████| 3/3 [00:00<00:00, 17.06it/s]"
     ]
    },
    {
     "name": "stdout",
     "output_type": "stream",
     "text": [
      "                   all         34         37      0.998      0.973      0.988      0.623\n"
     ]
    },
    {
     "name": "stderr",
     "output_type": "stream",
     "text": [
      "\n"
     ]
    },
    {
     "name": "stdout",
     "output_type": "stream",
     "text": [
      "\n",
      "      Epoch    GPU_mem   box_loss   cls_loss   dfl_loss  Instances       Size\n"
     ]
    },
    {
     "name": "stderr",
     "output_type": "stream",
     "text": [
      "     81/100     0.598G      1.031     0.5955      1.049         13        416: 100%|██████████| 39/39 [00:03<00:00, 12.78it/s]\n",
      "                 Class     Images  Instances      Box(P          R      mAP50  mAP50-95): 100%|██████████| 3/3 [00:00<00:00, 18.05it/s]\n"
     ]
    },
    {
     "name": "stdout",
     "output_type": "stream",
     "text": [
      "                   all         34         37      0.972      0.945      0.973       0.62\n",
      "\n",
      "      Epoch    GPU_mem   box_loss   cls_loss   dfl_loss  Instances       Size\n"
     ]
    },
    {
     "name": "stderr",
     "output_type": "stream",
     "text": [
      "     82/100     0.614G      1.004     0.5813      1.031         20        416: 100%|██████████| 39/39 [00:03<00:00, 12.85it/s]\n",
      "                 Class     Images  Instances      Box(P          R      mAP50  mAP50-95): 100%|██████████| 3/3 [00:00<00:00, 18.39it/s]"
     ]
    },
    {
     "name": "stdout",
     "output_type": "stream",
     "text": [
      "                   all         34         37      0.998      0.892      0.981      0.614\n"
     ]
    },
    {
     "name": "stderr",
     "output_type": "stream",
     "text": [
      "\n"
     ]
    },
    {
     "name": "stdout",
     "output_type": "stream",
     "text": [
      "\n",
      "      Epoch    GPU_mem   box_loss   cls_loss   dfl_loss  Instances       Size\n"
     ]
    },
    {
     "name": "stderr",
     "output_type": "stream",
     "text": [
      "     83/100     0.598G     0.9796     0.5533       1.03         17        416: 100%|██████████| 39/39 [00:03<00:00, 12.62it/s]\n",
      "                 Class     Images  Instances      Box(P          R      mAP50  mAP50-95): 100%|██████████| 3/3 [00:00<00:00, 17.83it/s]"
     ]
    },
    {
     "name": "stdout",
     "output_type": "stream",
     "text": [
      "                   all         34         37      0.998      0.946      0.989       0.64\n"
     ]
    },
    {
     "name": "stderr",
     "output_type": "stream",
     "text": [
      "\n"
     ]
    },
    {
     "name": "stdout",
     "output_type": "stream",
     "text": [
      "\n",
      "      Epoch    GPU_mem   box_loss   cls_loss   dfl_loss  Instances       Size\n"
     ]
    },
    {
     "name": "stderr",
     "output_type": "stream",
     "text": [
      "     84/100     0.598G     0.9899      0.573      1.024         18        416: 100%|██████████| 39/39 [00:03<00:00, 12.81it/s]\n",
      "                 Class     Images  Instances      Box(P          R      mAP50  mAP50-95): 100%|██████████| 3/3 [00:00<00:00, 17.99it/s]"
     ]
    },
    {
     "name": "stdout",
     "output_type": "stream",
     "text": [
      "                   all         34         37      0.968      0.946       0.98      0.628\n"
     ]
    },
    {
     "name": "stderr",
     "output_type": "stream",
     "text": [
      "\n"
     ]
    },
    {
     "name": "stdout",
     "output_type": "stream",
     "text": [
      "\n",
      "      Epoch    GPU_mem   box_loss   cls_loss   dfl_loss  Instances       Size\n"
     ]
    },
    {
     "name": "stderr",
     "output_type": "stream",
     "text": [
      "     85/100     0.598G     0.9932     0.5714      1.016         19        416: 100%|██████████| 39/39 [00:03<00:00, 12.54it/s]\n",
      "                 Class     Images  Instances      Box(P          R      mAP50  mAP50-95): 100%|██████████| 3/3 [00:00<00:00, 16.06it/s]"
     ]
    },
    {
     "name": "stdout",
     "output_type": "stream",
     "text": [
      "                   all         34         37      0.988      0.919      0.958      0.625\n"
     ]
    },
    {
     "name": "stderr",
     "output_type": "stream",
     "text": [
      "\n"
     ]
    },
    {
     "name": "stdout",
     "output_type": "stream",
     "text": [
      "\n",
      "      Epoch    GPU_mem   box_loss   cls_loss   dfl_loss  Instances       Size\n"
     ]
    },
    {
     "name": "stderr",
     "output_type": "stream",
     "text": [
      "     86/100     0.614G      1.004     0.5752      1.055         12        416: 100%|██████████| 39/39 [00:03<00:00, 12.48it/s]\n",
      "                 Class     Images  Instances      Box(P          R      mAP50  mAP50-95): 100%|██████████| 3/3 [00:00<00:00, 16.33it/s]"
     ]
    },
    {
     "name": "stdout",
     "output_type": "stream",
     "text": [
      "                   all         34         37      0.997      0.973      0.981      0.609\n"
     ]
    },
    {
     "name": "stderr",
     "output_type": "stream",
     "text": [
      "\n"
     ]
    },
    {
     "name": "stdout",
     "output_type": "stream",
     "text": [
      "\n",
      "      Epoch    GPU_mem   box_loss   cls_loss   dfl_loss  Instances       Size\n"
     ]
    },
    {
     "name": "stderr",
     "output_type": "stream",
     "text": [
      "     87/100     0.596G      1.004     0.5725      1.045         15        416: 100%|██████████| 39/39 [00:03<00:00, 12.50it/s]\n",
      "                 Class     Images  Instances      Box(P          R      mAP50  mAP50-95): 100%|██████████| 3/3 [00:00<00:00, 17.39it/s]"
     ]
    },
    {
     "name": "stdout",
     "output_type": "stream",
     "text": [
      "                   all         34         37      0.997      0.973      0.981      0.615\n"
     ]
    },
    {
     "name": "stderr",
     "output_type": "stream",
     "text": [
      "\n"
     ]
    },
    {
     "name": "stdout",
     "output_type": "stream",
     "text": [
      "\n",
      "      Epoch    GPU_mem   box_loss   cls_loss   dfl_loss  Instances       Size\n"
     ]
    },
    {
     "name": "stderr",
     "output_type": "stream",
     "text": [
      "     88/100     0.614G     0.9369     0.5516      1.019         17        416: 100%|██████████| 39/39 [00:03<00:00, 12.54it/s]\n",
      "                 Class     Images  Instances      Box(P          R      mAP50  mAP50-95): 100%|██████████| 3/3 [00:00<00:00, 17.93it/s]"
     ]
    },
    {
     "name": "stdout",
     "output_type": "stream",
     "text": [
      "                   all         34         37      0.987      0.946      0.967      0.599\n"
     ]
    },
    {
     "name": "stderr",
     "output_type": "stream",
     "text": [
      "\n"
     ]
    },
    {
     "name": "stdout",
     "output_type": "stream",
     "text": [
      "\n",
      "      Epoch    GPU_mem   box_loss   cls_loss   dfl_loss  Instances       Size\n"
     ]
    },
    {
     "name": "stderr",
     "output_type": "stream",
     "text": [
      "     89/100     0.598G     0.9747     0.5458      1.025         16        416: 100%|██████████| 39/39 [00:03<00:00, 12.65it/s]\n",
      "                 Class     Images  Instances      Box(P          R      mAP50  mAP50-95): 100%|██████████| 3/3 [00:00<00:00, 18.44it/s]"
     ]
    },
    {
     "name": "stdout",
     "output_type": "stream",
     "text": [
      "                   all         34         37      0.991      0.946      0.969      0.601\n"
     ]
    },
    {
     "name": "stderr",
     "output_type": "stream",
     "text": [
      "\n"
     ]
    },
    {
     "name": "stdout",
     "output_type": "stream",
     "text": [
      "\n",
      "      Epoch    GPU_mem   box_loss   cls_loss   dfl_loss  Instances       Size\n"
     ]
    },
    {
     "name": "stderr",
     "output_type": "stream",
     "text": [
      "     90/100     0.614G     0.9527     0.5394       1.01         21        416: 100%|██████████| 39/39 [00:03<00:00, 12.27it/s]\n",
      "                 Class     Images  Instances      Box(P          R      mAP50  mAP50-95): 100%|██████████| 3/3 [00:00<00:00, 16.50it/s]"
     ]
    },
    {
     "name": "stdout",
     "output_type": "stream",
     "text": [
      "                   all         34         37      0.998      0.973      0.984      0.605\n"
     ]
    },
    {
     "name": "stderr",
     "output_type": "stream",
     "text": [
      "\n"
     ]
    },
    {
     "name": "stdout",
     "output_type": "stream",
     "text": [
      "Closing dataloader mosaic\n",
      "\n",
      "      Epoch    GPU_mem   box_loss   cls_loss   dfl_loss  Instances       Size\n"
     ]
    },
    {
     "name": "stderr",
     "output_type": "stream",
     "text": [
      "     91/100     0.598G     0.9648     0.5669      1.018          7        416: 100%|██████████| 39/39 [00:03<00:00, 12.29it/s]\n",
      "                 Class     Images  Instances      Box(P          R      mAP50  mAP50-95): 100%|██████████| 3/3 [00:00<00:00, 18.07it/s]"
     ]
    },
    {
     "name": "stdout",
     "output_type": "stream",
     "text": [
      "                   all         34         37      0.996      0.973      0.981        0.6\n"
     ]
    },
    {
     "name": "stderr",
     "output_type": "stream",
     "text": [
      "\n"
     ]
    },
    {
     "name": "stdout",
     "output_type": "stream",
     "text": [
      "\n",
      "      Epoch    GPU_mem   box_loss   cls_loss   dfl_loss  Instances       Size\n"
     ]
    },
    {
     "name": "stderr",
     "output_type": "stream",
     "text": [
      "     92/100     0.596G     0.9704     0.5505      1.022          9        416: 100%|██████████| 39/39 [00:02<00:00, 13.88it/s]\n",
      "                 Class     Images  Instances      Box(P          R      mAP50  mAP50-95): 100%|██████████| 3/3 [00:00<00:00, 18.05it/s]"
     ]
    },
    {
     "name": "stdout",
     "output_type": "stream",
     "text": [
      "                   all         34         37      0.995      0.973      0.977      0.624\n"
     ]
    },
    {
     "name": "stderr",
     "output_type": "stream",
     "text": [
      "\n"
     ]
    },
    {
     "name": "stdout",
     "output_type": "stream",
     "text": [
      "\n",
      "      Epoch    GPU_mem   box_loss   cls_loss   dfl_loss  Instances       Size\n"
     ]
    },
    {
     "name": "stderr",
     "output_type": "stream",
     "text": [
      "     93/100     0.598G      0.955     0.5296      1.021          6        416: 100%|██████████| 39/39 [00:02<00:00, 13.43it/s]\n",
      "                 Class     Images  Instances      Box(P          R      mAP50  mAP50-95): 100%|██████████| 3/3 [00:00<00:00, 17.22it/s]"
     ]
    },
    {
     "name": "stdout",
     "output_type": "stream",
     "text": [
      "                   all         34         37      0.997      0.973      0.977      0.621\n"
     ]
    },
    {
     "name": "stderr",
     "output_type": "stream",
     "text": [
      "\n"
     ]
    },
    {
     "name": "stdout",
     "output_type": "stream",
     "text": [
      "\n",
      "      Epoch    GPU_mem   box_loss   cls_loss   dfl_loss  Instances       Size\n"
     ]
    },
    {
     "name": "stderr",
     "output_type": "stream",
     "text": [
      "     94/100     0.614G      0.959     0.5387      1.013          7        416: 100%|██████████| 39/39 [00:02<00:00, 13.34it/s]\n",
      "                 Class     Images  Instances      Box(P          R      mAP50  mAP50-95): 100%|██████████| 3/3 [00:00<00:00, 17.26it/s]"
     ]
    },
    {
     "name": "stdout",
     "output_type": "stream",
     "text": [
      "                   all         34         37      0.997      0.973      0.981      0.613\n"
     ]
    },
    {
     "name": "stderr",
     "output_type": "stream",
     "text": [
      "\n"
     ]
    },
    {
     "name": "stdout",
     "output_type": "stream",
     "text": [
      "\n",
      "      Epoch    GPU_mem   box_loss   cls_loss   dfl_loss  Instances       Size\n"
     ]
    },
    {
     "name": "stderr",
     "output_type": "stream",
     "text": [
      "     95/100     0.596G     0.9165     0.5249      1.017          7        416: 100%|██████████| 39/39 [00:03<00:00, 12.87it/s]\n",
      "                 Class     Images  Instances      Box(P          R      mAP50  mAP50-95): 100%|██████████| 3/3 [00:00<00:00, 16.80it/s]"
     ]
    },
    {
     "name": "stdout",
     "output_type": "stream",
     "text": [
      "                   all         34         37      0.999      0.973      0.981      0.607\n"
     ]
    },
    {
     "name": "stderr",
     "output_type": "stream",
     "text": [
      "\n"
     ]
    },
    {
     "name": "stdout",
     "output_type": "stream",
     "text": [
      "\n",
      "      Epoch    GPU_mem   box_loss   cls_loss   dfl_loss  Instances       Size\n"
     ]
    },
    {
     "name": "stderr",
     "output_type": "stream",
     "text": [
      "     96/100     0.612G     0.9157     0.5266      1.007          7        416: 100%|██████████| 39/39 [00:02<00:00, 13.22it/s]\n",
      "                 Class     Images  Instances      Box(P          R      mAP50  mAP50-95): 100%|██████████| 3/3 [00:00<00:00, 16.46it/s]"
     ]
    },
    {
     "name": "stdout",
     "output_type": "stream",
     "text": [
      "                   all         34         37      0.997      0.973      0.982       0.61\n"
     ]
    },
    {
     "name": "stderr",
     "output_type": "stream",
     "text": [
      "\n"
     ]
    },
    {
     "name": "stdout",
     "output_type": "stream",
     "text": [
      "\n",
      "      Epoch    GPU_mem   box_loss   cls_loss   dfl_loss  Instances       Size\n"
     ]
    },
    {
     "name": "stderr",
     "output_type": "stream",
     "text": [
      "     97/100     0.598G     0.9188     0.5217      0.986          7        416: 100%|██████████| 39/39 [00:03<00:00, 12.99it/s]\n",
      "                 Class     Images  Instances      Box(P          R      mAP50  mAP50-95): 100%|██████████| 3/3 [00:00<00:00, 18.16it/s]"
     ]
    },
    {
     "name": "stdout",
     "output_type": "stream",
     "text": [
      "                   all         34         37      0.998      0.973      0.984      0.606\n"
     ]
    },
    {
     "name": "stderr",
     "output_type": "stream",
     "text": [
      "\n"
     ]
    },
    {
     "name": "stdout",
     "output_type": "stream",
     "text": [
      "\n",
      "      Epoch    GPU_mem   box_loss   cls_loss   dfl_loss  Instances       Size\n"
     ]
    },
    {
     "name": "stderr",
     "output_type": "stream",
     "text": [
      "     98/100     0.614G     0.8865     0.5067     0.9853          6        416: 100%|██████████| 39/39 [00:02<00:00, 13.15it/s]\n",
      "                 Class     Images  Instances      Box(P          R      mAP50  mAP50-95): 100%|██████████| 3/3 [00:00<00:00, 18.14it/s]"
     ]
    },
    {
     "name": "stdout",
     "output_type": "stream",
     "text": [
      "                   all         34         37      0.995      0.973      0.984      0.604\n"
     ]
    },
    {
     "name": "stderr",
     "output_type": "stream",
     "text": [
      "\n"
     ]
    },
    {
     "name": "stdout",
     "output_type": "stream",
     "text": [
      "\n",
      "      Epoch    GPU_mem   box_loss   cls_loss   dfl_loss  Instances       Size\n"
     ]
    },
    {
     "name": "stderr",
     "output_type": "stream",
     "text": [
      "     99/100     0.598G     0.9073     0.5239      1.011          7        416: 100%|██████████| 39/39 [00:03<00:00, 12.61it/s]\n",
      "                 Class     Images  Instances      Box(P          R      mAP50  mAP50-95): 100%|██████████| 3/3 [00:00<00:00, 17.08it/s]\n"
     ]
    },
    {
     "name": "stdout",
     "output_type": "stream",
     "text": [
      "                   all         34         37      0.994      0.973      0.984       0.61\n",
      "\n",
      "      Epoch    GPU_mem   box_loss   cls_loss   dfl_loss  Instances       Size\n"
     ]
    },
    {
     "name": "stderr",
     "output_type": "stream",
     "text": [
      "    100/100     0.598G      0.907     0.5107      1.005          7        416: 100%|██████████| 39/39 [00:03<00:00, 11.61it/s]\n",
      "                 Class     Images  Instances      Box(P          R      mAP50  mAP50-95): 100%|██████████| 3/3 [00:00<00:00, 14.89it/s]"
     ]
    },
    {
     "name": "stdout",
     "output_type": "stream",
     "text": [
      "                   all         34         37      0.994      0.973      0.983      0.616\n"
     ]
    },
    {
     "name": "stderr",
     "output_type": "stream",
     "text": [
      "\n"
     ]
    },
    {
     "name": "stdout",
     "output_type": "stream",
     "text": [
      "\n",
      "100 epochs completed in 0.102 hours.\n",
      "Optimizer stripped from runs\\detect\\train2\\weights\\last.pt, 5.4MB\n",
      "Optimizer stripped from runs\\detect\\train2\\weights\\best.pt, 5.4MB\n",
      "\n",
      "Validating runs\\detect\\train2\\weights\\best.pt...\n",
      "WARNING  validating an untrained model YAML will result in 0 mAP.\n",
      "Ultralytics 8.3.23  Python-3.9.20 torch-2.5.0 CUDA:0 (NVIDIA GeForce RTX 3070 Laptop GPU, 8192MiB)\n",
      "YOLO11n summary (fused): 238 layers, 2,582,347 parameters, 0 gradients, 6.3 GFLOPs\n"
     ]
    },
    {
     "name": "stderr",
     "output_type": "stream",
     "text": [
      "                 Class     Images  Instances      Box(P          R      mAP50  mAP50-95): 100%|██████████| 3/3 [00:00<00:00, 11.69it/s]\n"
     ]
    },
    {
     "name": "stdout",
     "output_type": "stream",
     "text": [
      "                   all         34         37      0.949      0.996      0.992      0.646\n",
      "Speed: 0.3ms preprocess, 1.3ms inference, 0.0ms loss, 2.2ms postprocess per image\n",
      "Results saved to \u001b[1mruns\\detect\\train2\u001b[0m\n"
     ]
    }
   ],
   "source": [
    "model = YOLO('yolo11n.yaml')\n",
    "model = YOLO('yolo11n.pt')\n",
    "model = YOLO('yolo11n.yaml').load('yolo11n.pt')\n",
    "\n",
    "results = model.train(data='.\\matriculas.yaml', epochs=100, imgsz=416, batch=8)\n"
   ]
  },
  {
   "cell_type": "markdown",
   "metadata": {},
   "source": [
    "Validamos el modelo entrenado con el dataset de validación, que corresponde con el 8% del dataset original. "
   ]
  },
  {
   "cell_type": "code",
   "execution_count": 19,
   "metadata": {},
   "outputs": [
    {
     "name": "stdout",
     "output_type": "stream",
     "text": [
      "Ultralytics 8.3.23  Python-3.9.20 torch-2.5.0 CUDA:0 (NVIDIA GeForce RTX 3070 Laptop GPU, 8192MiB)\n",
      "YOLO11n summary (fused): 238 layers, 2,582,347 parameters, 0 gradients, 6.3 GFLOPs\n"
     ]
    },
    {
     "name": "stderr",
     "output_type": "stream",
     "text": [
      "\u001b[34m\u001b[1mval: \u001b[0mScanning F:\\Universidad\\Curso 2024-25\\Primer Semestre\\VC\\Practicas\\VC\\Practica 4\\TGC_RBNW\\val\\labels.cache... 34 images, 0 backgrounds, 0 corrupt: 100%|██████████| 34/34 [00:00<?, ?it/s]\n",
      "                 Class     Images  Instances      Box(P          R      mAP50  mAP50-95): 100%|██████████| 3/3 [00:04<00:00,  1.64s/it]\n"
     ]
    },
    {
     "name": "stdout",
     "output_type": "stream",
     "text": [
      "                   all         34         37      0.949      0.996      0.992      0.652\n",
      "Speed: 0.5ms preprocess, 7.8ms inference, 0.0ms loss, 2.7ms postprocess per image\n",
      "Results saved to \u001b[1mruns\\detect\\val3\u001b[0m\n"
     ]
    },
    {
     "data": {
      "text/plain": [
       "array([    0.65163])"
      ]
     },
     "execution_count": 19,
     "metadata": {},
     "output_type": "execute_result"
    }
   ],
   "source": [
    "# Load a model\n",
    "model = YOLO(\"yolo11n.pt\")\n",
    "model = YOLO(r'.\\runs\\detect\\train2\\weights\\best.pt')  # load a custom model\n",
    "\n",
    "# Validate the model\n",
    "metrics = model.val()  # no arguments needed, dataset and settings remembered\n",
    "metrics.box.map  # map50-95\n",
    "metrics.box.map50  # map50\n",
    "metrics.box.map75  # map75\n",
    "metrics.box.maps  # a list contains map50-95 of each category"
   ]
  },
  {
   "cell_type": "markdown",
   "metadata": {},
   "source": [
    "Procesamiento del vídeo y detección de objetos."
   ]
  },
  {
   "cell_type": "code",
   "execution_count": 8,
   "metadata": {},
   "outputs": [
    {
     "name": "stdout",
     "output_type": "stream",
     "text": [
      "\n",
      "0: 384x640 3 cars, 18.0ms\n",
      "Speed: 3.0ms preprocess, 18.0ms inference, 2.0ms postprocess per image at shape (1, 3, 384, 640)\n",
      "detecciones: ultralytics.engine.results.Boxes object with attributes:\n",
      "\n",
      "cls: tensor([2., 2., 2.])\n",
      "conf: tensor([0.8765, 0.6314, 0.6262])\n",
      "data: tensor([[7.4840e+02, 2.9084e+02, 1.0504e+03, 4.9669e+02, 1.0000e+00, 8.7654e-01, 2.0000e+00],\n",
      "        [1.2872e+03, 3.2229e+02, 1.3435e+03, 3.5786e+02, 2.0000e+00, 6.3143e-01, 2.0000e+00],\n",
      "        [1.1965e+03, 3.2096e+02, 1.2456e+03, 3.5185e+02, 3.0000e+00, 6.2619e-01, 2.0000e+00]])\n",
      "id: tensor([1., 2., 3.])\n",
      "is_track: True\n",
      "orig_shape: (1080, 1920)\n",
      "shape: torch.Size([3, 7])\n",
      "xywh: tensor([[ 899.4076,  393.7651,  302.0193,  205.8513],\n",
      "        [1315.3516,  340.0763,   56.3961,   35.5636],\n",
      "        [1221.0303,  336.4055,   49.0548,   30.8899]])\n",
      "xywhn: tensor([[0.4684, 0.3646, 0.1573, 0.1906],\n",
      "        [0.6851, 0.3149, 0.0294, 0.0329],\n",
      "        [0.6360, 0.3115, 0.0255, 0.0286]])\n",
      "xyxy: tensor([[ 748.3979,  290.8394, 1050.4172,  496.6907],\n",
      "        [1287.1536,  322.2945, 1343.5497,  357.8581],\n",
      "        [1196.5029,  320.9606, 1245.5577,  351.8504]])\n",
      "xyxyn: tensor([[0.3898, 0.2693, 0.5471, 0.4599],\n",
      "        [0.6704, 0.2984, 0.6998, 0.3314],\n",
      "        [0.6232, 0.2972, 0.6487, 0.3258]])\n",
      "2\n",
      "track id: 1, class: 2\n",
      "\n",
      "0: 288x416 1 matriculas, 14.0ms\n",
      "Speed: 1.0ms preprocess, 14.0ms inference, 1.0ms postprocess per image at shape (1, 3, 288, 416)\n",
      "plate id, 1\n",
      "Matrícula: , Confidence: 95.0\n",
      "2\n",
      "track id: 2, class: 2\n",
      "\n",
      "0: 288x416 (no detections), 9.2ms\n",
      "Speed: 1.9ms preprocess, 9.2ms inference, 1.0ms postprocess per image at shape (1, 3, 288, 416)\n",
      "2\n",
      "track id: 3, class: 2\n",
      "\n",
      "0: 288x416 (no detections), 16.2ms\n",
      "Speed: 1.0ms preprocess, 16.2ms inference, 1.0ms postprocess per image at shape (1, 3, 288, 416)\n",
      "\n",
      "0: 384x640 3 cars, 15.2ms\n",
      "Speed: 3.0ms preprocess, 15.2ms inference, 1.0ms postprocess per image at shape (1, 3, 384, 640)\n",
      "detecciones: ultralytics.engine.results.Boxes object with attributes:\n",
      "\n",
      "cls: tensor([2., 2., 2.])\n",
      "conf: tensor([0.9144, 0.6642, 0.6391])\n",
      "data: tensor([[7.3357e+02, 2.9047e+02, 1.0454e+03, 5.0019e+02, 1.0000e+00, 9.1442e-01, 2.0000e+00],\n",
      "        [1.1944e+03, 3.2074e+02, 1.2454e+03, 3.5220e+02, 2.0000e+00, 6.6420e-01, 2.0000e+00],\n",
      "        [1.2884e+03, 3.2157e+02, 1.3421e+03, 3.5785e+02, 3.0000e+00, 6.3911e-01, 2.0000e+00]])\n",
      "id: tensor([1., 2., 3.])\n",
      "is_track: True\n",
      "orig_shape: (1080, 1920)\n",
      "shape: torch.Size([3, 7])\n",
      "xywh: tensor([[ 889.4801,  395.3329,  311.8274,  209.7189],\n",
      "        [1219.8872,  336.4707,   51.0341,   31.4615],\n",
      "        [1315.2783,  339.7068,   53.6631,   36.2785]])\n",
      "xywhn: tensor([[0.4633, 0.3660, 0.1624, 0.1942],\n",
      "        [0.6354, 0.3115, 0.0266, 0.0291],\n",
      "        [0.6850, 0.3145, 0.0279, 0.0336]])\n",
      "xyxy: tensor([[ 733.5664,  290.4735, 1045.3938,  500.1924],\n",
      "        [1194.3701,  320.7399, 1245.4042,  352.2015],\n",
      "        [1288.4468,  321.5675, 1342.1099,  357.8460]])\n",
      "xyxyn: tensor([[0.3821, 0.2690, 0.5445, 0.4631],\n",
      "        [0.6221, 0.2970, 0.6486, 0.3261],\n",
      "        [0.6711, 0.2977, 0.6990, 0.3313]])\n",
      "2\n",
      "track id: 1, class: 2\n",
      "\n",
      "0: 288x416 1 matriculas, 10.2ms\n",
      "Speed: 1.0ms preprocess, 10.2ms inference, 1.4ms postprocess per image at shape (1, 3, 288, 416)\n",
      "plate id, 1\n",
      "Matrícula: , Confidence: 0.0\n",
      "2\n",
      "track id: 2, class: 2\n",
      "\n",
      "0: 288x416 (no detections), 9.0ms\n",
      "Speed: 2.9ms preprocess, 9.0ms inference, 1.0ms postprocess per image at shape (1, 3, 288, 416)\n",
      "2\n",
      "track id: 3, class: 2\n",
      "\n",
      "0: 288x416 (no detections), 10.0ms\n",
      "Speed: 2.0ms preprocess, 10.0ms inference, 0.5ms postprocess per image at shape (1, 3, 288, 416)\n",
      "\n",
      "0: 384x640 3 cars, 15.4ms\n",
      "Speed: 2.0ms preprocess, 15.4ms inference, 1.4ms postprocess per image at shape (1, 3, 384, 640)\n",
      "detecciones: ultralytics.engine.results.Boxes object with attributes:\n",
      "\n",
      "cls: tensor([2., 2., 2.])\n",
      "conf: tensor([0.9157, 0.6604, 0.6336])\n",
      "data: tensor([[7.1971e+02, 2.9020e+02, 1.0423e+03, 5.0684e+02, 1.0000e+00, 9.1566e-01, 2.0000e+00],\n",
      "        [1.1943e+03, 3.2024e+02, 1.2456e+03, 3.5226e+02, 2.0000e+00, 6.6037e-01, 2.0000e+00],\n",
      "        [1.2882e+03, 3.2112e+02, 1.3421e+03, 3.5781e+02, 3.0000e+00, 6.3357e-01, 2.0000e+00]])\n",
      "id: tensor([1., 2., 3.])\n",
      "is_track: True\n",
      "orig_shape: (1080, 1920)\n",
      "shape: torch.Size([3, 7])\n",
      "xywh: tensor([[ 881.0198,  398.5189,  322.6245,  216.6425],\n",
      "        [1219.9531,  336.2518,   51.2900,   32.0240],\n",
      "        [1315.1705,  339.4656,   53.9036,   36.6847]])\n",
      "xywhn: tensor([[0.4589, 0.3690, 0.1680, 0.2006],\n",
      "        [0.6354, 0.3113, 0.0267, 0.0297],\n",
      "        [0.6850, 0.3143, 0.0281, 0.0340]])\n",
      "xyxy: tensor([[ 719.7075,  290.1976, 1042.3320,  506.8401],\n",
      "        [1194.3081,  320.2399, 1245.5981,  352.2638],\n",
      "        [1288.2188,  321.1233, 1342.1223,  357.8080]])\n",
      "xyxyn: tensor([[0.3748, 0.2687, 0.5429, 0.4693],\n",
      "        [0.6220, 0.2965, 0.6487, 0.3262],\n",
      "        [0.6709, 0.2973, 0.6990, 0.3313]])\n",
      "2\n",
      "track id: 1, class: 2\n",
      "\n",
      "0: 288x416 1 matriculas, 10.3ms\n",
      "Speed: 1.0ms preprocess, 10.3ms inference, 1.0ms postprocess per image at shape (1, 3, 288, 416)\n",
      "plate id, 1\n",
      "Matrícula: , Confidence: 0.0\n",
      "2\n",
      "track id: 2, class: 2\n",
      "\n",
      "0: 288x416 (no detections), 10.3ms\n",
      "Speed: 0.9ms preprocess, 10.3ms inference, 0.0ms postprocess per image at shape (1, 3, 288, 416)\n",
      "2\n",
      "track id: 3, class: 2\n",
      "\n",
      "0: 288x416 (no detections), 10.2ms\n",
      "Speed: 1.0ms preprocess, 10.2ms inference, 0.0ms postprocess per image at shape (1, 3, 288, 416)\n",
      "\n",
      "0: 384x640 3 cars, 14.5ms\n",
      "Speed: 2.0ms preprocess, 14.5ms inference, 2.0ms postprocess per image at shape (1, 3, 384, 640)\n",
      "detecciones: ultralytics.engine.results.Boxes object with attributes:\n",
      "\n",
      "cls: tensor([2., 2., 2.])\n",
      "conf: tensor([0.9010, 0.6525, 0.6525])\n",
      "data: tensor([[7.0234e+02, 2.8944e+02, 1.0369e+03, 5.1297e+02, 1.0000e+00, 9.0100e-01, 2.0000e+00],\n",
      "        [1.2866e+03, 3.2024e+02, 1.3414e+03, 3.5727e+02, 2.0000e+00, 6.5254e-01, 2.0000e+00],\n",
      "        [1.1955e+03, 3.2191e+02, 1.2466e+03, 3.5352e+02, 3.0000e+00, 6.5247e-01, 2.0000e+00]])\n",
      "id: tensor([1., 2., 3.])\n",
      "is_track: True\n",
      "orig_shape: (1080, 1920)\n",
      "shape: torch.Size([3, 7])\n",
      "xywh: tensor([[ 869.6433,  401.2025,  334.6030,  223.5311],\n",
      "        [1313.9619,  338.7517,   54.7964,   37.0278],\n",
      "        [1221.0630,  337.7188,   51.1355,   31.6089]])\n",
      "xywhn: tensor([[0.4529, 0.3715, 0.1743, 0.2070],\n",
      "        [0.6844, 0.3137, 0.0285, 0.0343],\n",
      "        [0.6360, 0.3127, 0.0266, 0.0293]])\n",
      "xyxy: tensor([[ 702.3418,  289.4369, 1036.9448,  512.9680],\n",
      "        [1286.5637,  320.2378, 1341.3601,  357.2656],\n",
      "        [1195.4952,  321.9143, 1246.6307,  353.5233]])\n",
      "xyxyn: tensor([[0.3658, 0.2680, 0.5401, 0.4750],\n",
      "        [0.6701, 0.2965, 0.6986, 0.3308],\n",
      "        [0.6227, 0.2981, 0.6493, 0.3273]])\n",
      "2\n",
      "track id: 1, class: 2\n",
      "\n",
      "0: 288x416 1 matriculas, 10.3ms\n",
      "Speed: 1.0ms preprocess, 10.3ms inference, 1.0ms postprocess per image at shape (1, 3, 288, 416)\n",
      "plate id, 1\n",
      "Matrícula: , Confidence: 0.0\n",
      "2\n",
      "track id: 2, class: 2\n",
      "\n",
      "0: 288x416 (no detections), 9.3ms\n",
      "Speed: 2.3ms preprocess, 9.3ms inference, 1.0ms postprocess per image at shape (1, 3, 288, 416)\n",
      "2\n",
      "track id: 3, class: 2\n",
      "\n",
      "0: 288x416 (no detections), 10.0ms\n",
      "Speed: 1.0ms preprocess, 10.0ms inference, 1.0ms postprocess per image at shape (1, 3, 288, 416)\n",
      "\n",
      "0: 384x640 3 cars, 14.4ms\n",
      "Speed: 2.3ms preprocess, 14.4ms inference, 2.0ms postprocess per image at shape (1, 3, 384, 640)\n",
      "detecciones: ultralytics.engine.results.Boxes object with attributes:\n",
      "\n",
      "cls: tensor([2., 2., 2.])\n",
      "conf: tensor([0.9005, 0.6595, 0.6521])\n",
      "data: tensor([[7.0227e+02, 2.8957e+02, 1.0373e+03, 5.1316e+02, 1.0000e+00, 9.0047e-01, 2.0000e+00],\n",
      "        [1.1952e+03, 3.2176e+02, 1.2464e+03, 3.5344e+02, 2.0000e+00, 6.5951e-01, 2.0000e+00],\n",
      "        [1.2864e+03, 3.2017e+02, 1.3413e+03, 3.5739e+02, 3.0000e+00, 6.5211e-01, 2.0000e+00]])\n",
      "id: tensor([1., 2., 3.])\n",
      "is_track: True\n",
      "orig_shape: (1080, 1920)\n",
      "shape: torch.Size([3, 7])\n",
      "xywh: tensor([[ 869.7887,  401.3629,  335.0300,  223.5842],\n",
      "        [1220.8420,  337.5991,   51.1930,   31.6818],\n",
      "        [1313.8651,  338.7796,   54.8716,   37.2245]])\n",
      "xywhn: tensor([[0.4530, 0.3716, 0.1745, 0.2070],\n",
      "        [0.6359, 0.3126, 0.0267, 0.0293],\n",
      "        [0.6843, 0.3137, 0.0286, 0.0345]])\n",
      "xyxy: tensor([[ 702.2737,  289.5709, 1037.3037,  513.1550],\n",
      "        [1195.2456,  321.7582, 1246.4386,  353.4399],\n",
      "        [1286.4293,  320.1674, 1341.3009,  357.3919]])\n",
      "xyxyn: tensor([[0.3658, 0.2681, 0.5403, 0.4751],\n",
      "        [0.6225, 0.2979, 0.6492, 0.3273],\n",
      "        [0.6700, 0.2965, 0.6986, 0.3309]])\n",
      "2\n",
      "track id: 1, class: 2\n",
      "\n",
      "0: 288x416 1 matriculas, 9.2ms\n",
      "Speed: 2.0ms preprocess, 9.2ms inference, 2.0ms postprocess per image at shape (1, 3, 288, 416)\n",
      "plate id, 1\n",
      "Matrícula: , Confidence: 54.0\n",
      "2\n",
      "track id: 2, class: 2\n",
      "\n",
      "0: 288x416 (no detections), 10.4ms\n",
      "Speed: 0.3ms preprocess, 10.4ms inference, 0.0ms postprocess per image at shape (1, 3, 288, 416)\n",
      "2\n",
      "track id: 3, class: 2\n",
      "\n",
      "0: 288x416 (no detections), 11.3ms\n",
      "Speed: 1.0ms preprocess, 11.3ms inference, 0.0ms postprocess per image at shape (1, 3, 288, 416)\n",
      "\n",
      "0: 384x640 3 cars, 18.6ms\n",
      "Speed: 2.0ms preprocess, 18.6ms inference, 2.0ms postprocess per image at shape (1, 3, 384, 640)\n",
      "detecciones: ultralytics.engine.results.Boxes object with attributes:\n",
      "\n",
      "cls: tensor([2., 2., 2.])\n",
      "conf: tensor([0.9293, 0.7005, 0.6294])\n",
      "data: tensor([[6.8552e+02, 2.8787e+02, 1.0278e+03, 5.1705e+02, 1.0000e+00, 9.2929e-01, 2.0000e+00],\n",
      "        [1.1962e+03, 3.2250e+02, 1.2474e+03, 3.5393e+02, 2.0000e+00, 7.0048e-01, 2.0000e+00],\n",
      "        [1.2859e+03, 3.2054e+02, 1.3396e+03, 3.5692e+02, 3.0000e+00, 6.2940e-01, 2.0000e+00]])\n",
      "id: tensor([1., 2., 3.])\n",
      "is_track: True\n",
      "orig_shape: (1080, 1920)\n",
      "shape: torch.Size([3, 7])\n",
      "xywh: tensor([[ 856.6828,  402.4608,  342.3292,  229.1804],\n",
      "        [1221.8245,  338.2119,   51.1857,   31.4304],\n",
      "        [1312.7742,  338.7297,   53.7408,   36.3774]])\n",
      "xywhn: tensor([[0.4462, 0.3726, 0.1783, 0.2122],\n",
      "        [0.6364, 0.3132, 0.0267, 0.0291],\n",
      "        [0.6837, 0.3136, 0.0280, 0.0337]])\n",
      "xyxy: tensor([[ 685.5182,  287.8706, 1027.8474,  517.0510],\n",
      "        [1196.2317,  322.4966, 1247.4174,  353.9271],\n",
      "        [1285.9038,  320.5410, 1339.6447,  356.9185]])\n",
      "xyxyn: tensor([[0.3570, 0.2665, 0.5353, 0.4788],\n",
      "        [0.6230, 0.2986, 0.6497, 0.3277],\n",
      "        [0.6697, 0.2968, 0.6977, 0.3305]])\n",
      "2\n",
      "track id: 1, class: 2\n",
      "\n",
      "0: 288x416 1 matriculas, 12.6ms\n",
      "Speed: 2.0ms preprocess, 12.6ms inference, 2.0ms postprocess per image at shape (1, 3, 288, 416)\n",
      "plate id, 1\n",
      "Matrícula: , Confidence: 0.0\n",
      "2\n",
      "track id: 2, class: 2\n",
      "\n",
      "0: 256x416 (no detections), 13.3ms\n",
      "Speed: 1.9ms preprocess, 13.3ms inference, 0.0ms postprocess per image at shape (1, 3, 256, 416)\n",
      "2\n",
      "track id: 3, class: 2\n",
      "\n",
      "0: 288x416 (no detections), 13.7ms\n",
      "Speed: 1.0ms preprocess, 13.7ms inference, 1.0ms postprocess per image at shape (1, 3, 288, 416)\n",
      "\n",
      "0: 384x640 3 cars, 16.9ms\n",
      "Speed: 3.9ms preprocess, 16.9ms inference, 4.0ms postprocess per image at shape (1, 3, 384, 640)\n",
      "detecciones: ultralytics.engine.results.Boxes object with attributes:\n",
      "\n",
      "cls: tensor([2., 2., 2.])\n",
      "conf: tensor([0.9311, 0.7039, 0.6422])\n",
      "data: tensor([[6.6382e+02, 2.8713e+02, 1.0229e+03, 5.2233e+02, 1.0000e+00, 9.3114e-01, 2.0000e+00],\n",
      "        [1.1976e+03, 3.2132e+02, 1.2471e+03, 3.5388e+02, 2.0000e+00, 7.0388e-01, 2.0000e+00],\n",
      "        [1.2857e+03, 3.2059e+02, 1.3408e+03, 3.5657e+02, 3.0000e+00, 6.4223e-01, 2.0000e+00]])\n",
      "id: tensor([1., 2., 3.])\n",
      "is_track: True\n",
      "orig_shape: (1080, 1920)\n",
      "shape: torch.Size([3, 7])\n",
      "xywh: tensor([[ 843.3840,  404.7306,  359.1193,  235.2009],\n",
      "        [1222.3522,  337.5966,   49.5505,   32.5595],\n",
      "        [1313.2375,  338.5759,   55.1726,   35.9817]])\n",
      "xywhn: tensor([[0.4393, 0.3748, 0.1870, 0.2178],\n",
      "        [0.6366, 0.3126, 0.0258, 0.0301],\n",
      "        [0.6840, 0.3135, 0.0287, 0.0333]])\n",
      "xyxy: tensor([[ 663.8243,  287.1301, 1022.9436,  522.3311],\n",
      "        [1197.5769,  321.3168, 1247.1274,  353.8763],\n",
      "        [1285.6512,  320.5851, 1340.8239,  356.5668]])\n",
      "xyxyn: tensor([[0.3457, 0.2659, 0.5328, 0.4836],\n",
      "        [0.6237, 0.2975, 0.6495, 0.3277],\n",
      "        [0.6696, 0.2968, 0.6983, 0.3302]])\n",
      "2\n",
      "track id: 1, class: 2\n",
      "\n",
      "0: 288x416 1 matriculas, 13.5ms\n",
      "Speed: 2.0ms preprocess, 13.5ms inference, 1.0ms postprocess per image at shape (1, 3, 288, 416)\n",
      "plate id, 1\n",
      "Matrícula: , Confidence: 95.0\n",
      "2\n",
      "track id: 2, class: 2\n",
      "\n",
      "0: 288x416 (no detections), 13.2ms\n",
      "Speed: 1.0ms preprocess, 13.2ms inference, 0.0ms postprocess per image at shape (1, 3, 288, 416)\n",
      "2\n",
      "track id: 3, class: 2\n",
      "\n",
      "0: 288x416 (no detections), 12.3ms\n",
      "Speed: 2.0ms preprocess, 12.3ms inference, 1.0ms postprocess per image at shape (1, 3, 288, 416)\n",
      "\n",
      "0: 384x640 3 cars, 17.9ms\n",
      "Speed: 3.0ms preprocess, 17.9ms inference, 1.0ms postprocess per image at shape (1, 3, 384, 640)\n",
      "detecciones: ultralytics.engine.results.Boxes object with attributes:\n",
      "\n",
      "cls: tensor([2., 2., 2.])\n",
      "conf: tensor([0.9269, 0.7104, 0.6383])\n",
      "data: tensor([[6.4451e+02, 2.8784e+02, 1.0187e+03, 5.2989e+02, 1.0000e+00, 9.2686e-01, 2.0000e+00],\n",
      "        [1.1973e+03, 3.2142e+02, 1.2477e+03, 3.5435e+02, 2.0000e+00, 7.1035e-01, 2.0000e+00],\n",
      "        [1.2853e+03, 3.2033e+02, 1.3410e+03, 3.5673e+02, 3.0000e+00, 6.3825e-01, 2.0000e+00]])\n",
      "id: tensor([1., 2., 3.])\n",
      "is_track: True\n",
      "orig_shape: (1080, 1920)\n",
      "shape: torch.Size([3, 7])\n",
      "xywh: tensor([[ 831.5904,  408.8654,  374.1661,  242.0466],\n",
      "        [1222.5077,  337.8835,   50.4456,   32.9348],\n",
      "        [1313.1141,  338.5306,   55.7200,   36.4005]])\n",
      "xywhn: tensor([[0.4331, 0.3786, 0.1949, 0.2241],\n",
      "        [0.6367, 0.3129, 0.0263, 0.0305],\n",
      "        [0.6839, 0.3135, 0.0290, 0.0337]])\n",
      "xyxy: tensor([[ 644.5073,  287.8422, 1018.6735,  529.8887],\n",
      "        [1197.2849,  321.4161, 1247.7305,  354.3510],\n",
      "        [1285.2542,  320.3304, 1340.9741,  356.7308]])\n",
      "xyxyn: tensor([[0.3357, 0.2665, 0.5306, 0.4906],\n",
      "        [0.6236, 0.2976, 0.6499, 0.3281],\n",
      "        [0.6694, 0.2966, 0.6984, 0.3303]])\n",
      "2\n",
      "track id: 1, class: 2\n",
      "\n",
      "0: 288x416 1 matriculas, 13.0ms\n",
      "Speed: 1.0ms preprocess, 13.0ms inference, 2.0ms postprocess per image at shape (1, 3, 288, 416)\n",
      "plate id, 1\n",
      "Matrícula: , Confidence: 95.0\n",
      "2\n",
      "track id: 2, class: 2\n",
      "\n",
      "0: 288x416 (no detections), 12.3ms\n",
      "Speed: 1.0ms preprocess, 12.3ms inference, 1.0ms postprocess per image at shape (1, 3, 288, 416)\n",
      "2\n",
      "track id: 3, class: 2\n",
      "\n",
      "0: 288x416 (no detections), 15.3ms\n",
      "Speed: 1.0ms preprocess, 15.3ms inference, 0.0ms postprocess per image at shape (1, 3, 288, 416)\n",
      "\n",
      "0: 384x640 3 cars, 18.2ms\n",
      "Speed: 2.1ms preprocess, 18.2ms inference, 2.0ms postprocess per image at shape (1, 3, 384, 640)\n",
      "detecciones: ultralytics.engine.results.Boxes object with attributes:\n",
      "\n",
      "cls: tensor([2., 2., 2.])\n",
      "conf: tensor([0.9433, 0.7028, 0.6328])\n",
      "data: tensor([[6.2616e+02, 2.8545e+02, 1.0109e+03, 5.3515e+02, 1.0000e+00, 9.4329e-01, 2.0000e+00],\n",
      "        [1.1958e+03, 3.2105e+02, 1.2481e+03, 3.5461e+02, 2.0000e+00, 7.0277e-01, 2.0000e+00],\n",
      "        [1.2842e+03, 3.1974e+02, 1.3399e+03, 3.5675e+02, 3.0000e+00, 6.3277e-01, 2.0000e+00]])\n",
      "id: tensor([1., 2., 3.])\n",
      "is_track: True\n",
      "orig_shape: (1080, 1920)\n",
      "shape: torch.Size([3, 7])\n",
      "xywh: tensor([[ 818.5394,  410.2997,  384.7623,  249.6974],\n",
      "        [1221.9102,  337.8300,   52.2992,   33.5598],\n",
      "        [1312.0503,  338.2417,   55.6138,   37.0117]])\n",
      "xywhn: tensor([[0.4263, 0.3799, 0.2004, 0.2312],\n",
      "        [0.6364, 0.3128, 0.0272, 0.0311],\n",
      "        [0.6834, 0.3132, 0.0290, 0.0343]])\n",
      "xyxy: tensor([[ 626.1583,  285.4510, 1010.9206,  535.1484],\n",
      "        [1195.7605,  321.0500, 1248.0597,  354.6098],\n",
      "        [1284.2434,  319.7359, 1339.8572,  356.7476]])\n",
      "xyxyn: tensor([[0.3261, 0.2643, 0.5265, 0.4955],\n",
      "        [0.6228, 0.2973, 0.6500, 0.3283],\n",
      "        [0.6689, 0.2961, 0.6978, 0.3303]])\n",
      "2\n",
      "track id: 1, class: 2\n",
      "\n",
      "0: 288x416 1 matriculas, 13.0ms\n",
      "Speed: 1.0ms preprocess, 13.0ms inference, 2.0ms postprocess per image at shape (1, 3, 288, 416)\n",
      "plate id, 1\n",
      "Matrícula: , Confidence: 95.0\n",
      "2\n",
      "track id: 2, class: 2\n",
      "\n",
      "0: 288x416 (no detections), 12.3ms\n",
      "Speed: 1.9ms preprocess, 12.3ms inference, 1.0ms postprocess per image at shape (1, 3, 288, 416)\n",
      "2\n",
      "track id: 3, class: 2\n",
      "\n",
      "0: 288x416 (no detections), 13.0ms\n",
      "Speed: 1.0ms preprocess, 13.0ms inference, 1.0ms postprocess per image at shape (1, 3, 288, 416)\n",
      "\n",
      "0: 384x640 3 cars, 17.3ms\n",
      "Speed: 3.0ms preprocess, 17.3ms inference, 2.0ms postprocess per image at shape (1, 3, 384, 640)\n",
      "detecciones: ultralytics.engine.results.Boxes object with attributes:\n",
      "\n",
      "cls: tensor([2., 2., 2.])\n",
      "conf: tensor([0.9146, 0.6941, 0.6212])\n",
      "data: tensor([[6.0145e+02, 2.8524e+02, 1.0044e+03, 5.4154e+02, 1.0000e+00, 9.1461e-01, 2.0000e+00],\n",
      "        [1.1953e+03, 3.2071e+02, 1.2489e+03, 3.5444e+02, 2.0000e+00, 6.9410e-01, 2.0000e+00],\n",
      "        [1.2829e+03, 3.1955e+02, 1.3365e+03, 3.5604e+02, 3.0000e+00, 6.2119e-01, 2.0000e+00]])\n",
      "id: tensor([1., 2., 3.])\n",
      "is_track: True\n",
      "orig_shape: (1080, 1920)\n",
      "shape: torch.Size([3, 7])\n",
      "xywh: tensor([[ 802.9518,  413.3880,  402.9938,  256.3015],\n",
      "        [1222.0911,  337.5746,   53.5243,   33.7232],\n",
      "        [1309.6924,  337.7941,   53.5726,   36.4971]])\n",
      "xywhn: tensor([[0.4182, 0.3828, 0.2099, 0.2373],\n",
      "        [0.6365, 0.3126, 0.0279, 0.0312],\n",
      "        [0.6821, 0.3128, 0.0279, 0.0338]])\n",
      "xyxy: tensor([[ 601.4548,  285.2372, 1004.4487,  541.5387],\n",
      "        [1195.3289,  320.7130, 1248.8531,  354.4362],\n",
      "        [1282.9060,  319.5455, 1336.4786,  356.0426]])\n",
      "xyxyn: tensor([[0.3133, 0.2641, 0.5232, 0.5014],\n",
      "        [0.6226, 0.2970, 0.6504, 0.3282],\n",
      "        [0.6682, 0.2959, 0.6961, 0.3297]])\n",
      "2\n",
      "track id: 1, class: 2\n",
      "\n",
      "0: 288x416 1 matriculas, 12.5ms\n",
      "Speed: 2.0ms preprocess, 12.5ms inference, 1.0ms postprocess per image at shape (1, 3, 288, 416)\n",
      "plate id, 1\n",
      "Matrícula: , Confidence: 0.0\n",
      "2\n",
      "track id: 2, class: 2\n",
      "\n",
      "0: 288x416 (no detections), 12.4ms\n",
      "Speed: 2.0ms preprocess, 12.4ms inference, 0.0ms postprocess per image at shape (1, 3, 288, 416)\n",
      "2\n",
      "track id: 3, class: 2\n",
      "\n",
      "0: 288x416 (no detections), 13.2ms\n",
      "Speed: 1.0ms preprocess, 13.2ms inference, 1.0ms postprocess per image at shape (1, 3, 288, 416)\n",
      "\n",
      "0: 384x640 3 cars, 18.4ms\n",
      "Speed: 2.0ms preprocess, 18.4ms inference, 1.0ms postprocess per image at shape (1, 3, 384, 640)\n",
      "detecciones: ultralytics.engine.results.Boxes object with attributes:\n",
      "\n",
      "cls: tensor([2., 2., 2.])\n",
      "conf: tensor([0.9139, 0.6934, 0.6230])\n",
      "data: tensor([[6.0141e+02, 2.8519e+02, 1.0044e+03, 5.4157e+02, 1.0000e+00, 9.1391e-01, 2.0000e+00],\n",
      "        [1.1953e+03, 3.2073e+02, 1.2488e+03, 3.5442e+02, 2.0000e+00, 6.9335e-01, 2.0000e+00],\n",
      "        [1.2829e+03, 3.1953e+02, 1.3367e+03, 3.5604e+02, 3.0000e+00, 6.2300e-01, 2.0000e+00]])\n",
      "id: tensor([1., 2., 3.])\n",
      "is_track: True\n",
      "orig_shape: (1080, 1920)\n",
      "shape: torch.Size([3, 7])\n",
      "xywh: tensor([[ 802.9185,  413.3760,  403.0179,  256.3818],\n",
      "        [1222.0791,  337.5723,   53.5179,   33.6857],\n",
      "        [1309.8131,  337.7847,   53.7571,   36.5077]])\n",
      "xywhn: tensor([[0.4182, 0.3828, 0.2099, 0.2374],\n",
      "        [0.6365, 0.3126, 0.0279, 0.0312],\n",
      "        [0.6822, 0.3128, 0.0280, 0.0338]])\n",
      "xyxy: tensor([[ 601.4095,  285.1851, 1004.4274,  541.5669],\n",
      "        [1195.3201,  320.7294, 1248.8380,  354.4151],\n",
      "        [1282.9346,  319.5309, 1336.6917,  356.0386]])\n",
      "xyxyn: tensor([[0.3132, 0.2641, 0.5231, 0.5015],\n",
      "        [0.6226, 0.2970, 0.6504, 0.3282],\n",
      "        [0.6682, 0.2959, 0.6962, 0.3297]])\n",
      "2\n",
      "track id: 1, class: 2\n",
      "\n",
      "0: 288x416 1 matriculas, 13.3ms\n",
      "Speed: 1.0ms preprocess, 13.3ms inference, 2.0ms postprocess per image at shape (1, 3, 288, 416)\n",
      "plate id, 1\n",
      "Matrícula: , Confidence: 0.0\n",
      "2\n",
      "track id: 2, class: 2\n",
      "\n",
      "0: 288x416 (no detections), 12.4ms\n",
      "Speed: 2.0ms preprocess, 12.4ms inference, 0.0ms postprocess per image at shape (1, 3, 288, 416)\n",
      "2\n",
      "track id: 3, class: 2\n",
      "\n",
      "0: 288x416 (no detections), 12.2ms\n",
      "Speed: 1.1ms preprocess, 12.2ms inference, 0.0ms postprocess per image at shape (1, 3, 288, 416)\n",
      "\n",
      "0: 384x640 3 cars, 17.4ms\n",
      "Speed: 3.0ms preprocess, 17.4ms inference, 2.0ms postprocess per image at shape (1, 3, 384, 640)\n",
      "detecciones: ultralytics.engine.results.Boxes object with attributes:\n",
      "\n",
      "cls: tensor([2., 2., 2.])\n",
      "conf: tensor([0.8858, 0.6889, 0.6162])\n",
      "data: tensor([[5.7800e+02, 2.8408e+02, 1.0008e+03, 5.5016e+02, 1.0000e+00, 8.8575e-01, 2.0000e+00],\n",
      "        [1.1961e+03, 3.2014e+02, 1.2492e+03, 3.5426e+02, 2.0000e+00, 6.8886e-01, 2.0000e+00],\n",
      "        [1.2827e+03, 3.1969e+02, 1.3354e+03, 3.5581e+02, 3.0000e+00, 6.1618e-01, 2.0000e+00]])\n",
      "id: tensor([1., 2., 3.])\n",
      "is_track: True\n",
      "orig_shape: (1080, 1920)\n",
      "shape: torch.Size([3, 7])\n",
      "xywh: tensor([[ 789.3854,  417.1223,  422.7665,  266.0760],\n",
      "        [1222.6917,  337.2018,   53.1069,   34.1188],\n",
      "        [1309.0186,  337.7521,   52.6698,   36.1246]])\n",
      "xywhn: tensor([[0.4111, 0.3862, 0.2202, 0.2464],\n",
      "        [0.6368, 0.3122, 0.0277, 0.0316],\n",
      "        [0.6818, 0.3127, 0.0274, 0.0334]])\n",
      "xyxy: tensor([[ 578.0021,  284.0842, 1000.7686,  550.1603],\n",
      "        [1196.1382,  320.1425, 1249.2451,  354.2613],\n",
      "        [1282.6836,  319.6898, 1335.3534,  355.8144]])\n",
      "xyxyn: tensor([[0.3010, 0.2630, 0.5212, 0.5094],\n",
      "        [0.6230, 0.2964, 0.6506, 0.3280],\n",
      "        [0.6681, 0.2960, 0.6955, 0.3295]])\n",
      "2\n",
      "track id: 1, class: 2\n",
      "\n",
      "0: 288x416 1 matriculas, 13.2ms\n",
      "Speed: 1.1ms preprocess, 13.2ms inference, 1.0ms postprocess per image at shape (1, 3, 288, 416)\n",
      "plate id, 1\n",
      "Matrícula: , Confidence: 95.0\n",
      "2\n",
      "track id: 2, class: 2\n",
      "\n",
      "0: 288x416 (no detections), 13.2ms\n",
      "Speed: 1.0ms preprocess, 13.2ms inference, 1.0ms postprocess per image at shape (1, 3, 288, 416)\n",
      "2\n",
      "track id: 3, class: 2\n",
      "\n",
      "0: 288x416 (no detections), 12.0ms\n",
      "Speed: 2.0ms preprocess, 12.0ms inference, 1.0ms postprocess per image at shape (1, 3, 288, 416)\n",
      "\n",
      "0: 384x640 3 cars, 17.4ms\n",
      "Speed: 3.0ms preprocess, 17.4ms inference, 1.9ms postprocess per image at shape (1, 3, 384, 640)\n",
      "detecciones: ultralytics.engine.results.Boxes object with attributes:\n",
      "\n",
      "cls: tensor([2., 2., 2.])\n",
      "conf: tensor([0.9247, 0.6679, 0.6212])\n",
      "data: tensor([[5.5146e+02, 2.8544e+02, 9.9395e+02, 5.6076e+02, 1.0000e+00, 9.2472e-01, 2.0000e+00],\n",
      "        [1.1958e+03, 3.1983e+02, 1.2495e+03, 3.5470e+02, 2.0000e+00, 6.6786e-01, 2.0000e+00],\n",
      "        [1.2823e+03, 3.1961e+02, 1.3326e+03, 3.5561e+02, 3.0000e+00, 6.2121e-01, 2.0000e+00]])\n",
      "id: tensor([1., 2., 3.])\n",
      "is_track: True\n",
      "orig_shape: (1080, 1920)\n",
      "shape: torch.Size([3, 7])\n",
      "xywh: tensor([[ 772.7036,  423.1023,  442.4858,  275.3194],\n",
      "        [1222.6714,  337.2611,   53.6792,   34.8719],\n",
      "        [1307.4604,  337.6091,   50.2793,   35.9945]])\n",
      "xywhn: tensor([[0.4024, 0.3918, 0.2305, 0.2549],\n",
      "        [0.6368, 0.3123, 0.0280, 0.0323],\n",
      "        [0.6810, 0.3126, 0.0262, 0.0333]])\n",
      "xyxy: tensor([[ 551.4607,  285.4426,  993.9465,  560.7620],\n",
      "        [1195.8318,  319.8251, 1249.5110,  354.6970],\n",
      "        [1282.3208,  319.6118, 1332.6001,  355.6063]])\n",
      "xyxyn: tensor([[0.2872, 0.2643, 0.5177, 0.5192],\n",
      "        [0.6228, 0.2961, 0.6508, 0.3284],\n",
      "        [0.6679, 0.2959, 0.6941, 0.3293]])\n",
      "2\n",
      "track id: 1, class: 2\n",
      "\n",
      "0: 288x416 1 matriculas, 13.0ms\n",
      "Speed: 1.0ms preprocess, 13.0ms inference, 2.0ms postprocess per image at shape (1, 3, 288, 416)\n",
      "plate id, 1\n",
      "Matrícula: , Confidence: 95.0\n",
      "2\n",
      "track id: 2, class: 2\n",
      "\n",
      "0: 288x416 (no detections), 12.1ms\n",
      "Speed: 1.9ms preprocess, 12.1ms inference, 1.0ms postprocess per image at shape (1, 3, 288, 416)\n",
      "2\n",
      "track id: 3, class: 2\n",
      "\n",
      "0: 320x416 (no detections), 13.1ms\n",
      "Speed: 1.9ms preprocess, 13.1ms inference, 1.2ms postprocess per image at shape (1, 3, 320, 416)\n",
      "\n",
      "0: 384x640 3 cars, 18.5ms\n",
      "Speed: 2.1ms preprocess, 18.5ms inference, 2.0ms postprocess per image at shape (1, 3, 384, 640)\n",
      "detecciones: ultralytics.engine.results.Boxes object with attributes:\n",
      "\n",
      "cls: tensor([2., 2., 2.])\n",
      "conf: tensor([0.9250, 0.6397, 0.6387])\n",
      "data: tensor([[5.2166e+02, 2.8478e+02, 9.8030e+02, 5.6639e+02, 1.0000e+00, 9.2495e-01, 2.0000e+00],\n",
      "        [1.1949e+03, 3.1912e+02, 1.2494e+03, 3.5479e+02, 2.0000e+00, 6.3970e-01, 2.0000e+00],\n",
      "        [1.2821e+03, 3.1891e+02, 1.3321e+03, 3.5544e+02, 3.0000e+00, 6.3867e-01, 2.0000e+00]])\n",
      "id: tensor([1., 2., 3.])\n",
      "is_track: True\n",
      "orig_shape: (1080, 1920)\n",
      "shape: torch.Size([3, 7])\n",
      "xywh: tensor([[ 750.9818,  425.5865,  458.6445,  281.6068],\n",
      "        [1222.1528,  336.9555,   54.5391,   35.6628],\n",
      "        [1307.1368,  337.1741,   49.9888,   36.5314]])\n",
      "xywhn: tensor([[0.3911, 0.3941, 0.2389, 0.2607],\n",
      "        [0.6365, 0.3120, 0.0284, 0.0330],\n",
      "        [0.6808, 0.3122, 0.0260, 0.0338]])\n",
      "xyxy: tensor([[ 521.6595,  284.7831,  980.3041,  566.3900],\n",
      "        [1194.8833,  319.1241, 1249.4224,  354.7869],\n",
      "        [1282.1425,  318.9084, 1332.1312,  355.4398]])\n",
      "xyxyn: tensor([[0.2717, 0.2637, 0.5106, 0.5244],\n",
      "        [0.6223, 0.2955, 0.6507, 0.3285],\n",
      "        [0.6678, 0.2953, 0.6938, 0.3291]])\n",
      "2\n",
      "track id: 1, class: 2\n",
      "\n",
      "0: 256x416 1 matriculas, 13.0ms\n",
      "Speed: 2.0ms preprocess, 13.0ms inference, 1.0ms postprocess per image at shape (1, 3, 256, 416)\n",
      "plate id, 1\n",
      "Matrícula: , Confidence: 59.5\n",
      "2\n",
      "track id: 2, class: 2\n",
      "\n",
      "0: 288x416 (no detections), 13.0ms\n",
      "Speed: 2.0ms preprocess, 13.0ms inference, 0.0ms postprocess per image at shape (1, 3, 288, 416)\n",
      "2\n",
      "track id: 3, class: 2\n",
      "\n",
      "0: 320x416 (no detections), 13.2ms\n",
      "Speed: 2.0ms preprocess, 13.2ms inference, 1.0ms postprocess per image at shape (1, 3, 320, 416)\n",
      "\n",
      "0: 384x640 3 cars, 18.0ms\n",
      "Speed: 2.3ms preprocess, 18.0ms inference, 2.2ms postprocess per image at shape (1, 3, 384, 640)\n",
      "detecciones: ultralytics.engine.results.Boxes object with attributes:\n",
      "\n",
      "cls: tensor([2., 2., 2.])\n",
      "conf: tensor([0.9283, 0.6379, 0.6335])\n",
      "data: tensor([[4.9442e+02, 2.8370e+02, 9.7349e+02, 5.7757e+02, 1.0000e+00, 9.2827e-01, 2.0000e+00],\n",
      "        [1.2823e+03, 3.1916e+02, 1.3337e+03, 3.5554e+02, 2.0000e+00, 6.3787e-01, 2.0000e+00],\n",
      "        [1.1962e+03, 3.1951e+02, 1.2501e+03, 3.5518e+02, 3.0000e+00, 6.3346e-01, 2.0000e+00]])\n",
      "id: tensor([1., 2., 3.])\n",
      "is_track: True\n",
      "orig_shape: (1080, 1920)\n",
      "shape: torch.Size([3, 7])\n",
      "xywh: tensor([[ 733.9589,  430.6340,  479.0684,  293.8730],\n",
      "        [1307.9623,  337.3536,   51.3831,   36.3815],\n",
      "        [1223.1832,  337.3482,   53.8894,   35.6695]])\n",
      "xywhn: tensor([[0.3823, 0.3987, 0.2495, 0.2721],\n",
      "        [0.6812, 0.3124, 0.0268, 0.0337],\n",
      "        [0.6371, 0.3124, 0.0281, 0.0330]])\n",
      "xyxy: tensor([[ 494.4247,  283.6975,  973.4930,  577.5706],\n",
      "        [1282.2708,  319.1629, 1333.6538,  355.5444],\n",
      "        [1196.2385,  319.5134, 1250.1279,  355.1830]])\n",
      "xyxyn: tensor([[0.2575, 0.2627, 0.5070, 0.5348],\n",
      "        [0.6678, 0.2955, 0.6946, 0.3292],\n",
      "        [0.6230, 0.2958, 0.6511, 0.3289]])\n",
      "2\n",
      "track id: 1, class: 2\n",
      "\n",
      "0: 256x416 1 matriculas, 13.2ms\n",
      "Speed: 1.0ms preprocess, 13.2ms inference, 1.0ms postprocess per image at shape (1, 3, 256, 416)\n",
      "plate id, 1\n",
      "Matrícula: , Confidence: 95.0\n",
      "2\n",
      "track id: 2, class: 2\n",
      "\n",
      "0: 320x416 (no detections), 13.2ms\n",
      "Speed: 2.0ms preprocess, 13.2ms inference, 1.0ms postprocess per image at shape (1, 3, 320, 416)\n",
      "2\n",
      "track id: 3, class: 2\n",
      "\n",
      "0: 288x416 (no detections), 13.4ms\n",
      "Speed: 1.0ms preprocess, 13.4ms inference, 1.0ms postprocess per image at shape (1, 3, 288, 416)\n",
      "\n",
      "0: 384x640 2 cars, 18.0ms\n",
      "Speed: 3.1ms preprocess, 18.0ms inference, 2.1ms postprocess per image at shape (1, 3, 384, 640)\n",
      "detecciones: ultralytics.engine.results.Boxes object with attributes:\n",
      "\n",
      "cls: tensor([2., 2.])\n",
      "conf: tensor([0.8895, 0.6217])\n",
      "data: tensor([[4.5959e+02, 2.8169e+02, 9.6345e+02, 5.9072e+02, 1.0000e+00, 8.8952e-01, 2.0000e+00],\n",
      "        [1.2825e+03, 3.2010e+02, 1.3351e+03, 3.5603e+02, 2.0000e+00, 6.2167e-01, 2.0000e+00]])\n",
      "id: tensor([1., 2.])\n",
      "is_track: True\n",
      "orig_shape: (1080, 1920)\n",
      "shape: torch.Size([2, 7])\n",
      "xywh: tensor([[ 711.5193,  436.2044,  503.8608,  309.0303],\n",
      "        [1308.8083,  338.0671,   52.5555,   35.9313]])\n",
      "xywhn: tensor([[0.3706, 0.4039, 0.2624, 0.2861],\n",
      "        [0.6817, 0.3130, 0.0274, 0.0333]])\n",
      "xyxy: tensor([[ 459.5889,  281.6893,  963.4497,  590.7196],\n",
      "        [1282.5305,  320.1014, 1335.0861,  356.0327]])\n",
      "xyxyn: tensor([[0.2394, 0.2608, 0.5018, 0.5470],\n",
      "        [0.6680, 0.2964, 0.6954, 0.3297]])\n",
      "2\n",
      "track id: 1, class: 2\n",
      "\n",
      "0: 256x416 1 matriculas, 13.1ms\n",
      "Speed: 1.0ms preprocess, 13.1ms inference, 1.0ms postprocess per image at shape (1, 3, 256, 416)\n",
      "plate id, 1\n",
      "Matrícula: , Confidence: 95.0\n",
      "2\n",
      "track id: 2, class: 2\n",
      "\n",
      "0: 288x416 (no detections), 13.1ms\n",
      "Speed: 1.8ms preprocess, 13.1ms inference, 0.0ms postprocess per image at shape (1, 3, 288, 416)\n",
      "\n",
      "0: 384x640 2 cars, 17.3ms\n",
      "Speed: 3.0ms preprocess, 17.3ms inference, 2.0ms postprocess per image at shape (1, 3, 384, 640)\n",
      "detecciones: ultralytics.engine.results.Boxes object with attributes:\n",
      "\n",
      "cls: tensor([2., 2.])\n",
      "conf: tensor([0.8878, 0.6208])\n",
      "data: tensor([[4.5955e+02, 2.8168e+02, 9.6348e+02, 5.9072e+02, 1.0000e+00, 8.8779e-01, 2.0000e+00],\n",
      "        [1.2826e+03, 3.2017e+02, 1.3349e+03, 3.5602e+02, 2.0000e+00, 6.2082e-01, 2.0000e+00]])\n",
      "id: tensor([1., 2.])\n",
      "is_track: True\n",
      "orig_shape: (1080, 1920)\n",
      "shape: torch.Size([2, 7])\n",
      "xywh: tensor([[ 711.5140,  436.1996,  503.9312,  309.0372],\n",
      "        [1308.7484,  338.0942,   52.3689,   35.8583]])\n",
      "xywhn: tensor([[0.3706, 0.4039, 0.2625, 0.2861],\n",
      "        [0.6816, 0.3131, 0.0273, 0.0332]])\n",
      "xyxy: tensor([[ 459.5484,  281.6810,  963.4796,  590.7181],\n",
      "        [1282.5640,  320.1650, 1334.9329,  356.0233]])\n",
      "xyxyn: tensor([[0.2393, 0.2608, 0.5018, 0.5470],\n",
      "        [0.6680, 0.2964, 0.6953, 0.3297]])\n",
      "2\n",
      "track id: 1, class: 2\n",
      "\n",
      "0: 256x416 1 matriculas, 12.1ms\n",
      "Speed: 2.0ms preprocess, 12.1ms inference, 2.0ms postprocess per image at shape (1, 3, 256, 416)\n",
      "plate id, 1\n",
      "Matrícula: , Confidence: 95.0\n",
      "2\n",
      "track id: 2, class: 2\n",
      "\n",
      "0: 288x416 (no detections), 13.1ms\n",
      "Speed: 1.0ms preprocess, 13.1ms inference, 1.0ms postprocess per image at shape (1, 3, 288, 416)\n",
      "\n",
      "0: 384x640 2 cars, 18.2ms\n",
      "Speed: 4.1ms preprocess, 18.2ms inference, 1.0ms postprocess per image at shape (1, 3, 384, 640)\n",
      "detecciones: ultralytics.engine.results.Boxes object with attributes:\n",
      "\n",
      "cls: tensor([2., 2.])\n",
      "conf: tensor([0.9297, 0.6146])\n",
      "data: tensor([[4.2131e+02, 2.7989e+02, 9.5364e+02, 6.0306e+02, 1.0000e+00, 9.2968e-01, 2.0000e+00],\n",
      "        [1.2820e+03, 3.2064e+02, 1.3358e+03, 3.5561e+02, 2.0000e+00, 6.1458e-01, 2.0000e+00]])\n",
      "id: tensor([1., 2.])\n",
      "is_track: True\n",
      "orig_shape: (1080, 1920)\n",
      "shape: torch.Size([2, 7])\n",
      "xywh: tensor([[ 687.4765,  441.4738,  532.3358,  323.1711],\n",
      "        [1308.8665,  338.1257,   53.8191,   34.9764]])\n",
      "xywhn: tensor([[0.3581, 0.4088, 0.2773, 0.2992],\n",
      "        [0.6817, 0.3131, 0.0280, 0.0324]])\n",
      "xyxy: tensor([[ 421.3086,  279.8882,  953.6444,  603.0593],\n",
      "        [1281.9569,  320.6375, 1335.7760,  355.6140]])\n",
      "xyxyn: tensor([[0.2194, 0.2592, 0.4967, 0.5584],\n",
      "        [0.6677, 0.2969, 0.6957, 0.3293]])\n",
      "2\n",
      "track id: 1, class: 2\n",
      "\n",
      "0: 256x416 1 matriculas, 12.4ms\n",
      "Speed: 2.0ms preprocess, 12.4ms inference, 1.0ms postprocess per image at shape (1, 3, 256, 416)\n",
      "plate id, 1\n",
      "Matrícula: , Confidence: 95.0\n",
      "2\n",
      "track id: 2, class: 2\n",
      "\n",
      "0: 288x416 (no detections), 13.3ms\n",
      "Speed: 0.9ms preprocess, 13.3ms inference, 0.0ms postprocess per image at shape (1, 3, 288, 416)\n",
      "\n",
      "0: 384x640 2 cars, 17.4ms\n",
      "Speed: 2.0ms preprocess, 17.4ms inference, 2.0ms postprocess per image at shape (1, 3, 384, 640)\n",
      "detecciones: ultralytics.engine.results.Boxes object with attributes:\n",
      "\n",
      "cls: tensor([2., 2.])\n",
      "conf: tensor([0.9241, 0.6342])\n",
      "data: tensor([[3.8487e+02, 2.7939e+02, 9.4249e+02, 6.1345e+02, 1.0000e+00, 9.2406e-01, 2.0000e+00],\n",
      "        [1.2815e+03, 3.1977e+02, 1.3330e+03, 3.5496e+02, 2.0000e+00, 6.3419e-01, 2.0000e+00]])\n",
      "id: tensor([1., 2.])\n",
      "is_track: True\n",
      "orig_shape: (1080, 1920)\n",
      "shape: torch.Size([2, 7])\n",
      "xywh: tensor([[ 663.6783,  446.4202,  557.6146,  334.0687],\n",
      "        [1307.2642,  337.3615,   51.5057,   35.1921]])\n",
      "xywhn: tensor([[0.3457, 0.4134, 0.2904, 0.3093],\n",
      "        [0.6809, 0.3124, 0.0268, 0.0326]])\n",
      "xyxy: tensor([[ 384.8710,  279.3859,  942.4856,  613.4545],\n",
      "        [1281.5112,  319.7654, 1333.0170,  354.9576]])\n",
      "xyxyn: tensor([[0.2005, 0.2587, 0.4909, 0.5680],\n",
      "        [0.6675, 0.2961, 0.6943, 0.3287]])\n",
      "2\n",
      "track id: 1, class: 2\n",
      "\n",
      "0: 256x416 1 matriculas, 12.1ms\n",
      "Speed: 2.0ms preprocess, 12.1ms inference, 2.0ms postprocess per image at shape (1, 3, 256, 416)\n",
      "plate id, 1\n",
      "Matrícula: , Confidence: 95.0\n",
      "2\n",
      "track id: 2, class: 2\n",
      "\n",
      "0: 288x416 (no detections), 13.3ms\n",
      "Speed: 2.0ms preprocess, 13.3ms inference, 1.0ms postprocess per image at shape (1, 3, 288, 416)\n",
      "\n",
      "0: 384x640 3 cars, 17.3ms\n",
      "Speed: 3.2ms preprocess, 17.3ms inference, 2.1ms postprocess per image at shape (1, 3, 384, 640)\n",
      "detecciones: ultralytics.engine.results.Boxes object with attributes:\n",
      "\n",
      "cls: tensor([2., 2., 2.])\n",
      "conf: tensor([0.9288, 0.6266, 0.6025])\n",
      "data: tensor([[3.3912e+02, 2.7788e+02, 9.3160e+02, 6.2574e+02, 1.0000e+00, 9.2876e-01, 2.0000e+00],\n",
      "        [1.2816e+03, 3.2004e+02, 1.3325e+03, 3.5491e+02, 2.0000e+00, 6.2659e-01, 2.0000e+00],\n",
      "        [1.2018e+03, 3.2194e+02, 1.2518e+03, 3.5667e+02, 3.0000e+00, 6.0251e-01, 2.0000e+00]])\n",
      "id: tensor([1., 2., 3.])\n",
      "is_track: True\n",
      "orig_shape: (1080, 1920)\n",
      "shape: torch.Size([3, 7])\n",
      "xywh: tensor([[ 635.3597,  451.8123,  592.4844,  347.8651],\n",
      "        [1307.0695,  337.4766,   50.9534,   34.8730],\n",
      "        [1226.7600,  339.3093,   50.0197,   34.7313]])\n",
      "xywhn: tensor([[0.3309, 0.4183, 0.3086, 0.3221],\n",
      "        [0.6808, 0.3125, 0.0265, 0.0323],\n",
      "        [0.6389, 0.3142, 0.0261, 0.0322]])\n",
      "xyxy: tensor([[ 339.1175,  277.8798,  931.6019,  625.7448],\n",
      "        [1281.5928,  320.0400, 1332.5461,  354.9131],\n",
      "        [1201.7502,  321.9436, 1251.7699,  356.6749]])\n",
      "xyxyn: tensor([[0.1766, 0.2573, 0.4852, 0.5794],\n",
      "        [0.6675, 0.2963, 0.6940, 0.3286],\n",
      "        [0.6259, 0.2981, 0.6520, 0.3303]])\n",
      "2\n",
      "track id: 1, class: 2\n",
      "\n",
      "0: 256x416 1 matriculas, 13.0ms\n",
      "Speed: 1.0ms preprocess, 13.0ms inference, 2.0ms postprocess per image at shape (1, 3, 256, 416)\n",
      "plate id, 1\n",
      "Matrícula: , Confidence: 95.0\n",
      "2\n",
      "track id: 2, class: 2\n",
      "\n",
      "0: 288x416 (no detections), 13.2ms\n",
      "Speed: 2.0ms preprocess, 13.2ms inference, 0.0ms postprocess per image at shape (1, 3, 288, 416)\n",
      "2\n",
      "track id: 3, class: 2\n",
      "\n",
      "0: 320x416 (no detections), 13.3ms\n",
      "Speed: 2.0ms preprocess, 13.3ms inference, 1.0ms postprocess per image at shape (1, 3, 320, 416)\n",
      "\n",
      "0: 384x640 3 cars, 17.2ms\n",
      "Speed: 3.1ms preprocess, 17.2ms inference, 2.0ms postprocess per image at shape (1, 3, 384, 640)\n",
      "detecciones: ultralytics.engine.results.Boxes object with attributes:\n",
      "\n",
      "cls: tensor([2., 2., 2.])\n",
      "conf: tensor([0.9357, 0.6265, 0.6227])\n",
      "data: tensor([[2.9016e+02, 2.7772e+02, 9.1946e+02, 6.4757e+02, 1.0000e+00, 9.3573e-01, 2.0000e+00],\n",
      "        [1.2023e+03, 3.2224e+02, 1.2517e+03, 3.5671e+02, 2.0000e+00, 6.2647e-01, 2.0000e+00],\n",
      "        [1.2806e+03, 3.2044e+02, 1.3349e+03, 3.5476e+02, 3.0000e+00, 6.2275e-01, 2.0000e+00]])\n",
      "id: tensor([1., 2., 3.])\n",
      "is_track: True\n",
      "orig_shape: (1080, 1920)\n",
      "shape: torch.Size([3, 7])\n",
      "xywh: tensor([[ 604.8125,  462.6442,  629.2966,  369.8469],\n",
      "        [1226.9780,  339.4730,   49.4011,   34.4742],\n",
      "        [1307.7371,  337.5990,   54.2823,   34.3195]])\n",
      "xywhn: tensor([[0.3150, 0.4284, 0.3278, 0.3425],\n",
      "        [0.6391, 0.3143, 0.0257, 0.0319],\n",
      "        [0.6811, 0.3126, 0.0283, 0.0318]])\n",
      "xyxy: tensor([[ 290.1642,  277.7207,  919.4608,  647.5676],\n",
      "        [1202.2775,  322.2359, 1251.6786,  356.7101],\n",
      "        [1280.5959,  320.4392, 1334.8783,  354.7588]])\n",
      "xyxyn: tensor([[0.1511, 0.2571, 0.4789, 0.5996],\n",
      "        [0.6262, 0.2984, 0.6519, 0.3303],\n",
      "        [0.6670, 0.2967, 0.6952, 0.3285]])\n",
      "2\n",
      "track id: 1, class: 2\n",
      "\n",
      "0: 256x416 1 matriculas, 15.2ms\n",
      "Speed: 1.1ms preprocess, 15.2ms inference, 2.0ms postprocess per image at shape (1, 3, 256, 416)\n",
      "plate id, 1\n",
      "Matrícula: , Confidence: 95.0\n",
      "2\n",
      "track id: 2, class: 2\n",
      "\n",
      "0: 320x416 (no detections), 13.1ms\n",
      "Speed: 2.0ms preprocess, 13.1ms inference, 0.0ms postprocess per image at shape (1, 3, 320, 416)\n",
      "2\n",
      "track id: 3, class: 2\n",
      "\n",
      "0: 288x416 (no detections), 13.4ms\n",
      "Speed: 1.9ms preprocess, 13.4ms inference, 1.0ms postprocess per image at shape (1, 3, 288, 416)\n",
      "\n",
      "0: 384x640 4 cars, 18.1ms\n",
      "Speed: 1.8ms preprocess, 18.1ms inference, 1.3ms postprocess per image at shape (1, 3, 384, 640)\n",
      "detecciones: ultralytics.engine.results.Boxes object with attributes:\n",
      "\n",
      "cls: tensor([2., 2., 2., 2.])\n",
      "conf: tensor([0.8681, 0.6457, 0.6181, 0.6032])\n",
      "data: tensor([[2.3404e+02, 2.7395e+02, 9.0867e+02, 6.5945e+02, 1.0000e+00, 8.6806e-01, 2.0000e+00],\n",
      "        [1.2018e+03, 3.2258e+02, 1.2524e+03, 3.5732e+02, 2.0000e+00, 6.4571e-01, 2.0000e+00],\n",
      "        [1.2801e+03, 3.2025e+02, 1.3371e+03, 3.5407e+02, 3.0000e+00, 6.1814e-01, 2.0000e+00],\n",
      "        [1.3435e+03, 3.2256e+02, 1.3840e+03, 3.5408e+02, 4.0000e+00, 6.0318e-01, 2.0000e+00]])\n",
      "id: tensor([1., 2., 3., 4.])\n",
      "is_track: True\n",
      "orig_shape: (1080, 1920)\n",
      "shape: torch.Size([4, 7])\n",
      "xywh: tensor([[ 571.3546,  466.7022,  674.6290,  385.5016],\n",
      "        [1227.0854,  339.9500,   50.6597,   34.7474],\n",
      "        [1308.6204,  337.1604,   57.0037,   33.8162],\n",
      "        [1363.7356,  338.3201,   40.4930,   31.5173]])\n",
      "xywhn: tensor([[0.2976, 0.4321, 0.3514, 0.3569],\n",
      "        [0.6391, 0.3148, 0.0264, 0.0322],\n",
      "        [0.6816, 0.3122, 0.0297, 0.0313],\n",
      "        [0.7103, 0.3133, 0.0211, 0.0292]])\n",
      "xyxy: tensor([[ 234.0400,  273.9514,  908.6691,  659.4530],\n",
      "        [1201.7556,  322.5763, 1252.4153,  357.3236],\n",
      "        [1280.1185,  320.2523, 1337.1222,  354.0685],\n",
      "        [1343.4890,  322.5614, 1383.9821,  354.0787]])\n",
      "xyxyn: tensor([[0.1219, 0.2537, 0.4733, 0.6106],\n",
      "        [0.6259, 0.2987, 0.6523, 0.3309],\n",
      "        [0.6667, 0.2965, 0.6964, 0.3278],\n",
      "        [0.6997, 0.2987, 0.7208, 0.3279]])\n",
      "2\n",
      "track id: 1, class: 2\n",
      "\n",
      "0: 256x416 1 matriculas, 13.1ms\n",
      "Speed: 2.0ms preprocess, 13.1ms inference, 1.0ms postprocess per image at shape (1, 3, 256, 416)\n",
      "plate id, 1\n",
      "Matrícula: , Confidence: 95.0\n",
      "2\n",
      "track id: 2, class: 2\n",
      "\n",
      "0: 288x416 (no detections), 12.7ms\n",
      "Speed: 2.0ms preprocess, 12.7ms inference, 0.0ms postprocess per image at shape (1, 3, 288, 416)\n",
      "2\n",
      "track id: 3, class: 2\n",
      "\n",
      "0: 256x416 (no detections), 12.8ms\n",
      "Speed: 1.0ms preprocess, 12.8ms inference, 1.0ms postprocess per image at shape (1, 3, 256, 416)\n",
      "2\n",
      "track id: 4, class: 2\n",
      "\n",
      "0: 352x416 (no detections), 14.1ms\n",
      "Speed: 2.0ms preprocess, 14.1ms inference, 0.0ms postprocess per image at shape (1, 3, 352, 416)\n",
      "\n",
      "0: 384x640 4 cars, 17.1ms\n",
      "Speed: 2.5ms preprocess, 17.1ms inference, 2.0ms postprocess per image at shape (1, 3, 384, 640)\n",
      "detecciones: ultralytics.engine.results.Boxes object with attributes:\n",
      "\n",
      "cls: tensor([2., 2., 2., 2.])\n",
      "conf: tensor([0.8669, 0.6435, 0.6192, 0.6010])\n",
      "data: tensor([[2.3407e+02, 2.7398e+02, 9.0879e+02, 6.5940e+02, 1.0000e+00, 8.6686e-01, 2.0000e+00],\n",
      "        [1.2017e+03, 3.2254e+02, 1.2524e+03, 3.5727e+02, 2.0000e+00, 6.4352e-01, 2.0000e+00],\n",
      "        [1.2801e+03, 3.2023e+02, 1.3372e+03, 3.5408e+02, 3.0000e+00, 6.1919e-01, 2.0000e+00],\n",
      "        [1.3436e+03, 3.2257e+02, 1.3840e+03, 3.5405e+02, 4.0000e+00, 6.0098e-01, 2.0000e+00]])\n",
      "id: tensor([1., 2., 3., 4.])\n",
      "is_track: True\n",
      "orig_shape: (1080, 1920)\n",
      "shape: torch.Size([4, 7])\n",
      "xywh: tensor([[ 571.4303,  466.6859,  674.7122,  385.4185],\n",
      "        [1227.0520,  339.9083,   50.7837,   34.7317],\n",
      "        [1308.6594,  337.1567,   57.0504,   33.8434],\n",
      "        [1363.7798,  338.3087,   40.4584,   31.4865]])\n",
      "xywhn: tensor([[0.2976, 0.4321, 0.3514, 0.3569],\n",
      "        [0.6391, 0.3147, 0.0264, 0.0322],\n",
      "        [0.6816, 0.3122, 0.0297, 0.0313],\n",
      "        [0.7103, 0.3132, 0.0211, 0.0292]])\n",
      "xyxy: tensor([[ 234.0742,  273.9766,  908.7864,  659.3951],\n",
      "        [1201.6602,  322.5424, 1252.4438,  357.2741],\n",
      "        [1280.1343,  320.2350, 1337.1847,  354.0784],\n",
      "        [1343.5505,  322.5655, 1384.0089,  354.0519]])\n",
      "xyxyn: tensor([[0.1219, 0.2537, 0.4733, 0.6106],\n",
      "        [0.6259, 0.2987, 0.6523, 0.3308],\n",
      "        [0.6667, 0.2965, 0.6965, 0.3279],\n",
      "        [0.6998, 0.2987, 0.7208, 0.3278]])\n",
      "2\n",
      "track id: 1, class: 2\n",
      "\n",
      "0: 256x416 1 matriculas, 13.0ms\n",
      "Speed: 1.1ms preprocess, 13.0ms inference, 2.0ms postprocess per image at shape (1, 3, 256, 416)\n",
      "plate id, 1\n",
      "Matrícula: , Confidence: 95.0\n",
      "2\n",
      "track id: 2, class: 2\n",
      "\n",
      "0: 288x416 (no detections), 12.7ms\n",
      "Speed: 2.1ms preprocess, 12.7ms inference, 1.0ms postprocess per image at shape (1, 3, 288, 416)\n",
      "2\n",
      "track id: 3, class: 2\n",
      "\n",
      "0: 256x416 (no detections), 13.0ms\n",
      "Speed: 2.1ms preprocess, 13.0ms inference, 0.0ms postprocess per image at shape (1, 3, 256, 416)\n",
      "2\n",
      "track id: 4, class: 2\n",
      "\n",
      "0: 352x416 (no detections), 14.5ms\n",
      "Speed: 1.1ms preprocess, 14.5ms inference, 1.0ms postprocess per image at shape (1, 3, 352, 416)\n",
      "\n",
      "0: 384x640 3 cars, 17.3ms\n",
      "Speed: 3.0ms preprocess, 17.3ms inference, 2.9ms postprocess per image at shape (1, 3, 384, 640)\n",
      "detecciones: ultralytics.engine.results.Boxes object with attributes:\n",
      "\n",
      "cls: tensor([2., 2., 2.])\n",
      "conf: tensor([0.8654, 0.6089, 0.6073])\n",
      "data: tensor([[1.7690e+02, 2.6859e+02, 8.9683e+02, 6.8280e+02, 1.0000e+00, 8.6542e-01, 2.0000e+00],\n",
      "        [1.2011e+03, 3.2167e+02, 1.2538e+03, 3.5740e+02, 2.0000e+00, 6.0891e-01, 2.0000e+00],\n",
      "        [1.3434e+03, 3.2235e+02, 1.3837e+03, 3.5387e+02, 3.0000e+00, 6.0732e-01, 2.0000e+00]])\n",
      "id: tensor([1., 2., 3.])\n",
      "is_track: True\n",
      "orig_shape: (1080, 1920)\n",
      "shape: torch.Size([3, 7])\n",
      "xywh: tensor([[ 536.8617,  475.6974,  719.9327,  414.2064],\n",
      "        [1227.4125,  339.5348,   52.6816,   35.7281],\n",
      "        [1363.5466,  338.1106,   40.2441,   31.5253]])\n",
      "xywhn: tensor([[0.2796, 0.4405, 0.3750, 0.3835],\n",
      "        [0.6393, 0.3144, 0.0274, 0.0331],\n",
      "        [0.7102, 0.3131, 0.0210, 0.0292]])\n",
      "xyxy: tensor([[ 176.8953,  268.5942,  896.8281,  682.8007],\n",
      "        [1201.0717,  321.6708, 1253.7533,  357.3989],\n",
      "        [1343.4246,  322.3480, 1383.6687,  353.8732]])\n",
      "xyxyn: tensor([[0.0921, 0.2487, 0.4671, 0.6322],\n",
      "        [0.6256, 0.2978, 0.6530, 0.3309],\n",
      "        [0.6997, 0.2985, 0.7207, 0.3277]])\n",
      "2\n",
      "track id: 1, class: 2\n",
      "\n",
      "0: 256x416 1 matriculas, 12.7ms\n",
      "Speed: 1.3ms preprocess, 12.7ms inference, 1.0ms postprocess per image at shape (1, 3, 256, 416)\n",
      "plate id, 1\n",
      "Matrícula: , Confidence: 95.0\n",
      "2\n",
      "track id: 2, class: 2\n",
      "\n",
      "0: 288x416 (no detections), 13.3ms\n",
      "Speed: 0.9ms preprocess, 13.3ms inference, 1.5ms postprocess per image at shape (1, 3, 288, 416)\n",
      "2\n",
      "track id: 3, class: 2\n",
      "\n",
      "0: 352x416 (no detections), 13.5ms\n",
      "Speed: 2.0ms preprocess, 13.5ms inference, 1.2ms postprocess per image at shape (1, 3, 352, 416)\n",
      "\n",
      "0: 384x640 2 cars, 17.2ms\n",
      "Speed: 3.1ms preprocess, 17.2ms inference, 2.0ms postprocess per image at shape (1, 3, 384, 640)\n",
      "detecciones: ultralytics.engine.results.Boxes object with attributes:\n",
      "\n",
      "cls: tensor([2., 2.])\n",
      "conf: tensor([0.9266, 0.6008])\n",
      "data: tensor([[1.1073e+02, 2.6550e+02, 8.7784e+02, 7.0599e+02, 1.0000e+00, 9.2664e-01, 2.0000e+00],\n",
      "        [1.2029e+03, 3.2195e+02, 1.2553e+03, 3.5755e+02, 2.0000e+00, 6.0084e-01, 2.0000e+00]])\n",
      "id: tensor([1., 2.])\n",
      "is_track: True\n",
      "orig_shape: (1080, 1920)\n",
      "shape: torch.Size([2, 7])\n",
      "xywh: tensor([[ 494.2847,  485.7475,  767.1069,  440.4867],\n",
      "        [1229.1300,  339.7498,   52.3777,   35.6032]])\n",
      "xywhn: tensor([[0.2574, 0.4498, 0.3995, 0.4079],\n",
      "        [0.6402, 0.3146, 0.0273, 0.0330]])\n",
      "xyxy: tensor([[ 110.7313,  265.5042,  877.8381,  705.9908],\n",
      "        [1202.9412,  321.9482, 1255.3188,  357.5514]])\n",
      "xyxyn: tensor([[0.0577, 0.2458, 0.4572, 0.6537],\n",
      "        [0.6265, 0.2981, 0.6538, 0.3311]])\n",
      "2\n",
      "track id: 1, class: 2\n",
      "\n",
      "0: 256x416 1 matriculas, 13.5ms\n",
      "Speed: 0.0ms preprocess, 13.5ms inference, 1.5ms postprocess per image at shape (1, 3, 256, 416)\n",
      "plate id, 1\n",
      "Matrícula: , Confidence: 95.0\n",
      "2\n",
      "track id: 2, class: 2\n",
      "\n",
      "0: 288x416 (no detections), 13.8ms\n",
      "Speed: 2.0ms preprocess, 13.8ms inference, 0.0ms postprocess per image at shape (1, 3, 288, 416)\n",
      "\n",
      "0: 384x640 1 car, 17.6ms\n",
      "Speed: 3.0ms preprocess, 17.6ms inference, 2.0ms postprocess per image at shape (1, 3, 384, 640)\n",
      "detecciones: ultralytics.engine.results.Boxes object with attributes:\n",
      "\n",
      "cls: tensor([2.])\n",
      "conf: tensor([0.9151])\n",
      "data: tensor([[ 26.8969, 263.9360, 864.0294, 727.9268,   1.0000,   0.9151,   2.0000]])\n",
      "id: tensor([1.])\n",
      "is_track: True\n",
      "orig_shape: (1080, 1920)\n",
      "shape: torch.Size([1, 7])\n",
      "xywh: tensor([[445.4631, 495.9314, 837.1326, 463.9907]])\n",
      "xywhn: tensor([[0.2320, 0.4592, 0.4360, 0.4296]])\n",
      "xyxy: tensor([[ 26.8969, 263.9360, 864.0294, 727.9268]])\n",
      "xyxyn: tensor([[0.0140, 0.2444, 0.4500, 0.6740]])\n",
      "2\n",
      "track id: 1, class: 2\n",
      "\n",
      "0: 256x416 1 matriculas, 13.5ms\n",
      "Speed: 0.9ms preprocess, 13.5ms inference, 1.1ms postprocess per image at shape (1, 3, 256, 416)\n",
      "plate id, 1\n",
      "Matrícula: , Confidence: 56.06666666666667\n",
      "\n",
      "0: 384x640 2 cars, 18.8ms\n",
      "Speed: 2.6ms preprocess, 18.8ms inference, 1.0ms postprocess per image at shape (1, 3, 384, 640)\n",
      "detecciones: ultralytics.engine.results.Boxes object with attributes:\n",
      "\n",
      "cls: tensor([2., 2.])\n",
      "conf: tensor([0.9252, 0.6086])\n",
      "data: tensor([[1.3737e+00, 2.6221e+02, 8.4877e+02, 7.5640e+02, 1.0000e+00, 9.2516e-01, 2.0000e+00],\n",
      "        [1.2015e+03, 3.2134e+02, 1.2569e+03, 3.5728e+02, 2.0000e+00, 6.0861e-01, 2.0000e+00]])\n",
      "id: tensor([1., 2.])\n",
      "is_track: True\n",
      "orig_shape: (1080, 1920)\n",
      "shape: torch.Size([2, 7])\n",
      "xywh: tensor([[ 425.0704,  509.3065,  847.3934,  494.1915],\n",
      "        [1229.2235,  339.3067,   55.3499,   35.9410]])\n",
      "xywhn: tensor([[0.2214, 0.4716, 0.4414, 0.4576],\n",
      "        [0.6402, 0.3142, 0.0288, 0.0333]])\n",
      "xyxy: tensor([[   1.3737,  262.2107,  848.7671,  756.4022],\n",
      "        [1201.5486,  321.3362, 1256.8984,  357.2772]])\n",
      "xyxyn: tensor([[0.0007, 0.2428, 0.4421, 0.7004],\n",
      "        [0.6258, 0.2975, 0.6546, 0.3308]])\n",
      "2\n",
      "track id: 1, class: 2\n",
      "\n",
      "0: 256x416 1 matriculas, 11.8ms\n",
      "Speed: 2.0ms preprocess, 11.8ms inference, 2.0ms postprocess per image at shape (1, 3, 256, 416)\n",
      "plate id, 1\n",
      "Matrícula: , Confidence: 95.0\n",
      "2\n",
      "track id: 2, class: 2\n",
      "\n",
      "0: 288x416 (no detections), 13.0ms\n",
      "Speed: 1.0ms preprocess, 13.0ms inference, 1.0ms postprocess per image at shape (1, 3, 288, 416)\n",
      "\n",
      "0: 384x640 1 car, 16.9ms\n",
      "Speed: 4.3ms preprocess, 16.9ms inference, 2.2ms postprocess per image at shape (1, 3, 384, 640)\n",
      "detecciones: ultralytics.engine.results.Boxes object with attributes:\n",
      "\n",
      "cls: tensor([2.])\n",
      "conf: tensor([0.9316])\n",
      "data: tensor([[  0.0000, 258.0886, 829.9096, 791.5856,   1.0000,   0.9316,   2.0000]])\n",
      "id: tensor([1.])\n",
      "is_track: True\n",
      "orig_shape: (1080, 1920)\n",
      "shape: torch.Size([1, 7])\n",
      "xywh: tensor([[414.9548, 524.8371, 829.9096, 533.4971]])\n",
      "xywhn: tensor([[0.2161, 0.4860, 0.4322, 0.4940]])\n",
      "xyxy: tensor([[  0.0000, 258.0886, 829.9096, 791.5856]])\n",
      "xyxyn: tensor([[0.0000, 0.2390, 0.4322, 0.7329]])\n",
      "2\n",
      "track id: 1, class: 2\n",
      "\n",
      "0: 288x416 (no detections), 12.2ms\n",
      "Speed: 1.9ms preprocess, 12.2ms inference, 0.0ms postprocess per image at shape (1, 3, 288, 416)\n",
      "\n",
      "0: 384x640 1 car, 18.0ms\n",
      "Speed: 2.0ms preprocess, 18.0ms inference, 2.0ms postprocess per image at shape (1, 3, 384, 640)\n",
      "detecciones: ultralytics.engine.results.Boxes object with attributes:\n",
      "\n",
      "cls: tensor([2.])\n",
      "conf: tensor([0.9317])\n",
      "data: tensor([[  0.0000, 258.0704, 829.8433, 791.4907,   1.0000,   0.9317,   2.0000]])\n",
      "id: tensor([1.])\n",
      "is_track: True\n",
      "orig_shape: (1080, 1920)\n",
      "shape: torch.Size([1, 7])\n",
      "xywh: tensor([[414.9217, 524.7806, 829.8433, 533.4203]])\n",
      "xywhn: tensor([[0.2161, 0.4859, 0.4322, 0.4939]])\n",
      "xyxy: tensor([[  0.0000, 258.0704, 829.8433, 791.4907]])\n",
      "xyxyn: tensor([[0.0000, 0.2390, 0.4322, 0.7329]])\n",
      "2\n",
      "track id: 1, class: 2\n",
      "\n",
      "0: 288x416 (no detections), 12.3ms\n",
      "Speed: 0.9ms preprocess, 12.3ms inference, 1.0ms postprocess per image at shape (1, 3, 288, 416)\n",
      "Video processing and CSV generation completed.\n",
      "Personas detectadas: 0\n",
      "Vehículos detectados: 4\n",
      "Matrículas detectadas: 1\n"
     ]
    }
   ],
   "source": [
    "pytesseract.pytesseract.tesseract_cmd = r'C:\\Program Files\\Tesseract-OCR\\tesseract.exe'\n",
    "\n",
    "\n",
    "def draw_rectangle(frame, object, color, x1, y1, x2, y2):\n",
    "    cv2.rectangle(frame, (x1, y1), (x2, y2), color, 3)\n",
    "    cv2.putText(frame, object, (x1, y1-10), cv2.FONT_HERSHEY_PLAIN, 1, color, 1)\n",
    "\n",
    "def is_valid_plate(plate_text):\n",
    "    # Expresión regular para validar los formatos de matrícula española\n",
    "    pattern1 = r'^\\d{4}[A-Z]{3}$'  # Formato: 1234ABC\n",
    "    pattern2 = r'^[A-Z]{2}\\d{4}[A-Z]{2}$'  # Formato: AB1234CD\n",
    "    pattern3 = r'^[A-Z0-9\\s]+$' # Cualquier combinación de letras y números\n",
    "    return re.match(pattern3, plate_text)\n",
    "\n",
    "\n",
    "# Modelo general\n",
    "general_model = YOLO('yolo11n.pt')\n",
    "\n",
    "# Modelo detección de matrículas\n",
    "plates_model = YOLO(r'.\\runs\\detect\\train2\\weights\\best.pt')\n",
    "\n",
    "# Diccionario para guardar el numero de detecciones de cada objeto\n",
    "detection_numbers_per_class = {\n",
    "    'people' : 0,\n",
    "    'vehicles' : 0,\n",
    "    'plates' : 0\n",
    "}\n",
    "\n",
    "# Dimensiones fijas para el lienzo de las imágenes de las matrículas en el video\n",
    "plate_width, plate_height = 1000, 1000\n",
    "\n",
    "\n",
    "# Capturar las propiedades del video de entrada para que sean las mismas que el de salida\n",
    "cap = cv2.VideoCapture('video_entrada_crop.mp4')\n",
    "width = int(cap.get(cv2.CAP_PROP_FRAME_WIDTH))\n",
    "height = int(cap.get(cv2.CAP_PROP_FRAME_HEIGHT))\n",
    "fps = int(cap.get(cv2.CAP_PROP_FPS))\n",
    "\n",
    "# Preparamos para guardar el video de salida con los resultados de las detecciones\n",
    "fourcc = cv2.VideoWriter_fourcc(*'mp4v')\n",
    "out = cv2.VideoWriter('video_salida.mp4', fourcc, fps, (plate_width, plate_height))\n",
    "\n",
    "# Preparamos el CSV donde guardaremos las características de las detecciones\n",
    "csv_file = open('detections.csv', mode='w', newline='')\n",
    "csv_writer = csv.writer(csv_file)\n",
    "csv_writer.writerow(['frame', 'object_type', 'confidence', 'tracking_id', 'x1', 'y1', 'x2', 'y2', \n",
    "                     'license_plate', 'plate_confidence', 'mx1', 'my1', 'mx2', 'my2', 'plate_text'])\n",
    "\n",
    "\n",
    "class_per_object = {\n",
    "    0 : 'person',\n",
    "    2 : 'car',\n",
    "    3 : 'bike',\n",
    "    5 : 'bus'\n",
    "}\n",
    "\n",
    "frame_number = 0\n",
    "\n",
    "track_history = {\n",
    "    'person' : [],\n",
    "    'vehicle' : [],\n",
    "    'plate' : []\n",
    "}\n",
    "\n",
    "while cap.isOpened():\n",
    "    ret, frame = cap.read()\n",
    "    if not ret:\n",
    "        break\n",
    "        \n",
    "    \n",
    "    # Clases -> Personas, coches, motos y guaguas, detección con modelo YOLO11n\n",
    "    results = general_model.track(frame, persist=False, classes = [0, 2, 3, 5], conf=0.25)          \n",
    "    # Lista para guardar los parametros de las detecciones \n",
    "    detections = []\n",
    "    for result in results:\n",
    "        # Cajas de las detecciones\n",
    "        boxes = result.boxes\n",
    "        print(f'detecciones: {boxes}')\n",
    "        # Flag para saber si es matricula la detección\n",
    "        flag_matricula = False\n",
    "        for detection_box in boxes:\n",
    "            # Coordenadas de las detecciones mapeadas a integer\n",
    "            x1, y1, x2, y2 = map(int, detection_box.xyxy[0])\n",
    "            # Clase de la detección\n",
    "            detection_class = int(detection_box.cls[0])\n",
    "            print(detection_class)\n",
    "            # Confianza de la detección\n",
    "            detection_confidence = float(detection_box.conf[0])\n",
    "            # Track id\n",
    "            track_id = str(int(detection_box.id[0].tolist())) if detection_box.id is not None else ''\n",
    "            print(f'track id: {track_id}, class: {detection_class}')\n",
    "\n",
    "            # Filtrar detecciones de personas y vehículos (ej., IDs de clases 0 para persona y 2 para coche en COCO)\n",
    "            if detection_class == 0:\n",
    "                if track_id not in track_history.get('person'):\n",
    "                    # Insertamos en la lista que hace seguimiento de los ids\n",
    "                    track_history.get('person').append(track_id)\n",
    "                    detection_numbers_per_class['people'] += 1\n",
    "                draw_rectangle(frame, 'person', (255, 0, 0), x1, y1, x2, y2)\n",
    "                csv_writer.writerow([frame_number, class_per_object.get(detection_class), detection_confidence, track_id, \n",
    "                                            x1, y1, x2, y2, flag_matricula, total_plate_confidence, 0, 0, 0, 0, '-'])\n",
    "                \n",
    "            else:\n",
    "                if track_id not in track_history.get('vehicle'):\n",
    "                    # Insertamos en la lista que hace seguimiento de los ids\n",
    "                    track_history.get('vehicle').append(track_id)\n",
    "                    detection_numbers_per_class['vehicles'] += 1\n",
    "                draw_rectangle(frame, 'vehicle', (0, 255, 0), x1, y1, x2, y2)\n",
    "\n",
    "                # Recortamos la ROI del vehiculo para detectar la matrícula\n",
    "                vehicle_box = frame[y1:y2, x1:x2]\n",
    "\n",
    "                \n",
    "                plate_results = plates_model.track(vehicle_box)\n",
    "                \n",
    "\n",
    "                for plate in plate_results:\n",
    "                    plate_boxes = plate.boxes\n",
    "                    for plate_box in plate_boxes:\n",
    "                        px1, py1, px2, py2 = map(int, plate_box.xyxy[0])\n",
    "                        plate_track_id = str(int(detection_box.id[0].tolist())) if detection_box.id is not None else ''\n",
    "\n",
    "                        print(f'plate id, {plate_track_id}')\n",
    "\n",
    "                        # Recortamos la ROI de la matricula detectada\n",
    "                        plate_detection = vehicle_box[py1:py2, px1:px2]\n",
    "\n",
    "                        if plate_detection is not None and plate_detection.size > 0: \n",
    "                            # Escalamos la zona de la matricula para una mejor detección\n",
    "                            scale_factor = 5  # Cambia a 3 si deseas un aumento mayor\n",
    "                            resized_plate = cv2.resize(plate_detection, (0, 0), fx=scale_factor, fy=scale_factor, interpolation=cv2.INTER_CUBIC)\n",
    "                            # Tratamiento de imagen para mejorar la detección\n",
    "                            plate_to_gray = cv2.cvtColor(resized_plate, cv2.COLOR_BGR2GRAY)\n",
    "                            filtered_plate = cv2.GaussianBlur(plate_to_gray, (5, 5), 0)\n",
    "                            binarized_plate = cv2.adaptiveThreshold(filtered_plate, 255, cv2.ADAPTIVE_THRESH_GAUSSIAN_C, cv2.THRESH_BINARY, 11, 2)\n",
    "                            inverted_plate = cv2.bitwise_not(binarized_plate)\n",
    "\n",
    "                            cv2.imshow('matrículas', inverted_plate)\n",
    "                        else:\n",
    "                            break\n",
    "\n",
    "\n",
    "                        \n",
    "                        # Detectamos texto con pytesseract\n",
    "                        plate_text = pytesseract.image_to_string(inverted_plate, config='--psm 7').strip()\n",
    "                        plate_data = pytesseract.image_to_data(inverted_plate, output_type=pytesseract.Output.DICT)\n",
    "\n",
    "                        # Calcular la confianza total de la matrícula detectada\n",
    "                        confidences = [int(conf) for conf in plate_data['conf'] if int(conf) > 0]\n",
    "                        total_plate_confidence = sum(confidences) / len(confidences) if confidences else 0       \n",
    "\n",
    "                        # Ponemos en el video la matricula leída\n",
    "                        draw_rectangle(frame, f\"Plate: {plate_text}\", (0, 0, 255), x1+px1, y1+py1, x1+px2, y1+py2)\n",
    "            \n",
    "\n",
    "                        # Flag para saber cuando se lee texto de matricula\n",
    "                        flag_matricula = False\n",
    "                        if plate_text:\n",
    "                            flag_matricula = True\n",
    "                        \n",
    "                        print(f'Matrícula: {plate_text}, Confidence: {float(total_plate_confidence)}')\n",
    "                        csv_writer.writerow([frame_number, class_per_object.get(detection_class), detection_confidence, track_id, \n",
    "                                            x1, y1, x2, y2, flag_matricula, total_plate_confidence, px1, py1, px2, py2, plate_text if is_valid_plate(plate_text) else '-'])\n",
    "\n",
    "                        if plate_track_id not in track_history.get('plate'):\n",
    "                            track_history.get('plate').append(plate_track_id)\n",
    "                            detection_numbers_per_class['plates'] += 1\n",
    "\n",
    "    frame_number += 1\n",
    "    cv2.imshow('Video', frame)\n",
    "    out.write(frame)\n",
    "    \n",
    "    # Salir si se presiona 'Esc'\n",
    "    if cv2.waitKey(20) & 0xFF == 27:\n",
    "        break\n",
    "\n",
    "# Libera los recursos\n",
    "cap.release()\n",
    "out.release()\n",
    "csv_file.close()\n",
    "cv2.destroyAllWindows()\n",
    "print(\"Video processing and CSV generation completed.\")\n",
    "# Mostrar conteo final\n",
    "print(f'Personas detectadas: {detection_numbers_per_class[\"people\"]}')\n",
    "print(f'Vehículos detectados: {detection_numbers_per_class[\"vehicles\"]}')\n",
    "print(f'Matrículas detectadas: {detection_numbers_per_class[\"plates\"]}')\n"
   ]
  }
 ],
 "metadata": {
  "kernelspec": {
   "display_name": "VC_P4",
   "language": "python",
   "name": "python3"
  },
  "language_info": {
   "codemirror_mode": {
    "name": "ipython",
    "version": 3
   },
   "file_extension": ".py",
   "mimetype": "text/x-python",
   "name": "python",
   "nbconvert_exporter": "python",
   "pygments_lexer": "ipython3",
   "version": "3.9.20"
  }
 },
 "nbformat": 4,
 "nbformat_minor": 2
}
