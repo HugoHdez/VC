import cv2
import numpy as np

# Diámetros conocidos de las monedas en mm
diametro_monedas = {
    '2 euros': 25.75, '1 euro': 23.25, '50 cents': 24.35,
    '20 cents': 22.25, '10 cents': 19.75, '5 cents': 21.25,
    '2 cents': 18.75, '1 cent': 16.25
}

valor_monedas = {
    '2 euros': 2.00, '1 euro': 1.00, '50 cents': 0.50,
    '20 cents': 0.20, '10 cents': 0.10, '5 cents': 0.05,
    '2 cents': 0.02, '1 cent': 0.01
}

monedas_detectadas = []
escala_mm_por_pixel = None  # Escala basada en 1€ (se calculará al hacer clic)

# 1. Cargar la imagen
img = cv2.imread('prueba.jpg')
gris = cv2.cvtColor(img, cv2.COLOR_BGR2GRAY)

# 2. Aplicar filtros para mejorar la detección
blur = cv2.GaussianBlur(gris, (9, 9), 2)
edges = cv2.Canny(blur, 50, 200)

"""# 3. Detectar círculos usando HoughCircles
circ = cv2.HoughCircles(
    edges,  
    cv2.HOUGH_GRADIENT,  
    dp=1,  # Ajustar para mejorar la resolución
    minDist=100,  # Reducir para detectar monedas más cercanas
    param1=70,    # Ajustar para mejorar la detección de bordes
    param2=25,    # Reducir para detectar más círculos
    minRadius=15,  # Ajustar a un radio mínimo razonable
    maxRadius=150,  # Ajustar a un tamaño máximo esperado
)"""

circ = cv2.HoughCircles(
        pimg_res,  # imagen 
        cv2.HOUGH_GRADIENT,  # tipo de detección
        1,
        100,  # distancia mínima entre círculos
        param1=115, # valor del gradiente
        param2=50, # umbral acumulador
        minRadius=50,  # radio mínimo
        maxRadius=150,  # radio máximo
    )

# 4. Procesar los círculos detectados
if circ is not None:
    circ = np.round(circ[0, :]).astype("int")
    for (x, y, r) in circ:
        # Dibujar cada círculo detectado en la imagen original
        cv2.circle(img, (x, y), r, (0, 255, 0), 2)

        # Guardar información de la moneda detectada
        monedas_detectadas.append({
            'x': x, 'y': y, 'r': r, 'valor': "Desconocida", 'x_original': x, 'y_original': y, 'r_original': r
        })

# 5. Función de clic para identificar monedas (ajustando coordenadas)
def seleccion_moneda(event, x, y, flags, param):
    global escala_mm_por_pixel

    if event == cv2.EVENT_LBUTTONDOWN:
        for moneda in monedas_detectadas:
            #Calculamos las areas
            area = np.sqrt((x - moneda['x_original']) ** 2 + (y - moneda['y_original']) ** 2)
            #Miramos si el click es dentro de una moneda
            if area <= moneda['r_original']:
                # Asumimos que la moneda seleccionada es de 1€
                if escala_mm_por_pixel is None:  # Solo asignamos valor si no se ha hecho
                    escala_mm_por_pixel = 23.25 / (2 * moneda['r_original'])  #proporcion mm/pixel del diámetro
                    print(f"Escala establecida: {escala_mm_por_pixel:.4f} mm/píxel")

                    # Asignar valor a la moneda seleccionada
                    moneda['valor'] = '1 euro'

                    # Asignar valor a todas las monedas detectadas en función de la escala
                    for m in monedas_detectadas:
                        if m['valor'] == "Desconocida":
                            diametro_estimado_mm = (2 * m['r']) * escala_mm_por_pixel
                            m['valor'] = asignar_valor(diametro_estimado_mm)

           
                print(f"Moneda seleccionada: {moneda['valor']}, Diámetro: {2 * moneda['r_original'] * escala_mm_por_pixel:.2f} mm")
                break


# 6. Asignar valor a la moneda según el diámetro en mm filtrando con tolerancia grande
def asignar_valor(diametro_mm):

    mejor_coincidencia = None
    menor_diferencia = 100.0  # Inicializa con un valor muy grande

    for nombre, diametro in diametro_monedas.items():
        # Verifica si la diferencia es menor que la menor diferencia actual
        diferencia=abs(diametro - diametro_mm)
        if  diferencia <= 3:  # Tolerancia de ±3 mm
            if diferencia < menor_diferencia:
                menor_diferencia = diferencia
                mejor_coincidencia = nombre

    return mejor_coincidencia if mejor_coincidencia else "Desconocida"



# Hacer que la ventana no se salga de la pantalla 
cv2.namedWindow("Monedas Detectadas", cv2.WINDOW_NORMAL)
cv2.imshow("Monedas Detectadas", img)
# Asignar la función de clic a la ventana
cv2.setMouseCallback("Monedas Detectadas", seleccion_moneda)
cv2.waitKey(0)
cv2.destroyAllWindows()

# 7. Calcular el total de dinero detectado
# Inicializar la variable total_dinero
total_dinero = 0.0
# Recorrer cada moneda detectada
for moneda in monedas_detectadas:
    # Obtener el valor de la moneda usando el nombre como clave
    valor = valor_monedas.get(moneda['valor'], 0)  #accedemos al valor del diccionario
    # Sumar el valor al total
    total_dinero += valor

# 8. Mostrar el resumen de monedas detectadas
print("\nResumen de Monedas Detectadas:")
for moneda in monedas_detectadas:
    print(f"{moneda['valor']}")

print(f"\nCantidad Total de Dinero: {total_dinero:.2f} €")
